{
  "nbformat": 4,
  "nbformat_minor": 0,
  "metadata": {
    "colab": {
      "name": "ListArray.ipynb",
      "provenance": [],
      "authorship_tag": "ABX9TyO4FXc6iYRpyPzl9O3+f2d9",
      "include_colab_link": true
    },
    "kernelspec": {
      "name": "python3",
      "display_name": "Python 3"
    }
  },
  "cells": [
    {
      "cell_type": "markdown",
      "metadata": {
        "id": "view-in-github",
        "colab_type": "text"
      },
      "source": [
        "<a href=\"https://colab.research.google.com/github/kanikaKanu90/notebook/blob/master/ListArray.ipynb\" target=\"_parent\"><img src=\"https://colab.research.google.com/assets/colab-badge.svg\" alt=\"Open In Colab\"/></a>"
      ]
    },
    {
      "cell_type": "code",
      "metadata": {
        "id": "jb9BKFrTd4Jt",
        "outputId": "037f34c0-6b8d-4703-9468-cdbf026aa08e",
        "colab": {
          "base_uri": "https://localhost:8080/",
          "height": 286
        }
      },
      "source": [
        "import sys\n",
        "x = ['1',2]\n",
        "\n",
        "for i, arg in enumerate(x):\n",
        "        print(f\"Argument {i:6}: {arg}\")\n",
        "        print(\"Number of arguments:\", len(sys.argv))\n",
        "\n",
        "acl = ':   '+x[0]+': '  +sys.argv[1]+'  :'+ sys.argv[2]\n",
        "acl\n",
        "\n",
        "print('Argument List:', str(sys.argv)) \n",
        "print(type(x))  \n",
        "\n",
        "y= [1,2,3]  # list\n",
        "print(type(y)) \n",
        "\n",
        "\n",
        "#array\n",
        "import numpy as np\n",
        "\n",
        "a = np.ones((3,2))        # a 2D array with 3 rows, 2 columns, filled with ones\n",
        "b = np.array([1,2,3])     # a 1D array initialised using a list [1,2,3]\n",
        "c = np.linspace(2,3,10)  # an array with 100 points beteen (and including) 2 and 3\n",
        "\n",
        "print(a,b,c)\n",
        "print(a*1.5)  # all elements of a times 1.5\n",
        "print(a.T+b)  # b added to the transpose of a\n",
        "\n",
        "\n",
        "\n",
        "\n",
        "  "
      ],
      "execution_count": null,
      "outputs": [
        {
          "output_type": "stream",
          "text": [
            "Argument      0: 1\n",
            "Number of arguments: 3\n",
            "Argument      1: 2\n",
            "Number of arguments: 3\n",
            "Argument List: ['/usr/local/lib/python3.6/dist-packages/ipykernel_launcher.py', '-f', '/root/.local/share/jupyter/runtime/kernel-e03ce80b-f818-4841-8e31-1686245395d5.json']\n",
            "<class 'list'>\n",
            "<class 'list'>\n",
            "[[1. 1.]\n",
            " [1. 1.]\n",
            " [1. 1.]] [1 2 3] [2.         2.11111111 2.22222222 2.33333333 2.44444444 2.55555556\n",
            " 2.66666667 2.77777778 2.88888889 3.        ]\n",
            "[[1.5 1.5]\n",
            " [1.5 1.5]\n",
            " [1.5 1.5]]\n",
            "[[2. 3. 4.]\n",
            " [2. 3. 4.]]\n"
          ],
          "name": "stdout"
        }
      ]
    }
  ]
}