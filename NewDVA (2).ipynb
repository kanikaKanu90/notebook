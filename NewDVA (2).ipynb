{
 "cells": [
  {
   "cell_type": "code",
   "execution_count": 3,
   "metadata": {},
   "outputs": [
    {
     "data": {
      "text/html": [
       "<div>\n",
       "<style scoped>\n",
       "    .dataframe tbody tr th:only-of-type {\n",
       "        vertical-align: middle;\n",
       "    }\n",
       "\n",
       "    .dataframe tbody tr th {\n",
       "        vertical-align: top;\n",
       "    }\n",
       "\n",
       "    .dataframe thead th {\n",
       "        text-align: right;\n",
       "    }\n",
       "</style>\n",
       "<table border=\"1\" class=\"dataframe\">\n",
       "  <thead>\n",
       "    <tr style=\"text-align: right;\">\n",
       "      <th></th>\n",
       "      <th>sepal_length</th>\n",
       "      <th>sepal_width</th>\n",
       "      <th>petal_length</th>\n",
       "      <th>petal_width</th>\n",
       "      <th>species</th>\n",
       "    </tr>\n",
       "  </thead>\n",
       "  <tbody>\n",
       "    <tr>\n",
       "      <th>0</th>\n",
       "      <td>5.1</td>\n",
       "      <td>3.5</td>\n",
       "      <td>1.4</td>\n",
       "      <td>0.2</td>\n",
       "      <td>setosa</td>\n",
       "    </tr>\n",
       "    <tr>\n",
       "      <th>1</th>\n",
       "      <td>4.9</td>\n",
       "      <td>3.0</td>\n",
       "      <td>1.4</td>\n",
       "      <td>0.2</td>\n",
       "      <td>setosa</td>\n",
       "    </tr>\n",
       "    <tr>\n",
       "      <th>2</th>\n",
       "      <td>4.7</td>\n",
       "      <td>3.2</td>\n",
       "      <td>1.3</td>\n",
       "      <td>0.2</td>\n",
       "      <td>setosa</td>\n",
       "    </tr>\n",
       "    <tr>\n",
       "      <th>3</th>\n",
       "      <td>4.6</td>\n",
       "      <td>3.1</td>\n",
       "      <td>1.5</td>\n",
       "      <td>0.2</td>\n",
       "      <td>setosa</td>\n",
       "    </tr>\n",
       "    <tr>\n",
       "      <th>4</th>\n",
       "      <td>5.0</td>\n",
       "      <td>3.6</td>\n",
       "      <td>1.4</td>\n",
       "      <td>0.2</td>\n",
       "      <td>setosa</td>\n",
       "    </tr>\n",
       "    <tr>\n",
       "      <th>...</th>\n",
       "      <td>...</td>\n",
       "      <td>...</td>\n",
       "      <td>...</td>\n",
       "      <td>...</td>\n",
       "      <td>...</td>\n",
       "    </tr>\n",
       "    <tr>\n",
       "      <th>145</th>\n",
       "      <td>6.7</td>\n",
       "      <td>3.0</td>\n",
       "      <td>5.2</td>\n",
       "      <td>2.3</td>\n",
       "      <td>virginica</td>\n",
       "    </tr>\n",
       "    <tr>\n",
       "      <th>146</th>\n",
       "      <td>6.3</td>\n",
       "      <td>2.5</td>\n",
       "      <td>5.0</td>\n",
       "      <td>1.9</td>\n",
       "      <td>virginica</td>\n",
       "    </tr>\n",
       "    <tr>\n",
       "      <th>147</th>\n",
       "      <td>6.5</td>\n",
       "      <td>3.0</td>\n",
       "      <td>5.2</td>\n",
       "      <td>2.0</td>\n",
       "      <td>virginica</td>\n",
       "    </tr>\n",
       "    <tr>\n",
       "      <th>148</th>\n",
       "      <td>6.2</td>\n",
       "      <td>3.4</td>\n",
       "      <td>5.4</td>\n",
       "      <td>2.3</td>\n",
       "      <td>virginica</td>\n",
       "    </tr>\n",
       "    <tr>\n",
       "      <th>149</th>\n",
       "      <td>5.9</td>\n",
       "      <td>3.0</td>\n",
       "      <td>5.1</td>\n",
       "      <td>1.8</td>\n",
       "      <td>virginica</td>\n",
       "    </tr>\n",
       "  </tbody>\n",
       "</table>\n",
       "<p>150 rows × 5 columns</p>\n",
       "</div>"
      ],
      "text/plain": [
       "     sepal_length  sepal_width  petal_length  petal_width    species\n",
       "0             5.1          3.5           1.4          0.2     setosa\n",
       "1             4.9          3.0           1.4          0.2     setosa\n",
       "2             4.7          3.2           1.3          0.2     setosa\n",
       "3             4.6          3.1           1.5          0.2     setosa\n",
       "4             5.0          3.6           1.4          0.2     setosa\n",
       "..            ...          ...           ...          ...        ...\n",
       "145           6.7          3.0           5.2          2.3  virginica\n",
       "146           6.3          2.5           5.0          1.9  virginica\n",
       "147           6.5          3.0           5.2          2.0  virginica\n",
       "148           6.2          3.4           5.4          2.3  virginica\n",
       "149           5.9          3.0           5.1          1.8  virginica\n",
       "\n",
       "[150 rows x 5 columns]"
      ]
     },
     "execution_count": 3,
     "metadata": {},
     "output_type": "execute_result"
    }
   ],
   "source": [
    "import numpy as np\n",
    "from bokeh.sampledata.iris import flowers\n",
    "flowers"
   ]
  },
  {
   "cell_type": "code",
   "execution_count": 4,
   "metadata": {},
   "outputs": [
    {
     "data": {
      "text/plain": [
       "array([[5.1, 3.5, 1.4, 0.2],\n",
       "       [4.9, 3. , 1.4, 0.2],\n",
       "       [4.7, 3.2, 1.3, 0.2],\n",
       "       [4.6, 3.1, 1.5, 0.2],\n",
       "       [5. , 3.6, 1.4, 0.2],\n",
       "       [5.4, 3.9, 1.7, 0.4],\n",
       "       [4.6, 3.4, 1.4, 0.3],\n",
       "       [5. , 3.4, 1.5, 0.2],\n",
       "       [4.4, 2.9, 1.4, 0.2],\n",
       "       [4.9, 3.1, 1.5, 0.1],\n",
       "       [5.4, 3.7, 1.5, 0.2],\n",
       "       [4.8, 3.4, 1.6, 0.2],\n",
       "       [4.8, 3. , 1.4, 0.1],\n",
       "       [4.3, 3. , 1.1, 0.1],\n",
       "       [5.8, 4. , 1.2, 0.2],\n",
       "       [5.7, 4.4, 1.5, 0.4],\n",
       "       [5.4, 3.9, 1.3, 0.4],\n",
       "       [5.1, 3.5, 1.4, 0.3],\n",
       "       [5.7, 3.8, 1.7, 0.3],\n",
       "       [5.1, 3.8, 1.5, 0.3],\n",
       "       [5.4, 3.4, 1.7, 0.2],\n",
       "       [5.1, 3.7, 1.5, 0.4],\n",
       "       [4.6, 3.6, 1. , 0.2],\n",
       "       [5.1, 3.3, 1.7, 0.5],\n",
       "       [4.8, 3.4, 1.9, 0.2],\n",
       "       [5. , 3. , 1.6, 0.2],\n",
       "       [5. , 3.4, 1.6, 0.4],\n",
       "       [5.2, 3.5, 1.5, 0.2],\n",
       "       [5.2, 3.4, 1.4, 0.2],\n",
       "       [4.7, 3.2, 1.6, 0.2],\n",
       "       [4.8, 3.1, 1.6, 0.2],\n",
       "       [5.4, 3.4, 1.5, 0.4],\n",
       "       [5.2, 4.1, 1.5, 0.1],\n",
       "       [5.5, 4.2, 1.4, 0.2],\n",
       "       [4.9, 3.1, 1.5, 0.2],\n",
       "       [5. , 3.2, 1.2, 0.2],\n",
       "       [5.5, 3.5, 1.3, 0.2],\n",
       "       [4.9, 3.6, 1.4, 0.1],\n",
       "       [4.4, 3. , 1.3, 0.2],\n",
       "       [5.1, 3.4, 1.5, 0.2],\n",
       "       [5. , 3.5, 1.3, 0.3],\n",
       "       [4.5, 2.3, 1.3, 0.3],\n",
       "       [4.4, 3.2, 1.3, 0.2],\n",
       "       [5. , 3.5, 1.6, 0.6],\n",
       "       [5.1, 3.8, 1.9, 0.4],\n",
       "       [4.8, 3. , 1.4, 0.3],\n",
       "       [5.1, 3.8, 1.6, 0.2],\n",
       "       [4.6, 3.2, 1.4, 0.2],\n",
       "       [5.3, 3.7, 1.5, 0.2],\n",
       "       [5. , 3.3, 1.4, 0.2],\n",
       "       [7. , 3.2, 4.7, 1.4],\n",
       "       [6.4, 3.2, 4.5, 1.5],\n",
       "       [6.9, 3.1, 4.9, 1.5],\n",
       "       [5.5, 2.3, 4. , 1.3],\n",
       "       [6.5, 2.8, 4.6, 1.5],\n",
       "       [5.7, 2.8, 4.5, 1.3],\n",
       "       [6.3, 3.3, 4.7, 1.6],\n",
       "       [4.9, 2.4, 3.3, 1. ],\n",
       "       [6.6, 2.9, 4.6, 1.3],\n",
       "       [5.2, 2.7, 3.9, 1.4],\n",
       "       [5. , 2. , 3.5, 1. ],\n",
       "       [5.9, 3. , 4.2, 1.5],\n",
       "       [6. , 2.2, 4. , 1. ],\n",
       "       [6.1, 2.9, 4.7, 1.4],\n",
       "       [5.6, 2.9, 3.6, 1.3],\n",
       "       [6.7, 3.1, 4.4, 1.4],\n",
       "       [5.6, 3. , 4.5, 1.5],\n",
       "       [5.8, 2.7, 4.1, 1. ],\n",
       "       [6.2, 2.2, 4.5, 1.5],\n",
       "       [5.6, 2.5, 3.9, 1.1],\n",
       "       [5.9, 3.2, 4.8, 1.8],\n",
       "       [6.1, 2.8, 4. , 1.3],\n",
       "       [6.3, 2.5, 4.9, 1.5],\n",
       "       [6.1, 2.8, 4.7, 1.2],\n",
       "       [6.4, 2.9, 4.3, 1.3],\n",
       "       [6.6, 3. , 4.4, 1.4],\n",
       "       [6.8, 2.8, 4.8, 1.4],\n",
       "       [6.7, 3. , 5. , 1.7],\n",
       "       [6. , 2.9, 4.5, 1.5],\n",
       "       [5.7, 2.6, 3.5, 1. ],\n",
       "       [5.5, 2.4, 3.8, 1.1],\n",
       "       [5.5, 2.4, 3.7, 1. ],\n",
       "       [5.8, 2.7, 3.9, 1.2],\n",
       "       [6. , 2.7, 5.1, 1.6],\n",
       "       [5.4, 3. , 4.5, 1.5],\n",
       "       [6. , 3.4, 4.5, 1.6],\n",
       "       [6.7, 3.1, 4.7, 1.5],\n",
       "       [6.3, 2.3, 4.4, 1.3],\n",
       "       [5.6, 3. , 4.1, 1.3],\n",
       "       [5.5, 2.5, 4. , 1.3],\n",
       "       [5.5, 2.6, 4.4, 1.2],\n",
       "       [6.1, 3. , 4.6, 1.4],\n",
       "       [5.8, 2.6, 4. , 1.2],\n",
       "       [5. , 2.3, 3.3, 1. ],\n",
       "       [5.6, 2.7, 4.2, 1.3],\n",
       "       [5.7, 3. , 4.2, 1.2],\n",
       "       [5.7, 2.9, 4.2, 1.3],\n",
       "       [6.2, 2.9, 4.3, 1.3],\n",
       "       [5.1, 2.5, 3. , 1.1],\n",
       "       [5.7, 2.8, 4.1, 1.3],\n",
       "       [6.3, 3.3, 6. , 2.5],\n",
       "       [5.8, 2.7, 5.1, 1.9],\n",
       "       [7.1, 3. , 5.9, 2.1],\n",
       "       [6.3, 2.9, 5.6, 1.8],\n",
       "       [6.5, 3. , 5.8, 2.2],\n",
       "       [7.6, 3. , 6.6, 2.1],\n",
       "       [4.9, 2.5, 4.5, 1.7],\n",
       "       [7.3, 2.9, 6.3, 1.8],\n",
       "       [6.7, 2.5, 5.8, 1.8],\n",
       "       [7.2, 3.6, 6.1, 2.5],\n",
       "       [6.5, 3.2, 5.1, 2. ],\n",
       "       [6.4, 2.7, 5.3, 1.9],\n",
       "       [6.8, 3. , 5.5, 2.1],\n",
       "       [5.7, 2.5, 5. , 2. ],\n",
       "       [5.8, 2.8, 5.1, 2.4],\n",
       "       [6.4, 3.2, 5.3, 2.3],\n",
       "       [6.5, 3. , 5.5, 1.8],\n",
       "       [7.7, 3.8, 6.7, 2.2],\n",
       "       [7.7, 2.6, 6.9, 2.3],\n",
       "       [6. , 2.2, 5. , 1.5],\n",
       "       [6.9, 3.2, 5.7, 2.3],\n",
       "       [5.6, 2.8, 4.9, 2. ],\n",
       "       [7.7, 2.8, 6.7, 2. ],\n",
       "       [6.3, 2.7, 4.9, 1.8],\n",
       "       [6.7, 3.3, 5.7, 2.1],\n",
       "       [7.2, 3.2, 6. , 1.8],\n",
       "       [6.2, 2.8, 4.8, 1.8],\n",
       "       [6.1, 3. , 4.9, 1.8],\n",
       "       [6.4, 2.8, 5.6, 2.1],\n",
       "       [7.2, 3. , 5.8, 1.6],\n",
       "       [7.4, 2.8, 6.1, 1.9],\n",
       "       [7.9, 3.8, 6.4, 2. ],\n",
       "       [6.4, 2.8, 5.6, 2.2],\n",
       "       [6.3, 2.8, 5.1, 1.5],\n",
       "       [6.1, 2.6, 5.6, 1.4],\n",
       "       [7.7, 3. , 6.1, 2.3],\n",
       "       [6.3, 3.4, 5.6, 2.4],\n",
       "       [6.4, 3.1, 5.5, 1.8],\n",
       "       [6. , 3. , 4.8, 1.8],\n",
       "       [6.9, 3.1, 5.4, 2.1],\n",
       "       [6.7, 3.1, 5.6, 2.4],\n",
       "       [6.9, 3.1, 5.1, 2.3],\n",
       "       [5.8, 2.7, 5.1, 1.9],\n",
       "       [6.8, 3.2, 5.9, 2.3],\n",
       "       [6.7, 3.3, 5.7, 2.5],\n",
       "       [6.7, 3. , 5.2, 2.3],\n",
       "       [6.3, 2.5, 5. , 1.9],\n",
       "       [6.5, 3. , 5.2, 2. ],\n",
       "       [6.2, 3.4, 5.4, 2.3],\n",
       "       [5.9, 3. , 5.1, 1.8]])"
      ]
     },
     "execution_count": 4,
     "metadata": {},
     "output_type": "execute_result"
    }
   ],
   "source": [
    "df = flowers.drop(\"species\",axis=1)\n",
    "df\n",
    "arr = df.to_numpy()\n",
    "arr"
   ]
  },
  {
   "cell_type": "code",
   "execution_count": 5,
   "metadata": {},
   "outputs": [
    {
     "data": {
      "text/plain": [
       "[array([5. , 3.3, 1.4, 0.2]),\n",
       " array([6.1, 2.8, 4. , 1.3]),\n",
       " array([6.9, 3.1, 5.4, 2.1])]"
      ]
     },
     "execution_count": 5,
     "metadata": {},
     "output_type": "execute_result"
    }
   ],
   "source": [
    "#checking the values\n",
    "def rand_medoids(arr):\n",
    "    ind = np.random.randint(0, len(arr)-1 ,3)\n",
    "    r=[]\n",
    "    for i in ind:\n",
    "        r1=arr[i]\n",
    "        r.append(r1)\n",
    "    return r\n",
    "rand = rand_medoids(arr)\n",
    "rand"
   ]
  },
  {
   "cell_type": "code",
   "execution_count": 71,
   "metadata": {},
   "outputs": [
    {
     "data": {
      "text/plain": [
       "[array([4.8, 3.4, 1.9, 0.2]),\n",
       " array([6.4, 2.9, 4.3, 1.3]),\n",
       " array([6.7, 3.3, 5.7, 2.1])]"
      ]
     },
     "execution_count": 71,
     "metadata": {},
     "output_type": "execute_result"
    }
   ],
   "source": [
    "def pass_medoids(arr,rand_medoid):\n",
    "# Use the following medoids if random medoid is set to false in the dashboard. These numbers are indices into the\n",
    "# data array.\n",
    "#     medoids = [24, 74, 124]\n",
    "    if rand_medoid==False:\n",
    "         ind = [24, 74, 124]\n",
    "    elif rand_medoid==True:\n",
    "          ind = np.random.randint(0, len(arr)-1 ,3)\n",
    "    r=[]\n",
    "    for i in ind:\n",
    "        r1=arr[i]\n",
    "        r.append(r1)\n",
    "    return r\n",
    "rand = pass_medoids(arr,False)\n",
    "rand"
   ]
  },
  {
   "cell_type": "code",
   "execution_count": 7,
   "metadata": {},
   "outputs": [],
   "source": [
    "#Function for measuring distance of data points from medoids \n",
    "\n",
    "def distance(dpArr,med_arr):\n",
    "    m2=[]\n",
    "    for k in dpArr:\n",
    "        p=[]\n",
    "        mj=[]\n",
    "        if len(med_arr) == 4:\n",
    "            mj.append(med_arr)  # if only one medoid is passed, converting it into array\n",
    "            mj = np.asarray(mj)\n",
    "            med_arr=mj\n",
    "        for pm in med_arr :\n",
    "#         d=arr[124]\n",
    "          diff = abs(k-pm)\n",
    "          dist = np.sum(diff)\n",
    "          p.append(dist)\n",
    "        m2.append(p)\n",
    "    return m2"
   ]
  },
  {
   "cell_type": "code",
   "execution_count": 38,
   "metadata": {},
   "outputs": [
    {
     "data": {
      "text/plain": [
       "array([[4.8, 3.4, 1.9, 0.2],\n",
       "       [6.4, 2.9, 4.3, 1.3],\n",
       "       [6.7, 3.3, 5.7, 2.1]])"
      ]
     },
     "execution_count": 38,
     "metadata": {},
     "output_type": "execute_result"
    }
   ],
   "source": [
    "#Intializing the predefined medoids\n",
    "m = [24, 74, 124]\n",
    "pre_med = arr[m[0]],arr[m[1]],arr[m[2]]\n",
    "pre_med\n",
    "pre_medoids = np.asarray(pre_med) #array to numpy array\n",
    "pre_medoids"
   ]
  },
  {
   "cell_type": "code",
   "execution_count": 9,
   "metadata": {},
   "outputs": [],
   "source": [
    "#ClusterAssignment to data points\n",
    "\n",
    "def Cluster_assignment(k,med_arr):  # k is the array of data points , med_arr is the mediod or the set of mediods passed\n",
    "    m2=[]\n",
    "    F=distance(k,med_arr)\n",
    "    F = np.asarray(F)\n",
    "    m1=F.argmin(axis=1)\n",
    "    return m1"
   ]
  },
  {
   "cell_type": "code",
   "execution_count": 10,
   "metadata": {},
   "outputs": [
    {
     "data": {
      "text/plain": [
       "1"
      ]
     },
     "execution_count": 10,
     "metadata": {},
     "output_type": "execute_result"
    }
   ],
   "source": [
    "mj=[]\n",
    "med_arr1=pre_medoids\n",
    "e=len(med_arr1)\n",
    "mj.append(med_arr1)\n",
    "mj = np.asarray(mj)\n",
    "med_arr1=mj\n",
    "g=mj.shape\n",
    "# med_arr1 = np.asarray(med_arr1)\n",
    "e=len(med_arr1)\n",
    "e"
   ]
  },
  {
   "cell_type": "code",
   "execution_count": 11,
   "metadata": {},
   "outputs": [],
   "source": [
    "def Cost_a(k,med_arr):\n",
    "    m2=[]\n",
    "#     if len([med_arr])==1:\n",
    "#         med_arr=[med_arr]\n",
    "    F=distance(k,med_arr)\n",
    "    F = np.asarray(F)\n",
    "    m2=F.min(axis=1)\n",
    "    return m2"
   ]
  },
  {
   "cell_type": "code",
   "execution_count": 568,
   "metadata": {},
   "outputs": [],
   "source": [
    "# def Cluster_cost(arr,meds):\n",
    "    label= Cluster_assignment(arr,meds)\n",
    "    dis2=[]\n",
    "    dis = distance(arr,meds)\n",
    "    new_med=meds\n",
    "    for i in set(label):\n",
    "        dpoint_cluster=arr[label==i]\n",
    "        avg_dsmlrty = np.sum(Cost_a(dpoint_cluster,pre_medoids[i]))\n",
    "        for dPs in dpoint_cluster:\n",
    "            new_dsmlrty=np.sum(Cost_a(dpoint_cluster,dPs))\n",
    "            if new_dsmlrty < avg_dsmlrty:\n",
    "                avg_dsmlrty =  new_dsmlrty\n",
    "                new_med[i]= dPs  \n",
    "                print(i)\n",
    "        print(avg_dsmlrty)\n",
    "        return new_med ,  avg_dsmlrty"
   ]
  },
  {
   "cell_type": "code",
   "execution_count": 118,
   "metadata": {},
   "outputs": [],
   "source": [
    "def Cluster_cost(arr,meds):\n",
    "    label= Cluster_assignment(arr,meds)\n",
    "    dis2=[]\n",
    "    dis = distance(arr,meds)\n",
    "    new_med=meds\n",
    "    avg_dsmlrty=[]*3\n",
    "    print(set(label))\n",
    "    for i in set(label):\n",
    "        dpoint_cluster=arr[label==i]\n",
    "        avg_dsmlrty.append(np.sum(Cost_a(dpoint_cluster,pre_medoids[i])))\n",
    "        for dPs in dpoint_cluster:\n",
    "            new_dsmlrty=np.sum(Cost_a(dpoint_cluster,dPs))\n",
    "            if new_dsmlrty < avg_dsmlrty[i]:\n",
    "                avg_dsmlrty[i] =  new_dsmlrty\n",
    "                new_med[i]= dPs\n",
    "        cost=np.sum(avg_dsmlrty)\n",
    "    return new_med ,  cost"
   ]
  },
  {
   "cell_type": "code",
   "execution_count": 85,
   "metadata": {},
   "outputs": [
    {
     "name": "stdout",
     "output_type": "stream",
     "text": [
      "0\n",
      "1\n",
      "2\n"
     ]
    }
   ],
   "source": [
    "label= Cluster_assignment(arr,pre_medoids)\n",
    "dis2=[]\n",
    "dis = distance(arr,rand)\n",
    "avg_dsmlrty=[0,0,0]\n",
    "new_med=rand\n",
    "for i in set(label):\n",
    "    dpoint_cluster=arr[label==i]\n",
    "    print(i)"
   ]
  },
  {
   "cell_type": "code",
   "execution_count": 138,
   "metadata": {},
   "outputs": [],
   "source": [
    "def convergence(oldMed,newMed):\n",
    "    return set([tuple(x) for x in oldMed])==set([tuple(x) for x in newMed])"
   ]
  },
  {
   "cell_type": "code",
   "execution_count": 137,
   "metadata": {
    "scrolled": false
   },
   "outputs": [
    {
     "name": "stdout",
     "output_type": "stream",
     "text": [
      "[array([6.4, 2.8, 5.6, 2.1]), array([7.1, 3. , 5.9, 2.1]), array([6.1, 2.8, 4.7, 1.2])]\n",
      "{0, 1, 2}\n",
      "medoids:  [array([6.4, 2.8, 5.6, 2.1]), array([7.1, 3. , 5.9, 2.1]), array([5.6, 2.9, 3.6, 1.3])]\n",
      "cost is :  360.89999999999986\n"
     ]
    }
   ],
   "source": [
    "rand=pass_medoids(arr,True)\n",
    "print(rand)\n",
    "# f,h =Cluster_cost(arr,pre_medoids)\n",
    "i,j=Cluster_cost(arr,rand)\n",
    "print ('medoids: ' , i)\n",
    "print('cost is : ' , j)"
   ]
  },
  {
   "cell_type": "code",
   "execution_count": 420,
   "metadata": {},
   "outputs": [],
   "source": [
    "# def k_medoids(arr,pre_or_rand):\n",
    "    # number of clusters:\n",
    "    k = 3\n",
    "    # Use the following medoids if random medoid is set to false in the dashboard. These numbers are indices into the\n",
    "    # data array.\n",
    "#     medoids = [24, 74, 124]\n",
    "    med=pass_medoids(arr,pre_or_rand)\n",
    "    # f,h =Cluster_cost(arr,pre_medoids)\n",
    "    medoids,cost=Cluster_cost(arr,med)\n",
    "    print ('medoids: ' , medoids)\n",
    "    print('cost is : ' , cost)\n",
    "    converged = False\n",
    "        labels = np.zeros(len(Array))\n",
    "        i = 1\n",
    "        while (not converged):\n",
    "              old_medoids = medoids.copy()\n",
    "              D = distance(arr, medoids) \n",
    "              labels = Cluster_assignment(Array,medoids)\n",
    "              medoids,cost =Cluster_cost(arr,med)\n",
    "              converged = convergence(old_medoids, medoids)\n",
    "              i += 1\n",
    "              return (medoids,labels)"
   ]
  },
  {
   "cell_type": "code",
   "execution_count": 219,
   "metadata": {},
   "outputs": [],
   "source": [
    "def k_medoids(arr,pre_or_rand):\n",
    "    # number of clusters:\n",
    "    k = 3\n",
    "    # Use the following medoids if random medoid is set to false in the dashboard. These numbers are indices into the\n",
    "    # data array.\n",
    "#     medoids = [24, 74, 124]\n",
    "    med=pass_medoids(arr,pre_or_rand)\n",
    "    # f,h =Cluster_cost(arr,pre_medoids)\n",
    "    medoids,cost=Cluster_cost(arr,med)\n",
    "#     print ('medoids: ' , medoids)\n",
    "#     print('cost is : ' , cost)\n",
    "    converged = False\n",
    "    i = 1\n",
    "    while (not converged):\n",
    "           old_medoids = medoids.copy()\n",
    "           medoids,cost = Cluster_cost(arr,med)\n",
    "           converged = convergence(old_medoids, medoids)\n",
    "           i += 1\n",
    "    return medoids,cost"
   ]
  },
  {
   "cell_type": "code",
   "execution_count": 220,
   "metadata": {},
   "outputs": [
    {
     "name": "stdout",
     "output_type": "stream",
     "text": [
      "{0, 1, 2}\n",
      "{0, 1, 2}\n",
      "{0, 1, 2}\n",
      "medoids:  [array([6.8, 3. , 5.5, 2.1]), array([5. , 3.4, 1.5, 0.2]), array([5.7, 2.8, 4.5, 1.3])]\n",
      "cost is :  162.5\n"
     ]
    }
   ],
   "source": [
    "medoids,cost = k_medoids(arr,True)\n",
    "print ('medoids: ' , medoids)\n",
    "print('cost is : ' , cost)"
   ]
  }
 ],
 "metadata": {
  "kernelspec": {
   "display_name": "Python 3",
   "language": "python",
   "name": "python3"
  },
  "language_info": {
   "codemirror_mode": {
    "name": "ipython",
    "version": 3
   },
   "file_extension": ".py",
   "mimetype": "text/x-python",
   "name": "python",
   "nbconvert_exporter": "python",
   "pygments_lexer": "ipython3",
   "version": "3.8.5"
  }
 },
 "nbformat": 4,
 "nbformat_minor": 4
}
