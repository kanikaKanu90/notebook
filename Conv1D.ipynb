{
  "nbformat": 4,
  "nbformat_minor": 0,
  "metadata": {
    "colab": {
      "name": "Conv1D.ipynb",
      "provenance": [],
      "collapsed_sections": [],
      "authorship_tag": "ABX9TyOPahqkhuLJLQ8BgnexJG2v",
      "include_colab_link": true
    },
    "kernelspec": {
      "name": "python3",
      "display_name": "Python 3"
    }
  },
  "cells": [
    {
      "cell_type": "markdown",
      "metadata": {
        "id": "view-in-github",
        "colab_type": "text"
      },
      "source": [
        "<a href=\"https://colab.research.google.com/github/kanikaKanu90/notebook/blob/master/Conv1D.ipynb\" target=\"_parent\"><img src=\"https://colab.research.google.com/assets/colab-badge.svg\" alt=\"Open In Colab\"/></a>"
      ]
    },
    {
      "cell_type": "code",
      "metadata": {
        "id": "BiB4ASj8a1Os",
        "outputId": "c4dec6d8-1bd5-4061-ba7f-e02034dead2f",
        "colab": {
          "base_uri": "https://localhost:8080/",
          "height": 84
        }
      },
      "source": [
        "from keras.datasets import imdb\n",
        "from keras.preprocessing import sequence\n",
        "\n",
        "max_features=10000\n",
        "max_len=500\n",
        "\n",
        "(x_train, y_train),(x_test, y_test) = imdb.load_data(num_words= max_features)\n",
        "print(\"Length of Sequence: Train: \", len(x_train), \" Test: \", len(x_test))\n",
        "print(x_train.shape, y_train.shape)\n",
        "\n",
        "x_train = sequence.pad_sequences(x_train, maxlen=max_len)\n",
        "x_test = sequence.pad_sequences(x_test, maxlen=max_len)\n",
        "print(\"Length of Sequence after padding: Train: \", len(x_train), \" Test: \", len(x_test))\n",
        "print(x_train.shape, x_test.shape)\n"
      ],
      "execution_count": 9,
      "outputs": [
        {
          "output_type": "stream",
          "text": [
            "Length of Sequence: Train:  25000  Test:  25000\n",
            "(25000,) (25000,)\n",
            "Length of Sequence after padding: Train:  25000  Test:  25000\n",
            "(25000, 500) (25000, 500)\n"
          ],
          "name": "stdout"
        }
      ]
    },
    {
      "cell_type": "code",
      "metadata": {
        "id": "fUwqZcDjf71B",
        "outputId": "59ec26c1-9ee6-463c-e8af-fb42bbc20f59",
        "colab": {
          "base_uri": "https://localhost:8080/",
          "height": 353
        }
      },
      "source": [
        "from keras.models import Sequential\n",
        "from keras import layers\n",
        "from keras.optimizers import RMSprop\n",
        "\n",
        "model=  Sequential()\n",
        "#Turns positive integers (indexes) into dense vectors of fixed size.\n",
        "model.add(layers.Embedding(max_features, 128, input_length=max_len)) #input_dim, output_dim\n",
        "  # input_length: Length of input sequences, when it is constant.\n",
        "  #   This argument is required if you are going to connect\n",
        "  #   Flatten then Dense layers upstream\n",
        "  #   (without it, the shape of the dense outputs cannot be computed).\n",
        "\n",
        "model.add(layers.Conv1D(32, 7, activation='relu'))\n",
        "\n",
        "# input 3D tensors with shape (batch, time, features) and\n",
        "# returns similarly shaped 3D tensors. The convolution window is a 1D window on the\n",
        "# temporal axis: axis 1 in the input tensor.\n",
        "\n",
        "# input shape (10, 128) for sequences of 10 vectors of 128-dimensional vectors,\n",
        "# or (None, 128) for variable-length sequences of 128-dimensional vectors\n",
        "\n",
        "#  The inputs are 128-length vectors with 10 timesteps, and the batch size is 4.\n",
        "#  input_shape = (4, 10, 128)\n",
        "\n",
        "# Input shape:\n",
        "#   3+D tensor with shape: batch_shape + (steps, input_dim)\n",
        "\n",
        "# Output shape:\n",
        "#   3+D tensor with shape: batch_shape + (new_steps, filters)\n",
        "#     steps value might have changed due to padding or strides.\n",
        "\n",
        "model.add(layers.MaxPool1D(5)) #Max pooling operation for 1D temporal data.Downsamples the input representation by taking the maximum value over the window defined by pool_size\n",
        "\n",
        "# such as 2D average pooling and\n",
        "# max pooling, used in convnets to spatially downsample image tensors. The 2D pooling\n",
        "# operation has a 1D equivalent: extracting 1D patches (subsequences) from an input\n",
        "# and outputting the maximum value (max pooling) or average value (average pooling).\n",
        "# Just as with 2D convnets, this is used for reducing the length of 1D inputs (subsampling).\n",
        "\n",
        "model.add(layers.Conv1D(32, 7, activation='relu'))\n",
        "model.add(layers.GlobalMaxPooling1D())\n",
        "model.add(layers.Dense(1))\n",
        "\n",
        "model.summary()"
      ],
      "execution_count": 24,
      "outputs": [
        {
          "output_type": "stream",
          "text": [
            "Model: \"sequential_5\"\n",
            "_________________________________________________________________\n",
            "Layer (type)                 Output Shape              Param #   \n",
            "=================================================================\n",
            "embedding_3 (Embedding)      (None, 500, 128)          1280000   \n",
            "_________________________________________________________________\n",
            "conv1d_7 (Conv1D)            (None, 494, 32)           28704     \n",
            "_________________________________________________________________\n",
            "max_pooling1d_4 (MaxPooling1 (None, 98, 32)            0         \n",
            "_________________________________________________________________\n",
            "conv1d_8 (Conv1D)            (None, 92, 32)            7200      \n",
            "_________________________________________________________________\n",
            "global_max_pooling1d_2 (Glob (None, 32)                0         \n",
            "_________________________________________________________________\n",
            "dense_2 (Dense)              (None, 1)                 33        \n",
            "=================================================================\n",
            "Total params: 1,315,937\n",
            "Trainable params: 1,315,937\n",
            "Non-trainable params: 0\n",
            "_________________________________________________________________\n"
          ],
          "name": "stdout"
        }
      ]
    },
    {
      "cell_type": "code",
      "metadata": {
        "id": "LsfmVJlU00HG",
        "outputId": "fdf75664-caa2-406f-ea51-8540aa9aa077",
        "colab": {
          "base_uri": "https://localhost:8080/",
          "height": 353
        }
      },
      "source": [
        "model.compile(optimizer=RMSprop(lr=1e-4),\n",
        "loss='binary_crossentropy',\n",
        "metrics=['acc'])\n",
        "\n",
        "history = model.fit(x_train, y_train,\n",
        "epochs=10,\n",
        "batch_size=128,\n",
        "validation_split=0.2)"
      ],
      "execution_count": 25,
      "outputs": [
        {
          "output_type": "stream",
          "text": [
            "Epoch 1/10\n",
            "157/157 [==============================] - 77s 491ms/step - loss: 0.8093 - acc: 0.5080 - val_loss: 0.6868 - val_acc: 0.5508\n",
            "Epoch 2/10\n",
            "157/157 [==============================] - 76s 482ms/step - loss: 0.6706 - acc: 0.6497 - val_loss: 0.6639 - val_acc: 0.6738\n",
            "Epoch 3/10\n",
            "157/157 [==============================] - 76s 482ms/step - loss: 0.6251 - acc: 0.7614 - val_loss: 0.6094 - val_acc: 0.7200\n",
            "Epoch 4/10\n",
            "157/157 [==============================] - 75s 478ms/step - loss: 0.5273 - acc: 0.8148 - val_loss: 0.4835 - val_acc: 0.8130\n",
            "Epoch 5/10\n",
            "157/157 [==============================] - 75s 479ms/step - loss: 0.4086 - acc: 0.8511 - val_loss: 0.4197 - val_acc: 0.8380\n",
            "Epoch 6/10\n",
            "157/157 [==============================] - 75s 477ms/step - loss: 0.3406 - acc: 0.8785 - val_loss: 0.4239 - val_acc: 0.8480\n",
            "Epoch 7/10\n",
            "157/157 [==============================] - 75s 478ms/step - loss: 0.3004 - acc: 0.8970 - val_loss: 0.4105 - val_acc: 0.8600\n",
            "Epoch 8/10\n",
            "157/157 [==============================] - 76s 483ms/step - loss: 0.2675 - acc: 0.9118 - val_loss: 0.4303 - val_acc: 0.8656\n",
            "Epoch 9/10\n",
            "157/157 [==============================] - 76s 487ms/step - loss: 0.2410 - acc: 0.9215 - val_loss: 0.5162 - val_acc: 0.8586\n",
            "Epoch 10/10\n",
            "157/157 [==============================] - 80s 510ms/step - loss: 0.2184 - acc: 0.9296 - val_loss: 0.4795 - val_acc: 0.8718\n"
          ],
          "name": "stdout"
        }
      ]
    }
  ]
}