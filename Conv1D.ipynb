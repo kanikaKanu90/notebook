{
  "nbformat": 4,
  "nbformat_minor": 0,
  "metadata": {
    "colab": {
      "name": "Conv1D.ipynb",
      "provenance": [],
      "collapsed_sections": [],
      "authorship_tag": "ABX9TyM6ROQiSVT7TSFMZIS3/OhP",
      "include_colab_link": true
    },
    "kernelspec": {
      "name": "python3",
      "display_name": "Python 3"
    }
  },
  "cells": [
    {
      "cell_type": "markdown",
      "metadata": {
        "id": "view-in-github",
        "colab_type": "text"
      },
      "source": [
        "<a href=\"https://colab.research.google.com/github/kanikaKanu90/notebook/blob/master/Conv1D.ipynb\" target=\"_parent\"><img src=\"https://colab.research.google.com/assets/colab-badge.svg\" alt=\"Open In Colab\"/></a>"
      ]
    },
    {
      "cell_type": "code",
      "metadata": {
        "id": "BiB4ASj8a1Os",
        "outputId": "c4dec6d8-1bd5-4061-ba7f-e02034dead2f",
        "colab": {
          "base_uri": "https://localhost:8080/",
          "height": 84
        }
      },
      "source": [
        "from keras.datasets import imdb\n",
        "from keras.preprocessing import sequence\n",
        "\n",
        "max_features=10000\n",
        "max_len=500\n",
        "\n",
        "(x_train, y_train),(x_test, y_test) = imdb.load_data(num_words= max_features)\n",
        "print(\"Length of Sequence: Train: \", len(x_train), \" Test: \", len(x_test))\n",
        "print(x_train.shape, y_train.shape)\n",
        "\n",
        "x_train = sequence.pad_sequences(x_train, maxlen=max_len)\n",
        "x_test = sequence.pad_sequences(x_test, maxlen=max_len)\n",
        "print(\"Length of Sequence after padding: Train: \", len(x_train), \" Test: \", len(x_test))\n",
        "print(x_train.shape, x_test.shape)\n"
      ],
      "execution_count": 9,
      "outputs": [
        {
          "output_type": "stream",
          "text": [
            "Length of Sequence: Train:  25000  Test:  25000\n",
            "(25000,) (25000,)\n",
            "Length of Sequence after padding: Train:  25000  Test:  25000\n",
            "(25000, 500) (25000, 500)\n"
          ],
          "name": "stdout"
        }
      ]
    },
    {
      "cell_type": "code",
      "metadata": {
        "id": "fUwqZcDjf71B"
      },
      "source": [
        "from keras.models import Sequential\n",
        "from keras import layers\n",
        "from keras.optimizers import RMSProp\n",
        "\n",
        "model=  Sequential()\n",
        "model.add(layers.Embedding())\n",
        "model.add(layers.Conv1D())\n",
        "model.add(layers.Conv1D())\n",
        "model.add(layers.GlobalMaxpooling())\n",
        "model.add(layers.Dense())\n",
        "\n",
        "model.summary()"
      ],
      "execution_count": null,
      "outputs": []
    }
  ]
}