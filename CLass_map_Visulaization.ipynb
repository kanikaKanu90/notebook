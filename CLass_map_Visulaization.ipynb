{
  "nbformat": 4,
  "nbformat_minor": 0,
  "metadata": {
    "colab": {
      "name": "CLass map Visulaization.ipynb",
      "provenance": [],
      "authorship_tag": "ABX9TyPmeb31Eb9fyw431h9zclCI",
      "include_colab_link": true
    },
    "kernelspec": {
      "name": "python3",
      "display_name": "Python 3"
    }
  },
  "cells": [
    {
      "cell_type": "markdown",
      "metadata": {
        "id": "view-in-github",
        "colab_type": "text"
      },
      "source": [
        "<a href=\"https://colab.research.google.com/github/kanikaKanu90/notebook/blob/master/CLass_map_Visulaization.ipynb\" target=\"_parent\"><img src=\"https://colab.research.google.com/assets/colab-badge.svg\" alt=\"Open In Colab\"/></a>"
      ]
    },
    {
      "cell_type": "code",
      "metadata": {
        "id": "uEOToYSNI89_",
        "outputId": "6a9ebff2-a29b-492b-98e8-dbe9574d3118",
        "colab": {
          "base_uri": "https://localhost:8080/",
          "height": 994
        }
      },
      "source": [
        "# “Grad-CAM: Visual\n",
        "# Explanations from Deep Networks via Gradient-based Localization.”2 It’s very simple:\n",
        "# it consists of taking the output feature map of a convolution layer, given an input\n",
        "# image, and weighing every channel in that feature map by the gradient of the class\n",
        "# with respect to the channel. Intuitively, one way to understand this trick is that you’re\n",
        "# weighting a spatial map of “how intensely the input image activates different channels”\n",
        "# by “how important each channel is with regard to the class,” resulting in a spatial\n",
        "# map of “how intensely the input image activates the class.”\n",
        "\n",
        "from keras.applications.vgg16 import VGG16\n",
        "\n",
        "model = VGG16(weights='imagenet')\n",
        "model._make_predict_function()\n",
        "model.summary()"
      ],
      "execution_count": 25,
      "outputs": [
        {
          "output_type": "stream",
          "text": [
            "WARNING:tensorflow:From /usr/local/lib/python3.6/dist-packages/tensorflow/python/keras/engine/training_v1.py:2070: Model.state_updates (from tensorflow.python.keras.engine.training) is deprecated and will be removed in a future version.\n",
            "Instructions for updating:\n",
            "This property should not be used in TensorFlow 2.0, as updates are applied automatically.\n",
            "Model: \"vgg16\"\n",
            "_________________________________________________________________\n",
            "Layer (type)                 Output Shape              Param #   \n",
            "=================================================================\n",
            "input_1 (InputLayer)         [(None, 224, 224, 3)]     0         \n",
            "_________________________________________________________________\n",
            "block1_conv1 (Conv2D)        (None, 224, 224, 64)      1792      \n",
            "_________________________________________________________________\n",
            "block1_conv2 (Conv2D)        (None, 224, 224, 64)      36928     \n",
            "_________________________________________________________________\n",
            "block1_pool (MaxPooling2D)   (None, 112, 112, 64)      0         \n",
            "_________________________________________________________________\n",
            "block2_conv1 (Conv2D)        (None, 112, 112, 128)     73856     \n",
            "_________________________________________________________________\n",
            "block2_conv2 (Conv2D)        (None, 112, 112, 128)     147584    \n",
            "_________________________________________________________________\n",
            "block2_pool (MaxPooling2D)   (None, 56, 56, 128)       0         \n",
            "_________________________________________________________________\n",
            "block3_conv1 (Conv2D)        (None, 56, 56, 256)       295168    \n",
            "_________________________________________________________________\n",
            "block3_conv2 (Conv2D)        (None, 56, 56, 256)       590080    \n",
            "_________________________________________________________________\n",
            "block3_conv3 (Conv2D)        (None, 56, 56, 256)       590080    \n",
            "_________________________________________________________________\n",
            "block3_pool (MaxPooling2D)   (None, 28, 28, 256)       0         \n",
            "_________________________________________________________________\n",
            "block4_conv1 (Conv2D)        (None, 28, 28, 512)       1180160   \n",
            "_________________________________________________________________\n",
            "block4_conv2 (Conv2D)        (None, 28, 28, 512)       2359808   \n",
            "_________________________________________________________________\n",
            "block4_conv3 (Conv2D)        (None, 28, 28, 512)       2359808   \n",
            "_________________________________________________________________\n",
            "block4_pool (MaxPooling2D)   (None, 14, 14, 512)       0         \n",
            "_________________________________________________________________\n",
            "block5_conv1 (Conv2D)        (None, 14, 14, 512)       2359808   \n",
            "_________________________________________________________________\n",
            "block5_conv2 (Conv2D)        (None, 14, 14, 512)       2359808   \n",
            "_________________________________________________________________\n",
            "block5_conv3 (Conv2D)        (None, 14, 14, 512)       2359808   \n",
            "_________________________________________________________________\n",
            "block5_pool (MaxPooling2D)   (None, 7, 7, 512)         0         \n",
            "_________________________________________________________________\n",
            "flatten (Flatten)            (None, 25088)             0         \n",
            "_________________________________________________________________\n",
            "fc1 (Dense)                  (None, 4096)              102764544 \n",
            "_________________________________________________________________\n",
            "fc2 (Dense)                  (None, 4096)              16781312  \n",
            "_________________________________________________________________\n",
            "predictions (Dense)          (None, 1000)              4097000   \n",
            "=================================================================\n",
            "Total params: 138,357,544\n",
            "Trainable params: 138,357,544\n",
            "Non-trainable params: 0\n",
            "_________________________________________________________________\n"
          ],
          "name": "stdout"
        }
      ]
    },
    {
      "cell_type": "code",
      "metadata": {
        "id": "rZWOQcNRKyXs",
        "outputId": "b7e3c5e9-73fe-446d-bd8a-1fef8799679a",
        "colab": {
          "base_uri": "https://localhost:8080/",
          "height": 840
        }
      },
      "source": [
        "from keras.preprocessing import image\n",
        "from keras.applications.vgg16 import preprocess_input, decode_predictions\n",
        "import numpy as np\n",
        "\n",
        "img_path = '/content/sample_data/images.jpg'\n",
        "\n",
        "img = image.load_img(img_path, target_size=(224, 224))\n",
        "x = image.img_to_array(img)\n",
        "x = np.expand_dims(x, axis=0)\n",
        "x = preprocess_input(x)\n",
        "\n",
        "x"
      ],
      "execution_count": 26,
      "outputs": [
        {
          "output_type": "execute_result",
          "data": {
            "text/plain": [
              "array([[[[133.061   ,  94.221   ,  71.32    ],\n",
              "         [133.061   ,  94.221   ,  71.32    ],\n",
              "         [133.061   ,  94.221   ,  71.32    ],\n",
              "         ...,\n",
              "         [135.061   ,  96.221   ,  73.32    ],\n",
              "         [134.061   ,  95.221   ,  72.32    ],\n",
              "         [134.061   ,  95.221   ,  72.32    ]],\n",
              "\n",
              "        [[133.061   ,  94.221   ,  71.32    ],\n",
              "         [133.061   ,  94.221   ,  71.32    ],\n",
              "         [133.061   ,  94.221   ,  71.32    ],\n",
              "         ...,\n",
              "         [135.061   ,  96.221   ,  73.32    ],\n",
              "         [134.061   ,  95.221   ,  72.32    ],\n",
              "         [134.061   ,  95.221   ,  72.32    ]],\n",
              "\n",
              "        [[133.061   ,  94.221   ,  71.32    ],\n",
              "         [133.061   ,  94.221   ,  71.32    ],\n",
              "         [133.061   ,  94.221   ,  71.32    ],\n",
              "         ...,\n",
              "         [134.061   ,  95.221   ,  72.32    ],\n",
              "         [134.061   ,  95.221   ,  72.32    ],\n",
              "         [134.061   ,  95.221   ,  72.32    ]],\n",
              "\n",
              "        ...,\n",
              "\n",
              "        [[ 41.060997,  72.221   ,  58.32    ],\n",
              "         [ 38.060997,  69.221   ,  55.32    ],\n",
              "         [ 58.060997,  92.221   ,  77.32    ],\n",
              "         ...,\n",
              "         [ 39.060997,  82.221   ,  54.32    ],\n",
              "         [ 33.060997,  67.221   ,  52.32    ],\n",
              "         [ 24.060997,  58.221   ,  43.32    ]],\n",
              "\n",
              "        [[ 57.060997,  88.221   ,  74.32    ],\n",
              "         [ 53.060997,  84.221   ,  70.32    ],\n",
              "         [ 35.060997,  71.221   ,  56.32    ],\n",
              "         ...,\n",
              "         [ 32.060997,  76.221   ,  48.32    ],\n",
              "         [ 49.060997,  83.221   ,  68.32    ],\n",
              "         [ 49.060997,  83.221   ,  68.32    ]],\n",
              "\n",
              "        [[ 34.060997,  65.221   ,  52.32    ],\n",
              "         [ 48.060997,  81.221   ,  68.32    ],\n",
              "         [ 37.060997,  72.221   ,  59.32    ],\n",
              "         ...,\n",
              "         [ 33.060997,  78.221   ,  47.32    ],\n",
              "         [ 35.060997,  68.221   ,  55.32    ],\n",
              "         [ 48.060997,  81.221   ,  68.32    ]]]], dtype=float32)"
            ]
          },
          "metadata": {
            "tags": []
          },
          "execution_count": 26
        }
      ]
    },
    {
      "cell_type": "code",
      "metadata": {
        "id": "H4hJRE68MPFb",
        "outputId": "89b7abf7-1c05-481c-9a01-fa2c94d2b054",
        "colab": {
          "base_uri": "https://localhost:8080/",
          "height": 54
        }
      },
      "source": [
        "preds = model.predict(x)\n",
        "print('Predicted:', decode_predictions(preds, top=240)[0])\n"
      ],
      "execution_count": 27,
      "outputs": [
        {
          "output_type": "stream",
          "text": [
            "Predicted: [('n02504458', 'African_elephant', 0.8280071), ('n01871265', 'tusker', 0.15320127), ('n02504013', 'Indian_elephant', 0.018753855), ('n02408429', 'water_buffalo', 3.4451485e-05), ('n02397096', 'warthog', 1.2393873e-06), ('n02480855', 'gorilla', 4.6538716e-07), ('n01704323', 'triceratops', 3.4848145e-07), ('n02410509', 'bison', 2.8714499e-07), ('n02113978', 'Mexican_hairless', 1.4210424e-07), ('n02403003', 'ox', 1.0278924e-07), ('n02109047', 'Great_Dane', 6.8133936e-08), ('n02092339', 'Weimaraner', 6.66547e-08), ('n02481823', 'chimpanzee', 5.3239972e-08), ('n02486410', 'baboon', 4.886879e-08), ('n11879895', 'rapeseed', 4.7869317e-08), ('n02437312', 'Arabian_camel', 4.4631538e-08), ('n02396427', 'wild_boar', 3.201521e-08), ('n04604644', 'worm_fence', 2.948384e-08), ('n02395406', 'hog', 2.2474529e-08), ('n02113799', 'standard_poodle', 2.1590141e-08), ('n02412080', 'ram', 2.091487e-08), ('n02099267', 'flat-coated_retriever', 1.6466162e-08), ('n03868242', 'oxcart', 1.6189187e-08), ('n03967562', 'plow', 1.3389092e-08), ('n02090721', 'Irish_wolfhound', 1.21241e-08), ('n02398521', 'hippopotamus', 1.1868731e-08), ('n03743016', 'megalith', 1.053959e-08), ('n02097130', 'giant_schnauzer', 1.0112786e-08), ('n02105412', 'kelpie', 9.828325e-09), ('n02391049', 'zebra', 9.5654125e-09), ('n07802026', 'hay', 8.66391e-09), ('n03124170', 'cowboy_hat', 8.026206e-09), ('n02454379', 'armadillo', 7.162182e-09), ('n02111277', 'Newfoundland', 6.326984e-09), ('n02099712', 'Labrador_retriever', 5.900615e-09), ('n02099429', 'curly-coated_retriever', 5.8327387e-09), ('n03000247', 'chain_mail', 5.212064e-09), ('n03538406', 'horse_cart', 5.0455045e-09), ('n02099849', 'Chesapeake_Bay_retriever', 4.555279e-09), ('n02129165', 'lion', 3.865012e-09), ('n02415577', 'bighorn', 3.508919e-09), ('n02108422', 'bull_mastiff', 3.389757e-09), ('n03903868', 'pedestal', 3.3300886e-09), ('n04350905', 'suit', 3.1915632e-09), ('n03803284', 'muzzle', 3.173904e-09), ('n02092002', 'Scottish_deerhound', 3.132837e-09), ('n02793495', 'barn', 3.0338791e-09), ('n02074367', 'dugong', 3.0164078e-09), ('n02108551', 'Tibetan_mastiff', 2.9776739e-09), ('n02106382', 'Bouvier_des_Flandres', 2.9068383e-09), ('n04049303', 'rain_barrel', 2.4761848e-09), ('n02088466', 'bloodhound', 2.4485736e-09), ('n01518878', 'ostrich', 2.2322983e-09), ('n02093647', 'Bedlington_terrier', 2.1377502e-09), ('n01695060', 'Komodo_dragon', 2.1209887e-09), ('n02483708', 'siamang', 2.0889903e-09), ('n04428191', 'thresher', 1.9829383e-09), ('n04613696', 'yurt', 1.9509299e-09), ('n04465501', 'tractor', 1.9165811e-09), ('n02389026', 'sorrel', 1.6252696e-09), ('n03594945', 'jeep', 1.5675505e-09), ('n04417672', 'thatch', 1.5380408e-09), ('n04599235', 'wool', 1.5229661e-09), ('n03134739', 'croquet_ball', 1.5073404e-09), ('n02093256', 'Staffordshire_bullterrier', 1.4949827e-09), ('n02093428', 'American_Staffordshire_terrier', 1.453984e-09), ('n02111129', 'Leonberg', 1.4063846e-09), ('n03902125', 'pay-phone', 1.402257e-09), ('n02437616', 'llama', 1.3336198e-09), ('n02105505', 'komondor', 1.2586544e-09), ('n04254680', 'soccer_ball', 1.1320919e-09), ('n03498962', 'hatchet', 1.0124419e-09), ('n02795169', 'barrel', 9.771702e-10), ('n03496892', 'harvester', 9.636e-10), ('n03733281', 'maze', 9.507511e-10), ('n03930313', 'picket_fence', 9.2649943e-10), ('n01616318', 'vulture', 9.1792096e-10), ('n02422106', 'hartebeest', 9.07812e-10), ('n02106550', 'Rottweiler', 8.956181e-10), ('n02134418', 'sloth_bear', 8.863648e-10), ('n02133161', 'American_black_bear', 8.5708773e-10), ('n03709823', 'mailbag', 8.247061e-10), ('n04562935', 'water_tower', 8.1153934e-10), ('n02087394', 'Rhodesian_ridgeback', 8.0135515e-10), ('n02117135', 'hyena', 7.7604556e-10), ('n04192698', 'shield', 7.673716e-10), ('n09332890', 'lakeside', 7.560585e-10), ('n02105056', 'groenendael', 7.5296863e-10), ('n02963159', 'cardigan', 7.3600753e-10), ('n02488291', 'langur', 6.3003913e-10), ('n04208210', 'shovel', 6.133513e-10), ('n02480495', 'orangutan', 5.7427674e-10), ('n02841315', 'binoculars', 5.5266225e-10), ('n02111500', 'Great_Pyrenees', 5.38029e-10), ('n02097209', 'standard_schnauzer', 5.1107346e-10), ('n09421951', 'sandbar', 5.0355803e-10), ('n02132136', 'brown_bear', 4.767055e-10), ('n02107142', 'Doberman', 4.4910214e-10), ('n04127249', 'safety_pin', 4.4470977e-10), ('n12144580', 'corn', 4.444562e-10), ('n02107574', 'Greater_Swiss_Mountain_dog', 4.3854229e-10), ('n02950826', 'cannon', 4.3579065e-10), ('n03124043', 'cowboy_boot', 4.2835324e-10), ('n04259630', 'sombrero', 4.24498e-10), ('n10148035', 'groom', 4.081509e-10), ('n02102973', 'Irish_water_spaniel', 3.9944584e-10), ('n02104029', 'kuvasz', 3.946009e-10), ('n02091635', 'otterhound', 3.9450007e-10), ('n02105641', 'Old_English_sheepdog', 3.942526e-10), ('n02105162', 'malinois', 3.8187137e-10), ('n04532670', 'viaduct', 3.762774e-10), ('n04371430', 'swimming_trunks', 3.7452103e-10), ('n02667093', 'abaya', 3.700462e-10), ('n02672831', 'accordion', 3.6888131e-10), ('n02089078', 'black-and-tan_coonhound', 3.6199155e-10), ('n03146219', 'cuirass', 3.589115e-10), ('n02088094', 'Afghan_hound', 3.5395759e-10), ('n02098105', 'soft-coated_wheaten_terrier', 3.521784e-10), ('n02879718', 'bow', 3.3975486e-10), ('n02106030', 'collie', 3.3904665e-10), ('n01817953', 'African_grey', 3.3879843e-10), ('n03404251', 'fur_coat', 3.3857298e-10), ('n02100583', 'vizsla', 3.3227968e-10), ('n02100236', 'German_short-haired_pointer', 3.1606784e-10), ('n02909870', 'bucket', 3.1124242e-10), ('n02105251', 'briard', 3.1006805e-10), ('n02892201', 'brass', 3.0956754e-10), ('n02093991', 'Irish_terrier', 2.9667144e-10), ('n02422699', 'impala', 2.9167282e-10), ('n02782093', 'balloon', 2.9149594e-10), ('n03764736', 'milk_can', 2.901021e-10), ('n04044716', 'radio_telescope', 2.8164843e-10), ('n02487347', 'macaque', 2.8023642e-10), ('n03425413', 'gas_pump', 2.7086586e-10), ('n03776460', 'mobile_home', 2.7016828e-10), ('n02916936', 'bulletproof_vest', 2.6634878e-10), ('n02486261', 'patas', 2.6276964e-10), ('n02108000', 'EntleBucher', 2.5742392e-10), ('n02797295', 'barrow', 2.560528e-10), ('n03786901', 'mortar', 2.503275e-10), ('n02096051', 'Airedale', 2.502607e-10), ('n02009229', 'little_blue_heron', 2.490474e-10), ('n04458633', 'totem_pole', 2.4590938e-10), ('n03891251', 'park_bench', 2.3969618e-10), ('n04486054', 'triumphal_arch', 2.3114272e-10), ('n02423022', 'gazelle', 2.1828873e-10), ('n03649909', 'lawn_mower', 2.1793721e-10), ('n03045698', 'cloak', 2.0872207e-10), ('n02090379', 'redbone', 2.0078962e-10), ('n02951358', 'canoe', 1.9615631e-10), ('n02108089', 'boxer', 1.8672615e-10), ('n06359193', 'web_site', 1.844367e-10), ('n02093859', 'Kerry_blue_terrier', 1.7973417e-10), ('n04507155', 'umbrella', 1.7755551e-10), ('n02110958', 'pug', 1.7576329e-10), ('n01688243', 'frilled_lizard', 1.746858e-10), ('n03763968', 'military_uniform', 1.7447101e-10), ('n04467665', 'trailer_truck', 1.7175299e-10), ('n03481172', 'hammer', 1.7058191e-10), ('n03379051', 'football_helmet', 1.6445995e-10), ('n07734744', 'mushroom', 1.6152005e-10), ('n01694178', 'African_chameleon', 1.5884191e-10), ('n03956157', 'planetarium', 1.5637512e-10), ('n04336792', 'stretcher', 1.5514695e-10), ('n02056570', 'king_penguin', 1.5454651e-10), ('n02091831', 'Saluki', 1.5119322e-10), ('n02110627', 'affenpinscher', 1.5106179e-10), ('n02112137', 'chow', 1.5011281e-10), ('n03976657', 'pole', 1.4781935e-10), ('n02093754', 'Border_terrier', 1.4768915e-10), ('n02977058', 'cash_machine', 1.4388375e-10), ('n02883205', 'bow_tie', 1.3984688e-10), ('n02012849', 'crane', 1.3860914e-10), ('n03595614', 'jersey', 1.3812222e-10), ('n02939185', 'caldron', 1.3612486e-10), ('n02095570', 'Lakeland_terrier', 1.3592015e-10), ('n04399382', 'teddy', 1.3432433e-10), ('n02104365', 'schipperke', 1.319994e-10), ('n02107908', 'Appenzeller', 1.2583634e-10), ('n03445924', 'golfcart', 1.2522984e-10), ('n03873416', 'paddle', 1.2197453e-10), ('n02749479', 'assault_rifle', 1.2059097e-10), ('n02101006', 'Gordon_setter', 1.1999259e-10), ('n03697007', 'lumbermill', 1.1931524e-10), ('n03424325', 'gasmask', 1.1655797e-10), ('n02130308', 'cheetah', 1.1245739e-10), ('n03770439', 'miniskirt', 1.0988103e-10), ('n01818515', 'macaw', 1.0914869e-10), ('n03345487', 'fire_engine', 1.0850853e-10), ('n01440764', 'tench', 1.0723639e-10), ('n02484975', 'guenon', 1.0707473e-10), ('n02091134', 'whippet', 1.0584705e-10), ('n02102480', 'Sussex_spaniel', 1.0455684e-10), ('n02483362', 'gibbon', 1.04526526e-10), ('n01677366', 'common_iguana', 1.0421757e-10), ('n07742313', 'Granny_Smith', 1.0343435e-10), ('n02088632', 'bluetick', 1.02649785e-10), ('n02807133', 'bathing_cap', 1.0240124e-10), ('n02112706', 'Brabancon_griffon', 1.0164176e-10), ('n04118538', 'rugby_ball', 1.0156444e-10), ('n02895154', 'breastplate', 1.0029868e-10), ('n02018795', 'bustard', 9.8671966e-11), ('n03980874', 'poncho', 9.821514e-11), ('n01608432', 'kite', 9.724397e-11), ('n02817516', 'bearskin', 9.721968e-11), ('n02137549', 'mongoose', 9.667751e-11), ('n02002556', 'white_stork', 9.5725206e-11), ('n03594734', 'jean', 9.549689e-11), ('n04204347', 'shopping_cart', 9.543953e-11), ('n04310018', 'steam_locomotive', 9.4268454e-11), ('n03623198', 'knee_pad', 9.374703e-11), ('n04509417', 'unicycle', 9.3548586e-11), ('n04355338', 'sundial', 9.255134e-11), ('n04099969', 'rocking_chair', 9.1453546e-11), ('n02906734', 'broom', 9.1326474e-11), ('n03777568', 'Model_T', 8.902834e-11), ('n13133613', 'ear', 8.88592e-11), ('n04560804', 'water_jug', 8.867364e-11), ('n04356056', 'sunglasses', 8.8121295e-11), ('n02095889', 'Sealyham_terrier', 8.71987e-11), ('n03877845', 'palace', 8.7166774e-11), ('n03478589', 'half_track', 8.535536e-11), ('n03837869', 'obelisk', 8.38529e-11), ('n03141823', 'crutch', 8.200924e-11), ('n02058221', 'albatross', 8.03021e-11), ('n04326547', 'stone_wall', 7.9910044e-11), ('n02859443', 'boathouse', 7.8807065e-11), ('n02091467', 'Norwegian_elkhound', 7.795537e-11), ('n02692877', 'airship', 7.77417e-11), ('n09428293', 'seashore', 7.708347e-11), ('n02747177', 'ashcan', 7.605707e-11), ('n02114367', 'timber_wolf', 7.56172e-11), ('n04023962', 'punching_bag', 7.483437e-11), ('n03792782', 'mountain_bike', 7.4564376e-11), ('n04404412', 'television', 7.3137794e-11), ('n03710193', 'mailbox', 7.281098e-11), ('n03933933', 'pier', 7.162366e-11), ('n02113712', 'miniature_poodle', 7.1599754e-11), ('n02013706', 'limpkin', 7.1593745e-11), ('n04367480', 'swab', 7.1280495e-11)]\n"
          ],
          "name": "stdout"
        }
      ]
    },
    {
      "cell_type": "code",
      "metadata": {
        "id": "kUGmwZ6eN0M6"
      },
      "source": [
        "preds[0]"
      ],
      "execution_count": null,
      "outputs": []
    },
    {
      "cell_type": "code",
      "metadata": {
        "id": "JjLnJADfNIr2",
        "outputId": "85398cc4-0063-497e-f1a7-5f2f05425b45",
        "colab": {
          "base_uri": "https://localhost:8080/",
          "height": 34
        }
      },
      "source": [
        "np.argmax(preds[0])\n",
        "# The entry in the prediction vector that was maximally activated is\n",
        "# the one corresponding to the “African elephant” class, at index 386:"
      ],
      "execution_count": 29,
      "outputs": [
        {
          "output_type": "execute_result",
          "data": {
            "text/plain": [
              "386"
            ]
          },
          "metadata": {
            "tags": []
          },
          "execution_count": 29
        }
      ]
    },
    {
      "cell_type": "code",
      "metadata": {
        "id": "olGRue7CPPux"
      },
      "source": [
        " african_elephant_output= model.output[:, 386]\n",
        "last_conv_layer = model.get_layer('block5_conv3') # output FMap of last layer of the model wit 512 filters"
      ],
      "execution_count": 30,
      "outputs": []
    },
    {
      "cell_type": "code",
      "metadata": {
        "id": "94Q_R9-JR1fC",
        "outputId": "df337bf9-356a-4368-c55a-44a937a168ae",
        "colab": {
          "base_uri": "https://localhost:8080/",
          "height": 50
        }
      },
      "source": [
        "last_conv_layer.output, last_conv_layer.output_shape"
      ],
      "execution_count": 31,
      "outputs": [
        {
          "output_type": "execute_result",
          "data": {
            "text/plain": [
              "(<tf.Tensor 'block5_conv3/Relu:0' shape=(None, 14, 14, 512) dtype=float32>,\n",
              " (None, 14, 14, 512))"
            ]
          },
          "metadata": {
            "tags": []
          },
          "execution_count": 31
        }
      ]
    },
    {
      "cell_type": "code",
      "metadata": {
        "id": "cS8mNMA0Sufw"
      },
      "source": [
        "# from tensorflow.Keras import backend as K\n",
        "import keras.backend as K\n",
        "import tensorflow as tf\n",
        "\n",
        "tf.compat.v1.disable_eager_execution()\n",
        "\n",
        "grads = K.gradients(african_elephant_output, last_conv_layer.output)[0]\n",
        "\n",
        "# Gradient of the “African\n",
        "# elephant” class with regard to\n",
        "# the output feature map of\n",
        "# block5_conv3"
      ],
      "execution_count": 32,
      "outputs": []
    },
    {
      "cell_type": "code",
      "metadata": {
        "id": "fE0OzXRatXfq",
        "outputId": "70e6d41c-caf3-4635-bdb7-47deaf1109d9",
        "colab": {
          "base_uri": "https://localhost:8080/",
          "height": 34
        }
      },
      "source": [
        "pooled_grads = K.mean(grads, axis=(0, 1, 2))\n",
        "pooled_grads[0]"
      ],
      "execution_count": 38,
      "outputs": [
        {
          "output_type": "execute_result",
          "data": {
            "text/plain": [
              "<tf.Tensor 'strided_slice_3:0' shape=() dtype=float32>"
            ]
          },
          "metadata": {
            "tags": []
          },
          "execution_count": 38
        }
      ]
    },
    {
      "cell_type": "code",
      "metadata": {
        "id": "c80odcR9uxmy"
      },
      "source": [
        "# iterate = K.function([model.input],[pooled_grads, last_conv_layer.output[0]]) \n",
        "\n",
        "# compute loss and gradient tensor for an image\n",
        "\n",
        "pooled_grads_value, conv_layer_output_value = iterate([x])\n",
        "\n",
        "pooled_grads_value, conv_layer_output_value"
      ],
      "execution_count": null,
      "outputs": []
    },
    {
      "cell_type": "code",
      "metadata": {
        "id": "n7s1UIuHzULP"
      },
      "source": [
        "# Multiplies each channel in the feature-map array by “how important this channel is” with regard to the “elephant” class\n",
        "\n",
        "for i in range(512):\n",
        "  conv_layer_output_value[:, :, i] *= pooled_grads_value[i]\n",
        "\n",
        "heatmap = np.mean(conv_layer_output_value, axis=-1)\n",
        "\n",
        "# The channel-wise mean of the resulting feature map is the heatmap of theclass activation."
      ],
      "execution_count": 37,
      "outputs": []
    },
    {
      "cell_type": "code",
      "metadata": {
        "id": "KSyK2gcM4fKM",
        "outputId": "2ab76e01-cb9f-4403-edc5-4ed0dc9dece6",
        "colab": {
          "base_uri": "https://localhost:8080/",
          "height": 292
        }
      },
      "source": [
        "import matplotlib.pyplot as plt\n",
        "\n",
        "# heatmap for the\n",
        "# class “dog,” indicating how dog-like parts of the image are.\n",
        "\n",
        "heatmap = np.maximum(heatmap, 0)\n",
        "heatmap /= np.max(heatmap)\n",
        "plt.matshow(heatmap)\n",
        "\n",
        "# Normalize heat map - postprocessing\n"
      ],
      "execution_count": 41,
      "outputs": [
        {
          "output_type": "execute_result",
          "data": {
            "text/plain": [
              "<matplotlib.image.AxesImage at 0x7fe4ef0eeda0>"
            ]
          },
          "metadata": {
            "tags": []
          },
          "execution_count": 41
        },
        {
          "output_type": "display_data",
          "data": {
            "image/png": "[encoded data removed]",
            "text/plain": [
              "<Figure size 288x288 with 1 Axes>"
            ]
          },
          "metadata": {
            "tags": [],
            "needs_background": "light"
          }
        }
      ]
    },
    {
      "cell_type": "code",
      "metadata": {
        "id": "-zsTDdep5bA0",
        "outputId": "a523a28f-9852-4c85-bcfd-69ea4d56c2bc",
        "colab": {
          "base_uri": "https://localhost:8080/",
          "height": 34
        }
      },
      "source": [
        "# Superimposing the heatmap with the original picture\n",
        "\n",
        "import cv2\n",
        "\n",
        "img = cv2.imread(\"/content/sample_data/images.jpg\")\n",
        "heatmap = cv2.resize(heatmap, (img.shape[1], img.shape[0]))\n",
        "heatmap = np.uint8(255 * heatmap) #convert the haetmap to RGB\n",
        "heatmap = cv2.applyColorMap(heatmap, cv2.COLORMAP_JET) #apply heat map to original image\n",
        "\n",
        "superimposed_img = heatmap * 0.4 + img #heatmap intensity factor\n",
        "\n",
        "superimposed_img\n",
        "\n",
        "cv2.imwrite('/content/sample_data/superimposed.jpg', superimposed_img)"
      ],
      "execution_count": 44,
      "outputs": [
        {
          "output_type": "execute_result",
          "data": {
            "text/plain": [
              "True"
            ]
          },
          "metadata": {
            "tags": []
          },
          "execution_count": 44
        }
      ]
    },
    {
      "cell_type": "code",
      "metadata": {
        "id": "5D2ZTi9q6jM7"
      },
      "source": [
        ""
      ],
      "execution_count": 43,
      "outputs": []
    }
  ]
}