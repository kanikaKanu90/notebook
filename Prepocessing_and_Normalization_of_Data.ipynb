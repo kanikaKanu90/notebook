{
  "nbformat": 4,
  "nbformat_minor": 0,
  "metadata": {
    "colab": {
      "name": "Prepocessing and Normalization of Data.ipynb",
      "provenance": [],
      "authorship_tag": "ABX9TyPpFUDmNbabrCQBSxKhXSjf",
      "include_colab_link": true
    },
    "kernelspec": {
      "name": "python3",
      "display_name": "Python 3"
    }
  },
  "cells": [
    {
      "cell_type": "markdown",
      "metadata": {
        "id": "view-in-github",
        "colab_type": "text"
      },
      "source": [
        "<a href=\"https://colab.research.google.com/github/kanikaKanu90/notebook/blob/master/Prepocessing_and_Normalization_of_Data.ipynb\" target=\"_parent\"><img src=\"https://colab.research.google.com/assets/colab-badge.svg\" alt=\"Open In Colab\"/></a>"
      ]
    },
    {
      "cell_type": "code",
      "metadata": {
        "id": "NRUnMxDBPO2X",
        "outputId": "d0d1a5a8-f1b0-4cdc-82c5-0949b4d08e0f",
        "colab": {
          "base_uri": "https://localhost:8080/",
          "height": 70
        }
      },
      "source": [
        "import os\n",
        "data_dir = '/content/sample_data'\n",
        "fname = os.path.join(data_dir, 'jena_climate_2009_2016.csv')\n",
        "f = open(fname)\n",
        "data = f.read()\n",
        "f.close()\n",
        "lines = data.split('\\n')\n",
        "\n",
        "header = lines[0].split(',')\n",
        "lines = lines[1:]\n",
        "print(header)\n",
        "print(len(lines), len(header))"
      ],
      "execution_count": 3,
      "outputs": [
        {
          "output_type": "stream",
          "text": [
            "['\"Date Time\"', '\"p (mbar)\"', '\"T (degC)\"', '\"Tpot (K)\"', '\"Tdew (degC)\"', '\"rh (%)\"', '\"VPmax (mbar)\"', '\"VPact (mbar)\"', '\"VPdef (mbar)\"', '\"sh (g/kg)\"', '\"H2OC (mmol/mol)\"', '\"rho (g/m**3)\"', '\"wv (m/s)\"', '\"max. wv (m/s)\"', '\"wd (deg)\"']\n",
            "255351 15\n"
          ],
          "name": "stdout"
        }
      ]
    },
    {
      "cell_type": "code",
      "metadata": {
        "id": "6srsU0W9Pr-z",
        "outputId": "939a2a33-aba0-4403-a578-c30591e27e35",
        "colab": {
          "base_uri": "https://localhost:8080/",
          "height": 638
        }
      },
      "source": [
        "import numpy as np\n",
        "\n",
        "float_data = np.zeros((len(lines), len(header) - 1)) #np. of rows, no. of cloumns\n",
        "\n",
        "#prepare data\n",
        "for i, line in enumerate(lines[1:5]):\n",
        "  print(i)\n",
        "  values = [float(x) for x in line.split(',')[1:]]\n",
        "  print(values)\n",
        "  float_data[i, :] = values\n",
        "\n",
        "#normalize data\n",
        "mean = float_data[:5].mean(axis=0)\n",
        "float_data -= mean\n",
        "print(\"Mean Subtracted: \", float_data)\n",
        "\n",
        "std = float_data[:5].std(axis=0)\n",
        "float_data /= std\n",
        "print(\"Divided StdDev: \",float_data)\n",
        "print(\"First: \",float_data[0])\n",
        "\n"
      ],
      "execution_count": 9,
      "outputs": [
        {
          "output_type": "stream",
          "text": [
            "0\n",
            "[996.57, -8.41, 265.01, -9.28, 93.4, 3.23, 3.02, 0.21, 1.89, 3.03, 1309.8, 0.72, 1.5, 136.1]\n",
            "1\n",
            "[996.53, -8.51, 264.91, -9.31, 93.9, 3.21, 3.01, 0.2, 1.88, 3.02, 1310.24, 0.19, 0.63, 171.6]\n",
            "2\n",
            "[996.51, -8.31, 265.12, -9.07, 94.2, 3.26, 3.07, 0.19, 1.92, 3.08, 1309.19, 0.34, 0.5, 198.0]\n",
            "3\n",
            "[996.51, -8.27, 265.15, -9.04, 94.1, 3.27, 3.08, 0.19, 1.92, 3.09, 1309.0, 0.32, 0.63, 214.3]\n",
            "Mean Subtracted:  [[ 1.99346e+02 -1.71000e+00  5.29720e+01 ...  4.06000e-01  8.48000e-01\n",
            "  -7.90000e+00]\n",
            " [ 1.99306e+02 -1.81000e+00  5.28720e+01 ... -1.24000e-01 -2.20000e-02\n",
            "   2.76000e+01]\n",
            " [ 1.99286e+02 -1.61000e+00  5.30820e+01 ...  2.60000e-02 -1.52000e-01\n",
            "   5.40000e+01]\n",
            " ...\n",
            " [-7.97224e+02  6.70000e+00 -2.12038e+02 ... -3.14000e-01 -6.52000e-01\n",
            "  -1.44000e+02]\n",
            " [-7.97224e+02  6.70000e+00 -2.12038e+02 ... -3.14000e-01 -6.52000e-01\n",
            "  -1.44000e+02]\n",
            " [-7.97224e+02  6.70000e+00 -2.12038e+02 ... -3.14000e-01 -6.52000e-01\n",
            "  -1.44000e+02]]\n",
            "Divided StdDev:  [[ 0.50010035 -0.51029     0.49964613 ...  1.7171356   1.75431422\n",
            "  -0.10299203]\n",
            " [ 0.5        -0.54013152  0.4987029  ... -0.52444536 -0.04551287\n",
            "   0.35982024]\n",
            " [ 0.49994983 -0.48044848  0.50068368 ...  0.10996435 -0.31445255\n",
            "   0.70399613]\n",
            " ...\n",
            " [-2.          1.99938189 -1.99999936 ... -1.32803098 -1.34883593\n",
            "  -1.87732301]\n",
            " [-2.          1.99938189 -1.99999936 ... -1.32803098 -1.34883593\n",
            "  -1.87732301]\n",
            " [-2.          1.99938189 -1.99999936 ... -1.32803098 -1.34883593\n",
            "  -1.87732301]]\n",
            "First:  [ 0.50010035 -0.51029     0.49964613 -0.52838091  0.48667486  0.49029607\n",
            "  0.47935501  0.6553465   0.48346782  0.47942296  0.50046277  1.7171356\n",
            "  1.75431422 -0.10299203]\n"
          ],
          "name": "stdout"
        }
      ]
    }
  ]
}