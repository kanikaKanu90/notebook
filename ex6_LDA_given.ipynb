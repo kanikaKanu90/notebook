{
  "nbformat": 4,
  "nbformat_minor": 0,
  "metadata": {
    "kernelspec": {
      "display_name": "Python 3",
      "language": "python",
      "name": "python3"
    },
    "language_info": {
      "codemirror_mode": {
        "name": "ipython",
        "version": 3
      },
      "file_extension": ".py",
      "mimetype": "text/x-python",
      "name": "python",
      "nbconvert_exporter": "python",
      "pygments_lexer": "ipython3",
      "version": "3.7.9"
    },
    "colab": {
      "name": "ex6_LDA_given.ipynb",
      "provenance": [],
      "collapsed_sections": [
        "0PJr_Z68lC1_"
      ]
    }
  },
  "cells": [
    {
      "cell_type": "markdown",
      "metadata": {
        "id": "z208NBc1lC1k"
      },
      "source": [
        "# Starting Code for Exercise 6\n",
        "\n",
        "### Import Modules and Download Data"
      ]
    },
    {
      "cell_type": "code",
      "metadata": {
        "id": "Vl6Ajcuu5DvW"
      },
      "source": [
        "import re\n",
        "import requests\n",
        "from io import StringIO\n",
        "import pandas as pd\n",
        "import nltk\n",
        "from nltk.stem.porter import PorterStemmer\n",
        "from sklearn.feature_extraction.text import TfidfVectorizer\n",
        "from sklearn.metrics.pairwise import cosine_similarity"
      ],
      "execution_count": 1,
      "outputs": []
    },
    {
      "cell_type": "code",
      "metadata": {
        "id": "TBb5tcJo0yla"
      },
      "source": [
        "url_data = 'https://docs.google.com/spreadsheets/d/e/2PACX-1vTxbA16lnYbtH-j6PPrPogc6ft03gp0y5mmo1Nq3l-Pxnb05nP1C-mOxUYvTciA2gq5nkwAqz9Y7Imi/pub?gid=646892609&single=true&output=tsv'"
      ],
      "execution_count": 2,
      "outputs": []
    },
    {
      "cell_type": "code",
      "metadata": {
        "id": "Z8SjmfcV1DeK"
      },
      "source": [
        "def load_dataset(url):\n",
        "    r = requests.get(url)\n",
        "    data = r.content.decode('utf8')\n",
        "    df = pd.read_csv(StringIO(data), sep='\\t')\n",
        "    return df"
      ],
      "execution_count": 3,
      "outputs": []
    },
    {
      "cell_type": "code",
      "metadata": {
        "id": "a0GBCr4n1HC2"
      },
      "source": [
        "df = load_dataset(url_data)"
      ],
      "execution_count": 4,
      "outputs": []
    },
    {
      "cell_type": "markdown",
      "metadata": {
        "id": "ilWbGgob6D6r"
      },
      "source": [
        "### Inspect the Dataset"
      ]
    },
    {
      "cell_type": "code",
      "metadata": {
        "colab": {
          "base_uri": "https://localhost:8080/",
          "height": 491
        },
        "id": "ovk-XSF36Ti3",
        "outputId": "5e6e6534-7f52-40d7-fc36-9cccfa9efc1a"
      },
      "source": [
        "df.head(15)"
      ],
      "execution_count": 5,
      "outputs": [
        {
          "output_type": "execute_result",
          "data": {
            "text/html": [
              "<div>\n",
              "<style scoped>\n",
              "    .dataframe tbody tr th:only-of-type {\n",
              "        vertical-align: middle;\n",
              "    }\n",
              "\n",
              "    .dataframe tbody tr th {\n",
              "        vertical-align: top;\n",
              "    }\n",
              "\n",
              "    .dataframe thead th {\n",
              "        text-align: right;\n",
              "    }\n",
              "</style>\n",
              "<table border=\"1\" class=\"dataframe\">\n",
              "  <thead>\n",
              "    <tr style=\"text-align: right;\">\n",
              "      <th></th>\n",
              "      <th>name</th>\n",
              "      <th>description</th>\n",
              "      <th>country</th>\n",
              "      <th>founding_date</th>\n",
              "      <th>relevancy</th>\n",
              "    </tr>\n",
              "  </thead>\n",
              "  <tbody>\n",
              "    <tr>\n",
              "      <th>0</th>\n",
              "      <td>Pandora Car Rental</td>\n",
              "      <td>Welcome to Pandora Car Rental, Car Hire and Ai...</td>\n",
              "      <td>United Kingdom</td>\n",
              "      <td>2011-04-05</td>\n",
              "      <td>0</td>\n",
              "    </tr>\n",
              "    <tr>\n",
              "      <th>1</th>\n",
              "      <td>SurplusMatch</td>\n",
              "      <td>SurplusMatch is an online marketplace for cont...</td>\n",
              "      <td>United Kingdom</td>\n",
              "      <td>2008-01-01</td>\n",
              "      <td>2</td>\n",
              "    </tr>\n",
              "    <tr>\n",
              "      <th>2</th>\n",
              "      <td>Gimenez Ganga</td>\n",
              "      <td>Giménez Ganga is a company that has been provi...</td>\n",
              "      <td>Switzerland</td>\n",
              "      <td>1959-01-01</td>\n",
              "      <td>0</td>\n",
              "    </tr>\n",
              "    <tr>\n",
              "      <th>3</th>\n",
              "      <td>SMC3</td>\n",
              "      <td>Freight shippers, motor carriers, logistics se...</td>\n",
              "      <td>United States</td>\n",
              "      <td>1935-01-01</td>\n",
              "      <td>0</td>\n",
              "    </tr>\n",
              "    <tr>\n",
              "      <th>4</th>\n",
              "      <td>Much Asphalt</td>\n",
              "      <td>Much Asphalt is southern Africa’s commercial s...</td>\n",
              "      <td>South Africa</td>\n",
              "      <td>1965-01-01</td>\n",
              "      <td>0</td>\n",
              "    </tr>\n",
              "    <tr>\n",
              "      <th>5</th>\n",
              "      <td>The Hisey Company</td>\n",
              "      <td>The Hisey Company provides quality arbor care ...</td>\n",
              "      <td>United States</td>\n",
              "      <td>2011-02-19</td>\n",
              "      <td>0</td>\n",
              "    </tr>\n",
              "    <tr>\n",
              "      <th>6</th>\n",
              "      <td>FREIGHTALIA, LTD.</td>\n",
              "      <td>#1 Automatic quoting system ever created for F...</td>\n",
              "      <td>United Kingdom</td>\n",
              "      <td>2015-09-26</td>\n",
              "      <td>0</td>\n",
              "    </tr>\n",
              "    <tr>\n",
              "      <th>7</th>\n",
              "      <td>Instant Access Au</td>\n",
              "      <td>Instant Access is a provider of Access equipme...</td>\n",
              "      <td>Australia</td>\n",
              "      <td>1968-01-01</td>\n",
              "      <td>1</td>\n",
              "    </tr>\n",
              "    <tr>\n",
              "      <th>8</th>\n",
              "      <td>CANOR International</td>\n",
              "      <td>CANOR International provides project managemen...</td>\n",
              "      <td>Hungary</td>\n",
              "      <td>1993-01-01</td>\n",
              "      <td>0</td>\n",
              "    </tr>\n",
              "    <tr>\n",
              "      <th>9</th>\n",
              "      <td>LISUTO</td>\n",
              "      <td>LISUTO is a Multi-language batch exhibition sy...</td>\n",
              "      <td>Japan</td>\n",
              "      <td>2016-11-01</td>\n",
              "      <td>1</td>\n",
              "    </tr>\n",
              "    <tr>\n",
              "      <th>10</th>\n",
              "      <td>PUNCH Consulting Engineers</td>\n",
              "      <td>PUNCH Consulting Engineers is the business nam...</td>\n",
              "      <td>Ireland</td>\n",
              "      <td>1973-01-01</td>\n",
              "      <td>0</td>\n",
              "    </tr>\n",
              "    <tr>\n",
              "      <th>11</th>\n",
              "      <td>Tucker Auto-Mation</td>\n",
              "      <td>Tucker Auto-Mation Holdings USA, LLC manufactu...</td>\n",
              "      <td>United States</td>\n",
              "      <td>2013-01-01</td>\n",
              "      <td>0</td>\n",
              "    </tr>\n",
              "    <tr>\n",
              "      <th>12</th>\n",
              "      <td>Skye Capic Select</td>\n",
              "      <td>Skye Capic Select is planned as a 126 room hot...</td>\n",
              "      <td>Nigeria</td>\n",
              "      <td>2008-01-01</td>\n",
              "      <td>0</td>\n",
              "    </tr>\n",
              "    <tr>\n",
              "      <th>13</th>\n",
              "      <td>Ergo Robotic Solutions</td>\n",
              "      <td>Ergo Robotic Solutions have developed unmanned...</td>\n",
              "      <td>United States</td>\n",
              "      <td>2013-01-01</td>\n",
              "      <td>1</td>\n",
              "    </tr>\n",
              "    <tr>\n",
              "      <th>14</th>\n",
              "      <td>Wuunder</td>\n",
              "      <td>Hello, We are Wuunder, and we’re excited to be...</td>\n",
              "      <td>Netherlands</td>\n",
              "      <td>2016-01-01</td>\n",
              "      <td>0</td>\n",
              "    </tr>\n",
              "  </tbody>\n",
              "</table>\n",
              "</div>"
            ],
            "text/plain": [
              "                          name  ... relevancy\n",
              "0           Pandora Car Rental  ...         0\n",
              "1                 SurplusMatch  ...         2\n",
              "2                Gimenez Ganga  ...         0\n",
              "3                         SMC3  ...         0\n",
              "4                 Much Asphalt  ...         0\n",
              "5            The Hisey Company  ...         0\n",
              "6            FREIGHTALIA, LTD.  ...         0\n",
              "7            Instant Access Au  ...         1\n",
              "8          CANOR International  ...         0\n",
              "9                       LISUTO  ...         1\n",
              "10  PUNCH Consulting Engineers  ...         0\n",
              "11          Tucker Auto-Mation  ...         0\n",
              "12           Skye Capic Select  ...         0\n",
              "13      Ergo Robotic Solutions  ...         1\n",
              "14                     Wuunder  ...         0\n",
              "\n",
              "[15 rows x 5 columns]"
            ]
          },
          "metadata": {
            "tags": []
          },
          "execution_count": 5
        }
      ]
    },
    {
      "cell_type": "markdown",
      "metadata": {
        "id": "RMAfWeHdlC1v"
      },
      "source": [
        "### Preprocess the Data"
      ]
    },
    {
      "cell_type": "code",
      "metadata": {
        "colab": {
          "base_uri": "https://localhost:8080/"
        },
        "id": "zl9GZt4MlC1w",
        "outputId": "7c2b5722-d779-4874-9405-50aa4a9e120b"
      },
      "source": [
        "nltk.download('stopwords')\n",
        "stopwords = nltk.corpus.stopwords.words('english')\n",
        "nltk.download('punkt')"
      ],
      "execution_count": 6,
      "outputs": [
        {
          "output_type": "stream",
          "text": [
            "[nltk_data] Downloading package stopwords to /root/nltk_data...\n",
            "[nltk_data]   Package stopwords is already up-to-date!\n",
            "[nltk_data] Downloading package punkt to /root/nltk_data...\n",
            "[nltk_data]   Package punkt is already up-to-date!\n"
          ],
          "name": "stdout"
        },
        {
          "output_type": "execute_result",
          "data": {
            "text/plain": [
              "True"
            ]
          },
          "metadata": {
            "tags": []
          },
          "execution_count": 6
        }
      ]
    },
    {
      "cell_type": "code",
      "metadata": {
        "id": "yLjied5rlC1z"
      },
      "source": [
        "stemmer = PorterStemmer()\n",
        "\n",
        "def prep_process_tokenize(text):\n",
        "    #websites, email and any punctuation cleaning\n",
        "    text = re.sub(\"((\\S+)?(http(s)?)(\\S+))|((\\S+)?(www)(\\S+))|((\\S+)?(\\@)(\\S+)?)\", \" \", text)\n",
        "    text = re.sub(\"[^a-zA-Z ]\", \"\", text)\n",
        "    text = text.lower() # lower case the text\n",
        "    text = nltk.word_tokenize(text)\n",
        "    #removing stopwords\n",
        "    text = [word for word in text if word not in stopwords]\n",
        "    #stemming\n",
        "    try:\n",
        "        text = [stemmer.stem(word) for word in text]\n",
        "        text = [word for word in text if len(word) > 1]\n",
        "    except IndexError:\n",
        "        pass\n",
        "    return text\n",
        "\n",
        "\n",
        "def pre_process(text):\n",
        "    return \" \".join(prep_process_tokenize(text))"
      ],
      "execution_count": 7,
      "outputs": []
    },
    {
      "cell_type": "markdown",
      "metadata": {
        "id": "9D6fbveUlC1z"
      },
      "source": [
        "### Tf-Idf Based Approach (Vector Space Modeling)"
      ]
    },
    {
      "cell_type": "code",
      "metadata": {
        "id": "m0C4xoZmlC17",
        "colab": {
          "base_uri": "https://localhost:8080/",
          "height": 195
        },
        "outputId": "378c8712-eeb9-4e5c-e1be-24ab5a7bcee8"
      },
      "source": [
        "tfidf = TfidfVectorizer(preprocessor=pre_process).fit_transform(df.description)\n",
        "#convert text into TFIDF feature values (numerical form)\n",
        "#https://programminghistorian.org/en/lessons/analyzing-documents-with-tfidf\n",
        "# https://kanoki.org/2018/12/27/text-matching-cosine-similarity/\n",
        "\n",
        "# Similarity for Company: Vahanalytics\n",
        "doc_index_to_compare = df.index[df['name'] == \"Vahanalytics\"].tolist()[0]\n",
        "top_k = 5\n",
        "\n",
        "cosine_similarities = cosine_similarity(tfidf[doc_index_to_compare:doc_index_to_compare + 1], tfidf).flatten()\n",
        "related_docs_indices = cosine_similarities.argsort()[:-top_k - 1:-1]\n",
        "\n",
        "tfidf_result_df = df[df.index.isin(related_docs_indices)]\n",
        "tfidf_result_df"
      ],
      "execution_count": 8,
      "outputs": [
        {
          "output_type": "execute_result",
          "data": {
            "text/html": [
              "<div>\n",
              "<style scoped>\n",
              "    .dataframe tbody tr th:only-of-type {\n",
              "        vertical-align: middle;\n",
              "    }\n",
              "\n",
              "    .dataframe tbody tr th {\n",
              "        vertical-align: top;\n",
              "    }\n",
              "\n",
              "    .dataframe thead th {\n",
              "        text-align: right;\n",
              "    }\n",
              "</style>\n",
              "<table border=\"1\" class=\"dataframe\">\n",
              "  <thead>\n",
              "    <tr style=\"text-align: right;\">\n",
              "      <th></th>\n",
              "      <th>name</th>\n",
              "      <th>description</th>\n",
              "      <th>country</th>\n",
              "      <th>founding_date</th>\n",
              "      <th>relevancy</th>\n",
              "    </tr>\n",
              "  </thead>\n",
              "  <tbody>\n",
              "    <tr>\n",
              "      <th>93</th>\n",
              "      <td>Ship Supplies Direct</td>\n",
              "      <td>We aim to use digital technology to transform ...</td>\n",
              "      <td>Singapore</td>\n",
              "      <td>2018-05-14</td>\n",
              "      <td>1</td>\n",
              "    </tr>\n",
              "    <tr>\n",
              "      <th>656</th>\n",
              "      <td>BISAF</td>\n",
              "      <td>BISAF is a technological company for the const...</td>\n",
              "      <td>United Kingdom</td>\n",
              "      <td>2006-05-01</td>\n",
              "      <td>1</td>\n",
              "    </tr>\n",
              "    <tr>\n",
              "      <th>695</th>\n",
              "      <td>Vahanalytics</td>\n",
              "      <td>Vahanalytics aims to create better drivers and...</td>\n",
              "      <td>India</td>\n",
              "      <td>2016-01-01</td>\n",
              "      <td>1</td>\n",
              "    </tr>\n",
              "    <tr>\n",
              "      <th>1542</th>\n",
              "      <td>GeoSpock</td>\n",
              "      <td>GeoSpock brings together their expertise of bi...</td>\n",
              "      <td>United Kingdom</td>\n",
              "      <td>2013-01-01</td>\n",
              "      <td>1</td>\n",
              "    </tr>\n",
              "    <tr>\n",
              "      <th>1982</th>\n",
              "      <td>Axenda</td>\n",
              "      <td>Axenda is a cloud-based software platform for ...</td>\n",
              "      <td>Mexico</td>\n",
              "      <td>2017-01-01</td>\n",
              "      <td>2</td>\n",
              "    </tr>\n",
              "  </tbody>\n",
              "</table>\n",
              "</div>"
            ],
            "text/plain": [
              "                      name  ... relevancy\n",
              "93    Ship Supplies Direct  ...         1\n",
              "656                  BISAF  ...         1\n",
              "695           Vahanalytics  ...         1\n",
              "1542              GeoSpock  ...         1\n",
              "1982                Axenda  ...         2\n",
              "\n",
              "[5 rows x 5 columns]"
            ]
          },
          "metadata": {
            "tags": []
          },
          "execution_count": 8
        }
      ]
    },
    {
      "cell_type": "code",
      "metadata": {
        "colab": {
          "base_uri": "https://localhost:8080/",
          "height": 195
        },
        "id": "m4zGzTHpa8kS",
        "outputId": "2397df64-d5e6-42bf-bd76-64bf733d9a24"
      },
      "source": [
        "# Similarity for Company: Much Asphalt\n",
        "doc_index_to_compare_company = df.index[df['name'] == \"Much Asphalt\"].tolist()[0]\n",
        "top_k_company = 5\n",
        "\n",
        "cosine_similarities_company = cosine_similarity(tfidf[doc_index_to_compare_company:doc_index_to_compare_company + 1], tfidf).flatten()\n",
        "related_docs_indices_company = cosine_similarities_company.argsort()[:-top_k_company - 1:-1]\n",
        "\n",
        "tfidf_result_df_company = df[df.index.isin(related_docs_indices_company)]\n",
        "tfidf_result_df_company"
      ],
      "execution_count": 9,
      "outputs": [
        {
          "output_type": "execute_result",
          "data": {
            "text/html": [
              "<div>\n",
              "<style scoped>\n",
              "    .dataframe tbody tr th:only-of-type {\n",
              "        vertical-align: middle;\n",
              "    }\n",
              "\n",
              "    .dataframe tbody tr th {\n",
              "        vertical-align: top;\n",
              "    }\n",
              "\n",
              "    .dataframe thead th {\n",
              "        text-align: right;\n",
              "    }\n",
              "</style>\n",
              "<table border=\"1\" class=\"dataframe\">\n",
              "  <thead>\n",
              "    <tr style=\"text-align: right;\">\n",
              "      <th></th>\n",
              "      <th>name</th>\n",
              "      <th>description</th>\n",
              "      <th>country</th>\n",
              "      <th>founding_date</th>\n",
              "      <th>relevancy</th>\n",
              "    </tr>\n",
              "  </thead>\n",
              "  <tbody>\n",
              "    <tr>\n",
              "      <th>4</th>\n",
              "      <td>Much Asphalt</td>\n",
              "      <td>Much Asphalt is southern Africa’s commercial s...</td>\n",
              "      <td>South Africa</td>\n",
              "      <td>1965-01-01</td>\n",
              "      <td>0</td>\n",
              "    </tr>\n",
              "    <tr>\n",
              "      <th>57</th>\n",
              "      <td>Sunland Asphalt</td>\n",
              "      <td>Sunland Asphalt, a commercial asphalt paving c...</td>\n",
              "      <td>United States</td>\n",
              "      <td>1979-01-01</td>\n",
              "      <td>0</td>\n",
              "    </tr>\n",
              "    <tr>\n",
              "      <th>618</th>\n",
              "      <td>Central-Allied Enterprises</td>\n",
              "      <td>Central States Construction was founded in 192...</td>\n",
              "      <td>United States</td>\n",
              "      <td>1929-01-01</td>\n",
              "      <td>0</td>\n",
              "    </tr>\n",
              "    <tr>\n",
              "      <th>862</th>\n",
              "      <td>FAST FELT</td>\n",
              "      <td>The patented product FAST FELT®, with its plas...</td>\n",
              "      <td>United States</td>\n",
              "      <td>2007-01-01</td>\n",
              "      <td>0</td>\n",
              "    </tr>\n",
              "    <tr>\n",
              "      <th>1443</th>\n",
              "      <td>Saldus Celinieks</td>\n",
              "      <td>Saldus Celinieks is specialising in road const...</td>\n",
              "      <td>Latvia</td>\n",
              "      <td>1991-01-01</td>\n",
              "      <td>1</td>\n",
              "    </tr>\n",
              "  </tbody>\n",
              "</table>\n",
              "</div>"
            ],
            "text/plain": [
              "                            name  ... relevancy\n",
              "4                   Much Asphalt  ...         0\n",
              "57               Sunland Asphalt  ...         0\n",
              "618   Central-Allied Enterprises  ...         0\n",
              "862                    FAST FELT  ...         0\n",
              "1443            Saldus Celinieks  ...         1\n",
              "\n",
              "[5 rows x 5 columns]"
            ]
          },
          "metadata": {
            "tags": []
          },
          "execution_count": 9
        }
      ]
    },
    {
      "cell_type": "code",
      "metadata": {
        "id": "2-lNvpNEddF7"
      },
      "source": [
        "# # see similarity score of Much Asphalt w.r.t other companies\n",
        "# similarity_score = cosine_similarity(tfidf[doc_index_to_compare_company:doc_index_to_compare_company + 1], tfidf, 3)\n",
        "# for i in range(2000):\n",
        "#   print(i, similarity_score[0,i])"
      ],
      "execution_count": 10,
      "outputs": []
    },
    {
      "cell_type": "markdown",
      "metadata": {
        "id": "0PJr_Z68lC1_"
      },
      "source": [
        "## Topic Modeling Using LDA"
      ]
    },
    {
      "cell_type": "code",
      "metadata": {
        "id": "hGyz7sGolC1_"
      },
      "source": [
        "from gensim import models, corpora, similarities\n",
        "from nltk import FreqDist\n",
        "import numpy as np\n",
        "from scipy.stats import entropy"
      ],
      "execution_count": 11,
      "outputs": []
    },
    {
      "cell_type": "markdown",
      "metadata": {
        "id": "aMxs7EntO8m6"
      },
      "source": [
        "#### You can use the steps outlined below to train the LDA-algorithm and solve the coding section of part 2.\n",
        "\n",
        "1. Apply the pre_process function to the description-column to create a new column called `tokenized`. This is the column we plan to use for training the LDA-algorithm.\n",
        "2. Using this new column `tokenized`, find the 5000 most common tokens.\n",
        "3. Remove all tokens that are not in the 5000 most common tokens from the column `tokenized`. \n",
        "4. Implement and execute the `train_lda`-function.\n",
        "5. Use the `show_topic`-method to inspect the resulting topics.\n",
        "6. Convert the LDA-results to a 2D array to use as a document-matrix.\n",
        "7. Extract the LDA-results for `Much Asphalt` and `Vahanalytics` and use them as a query vector to extract the 5 most closest matches using `get_top_k_similar_docs`."
      ]
    },
    {
      "cell_type": "code",
      "metadata": {
        "id": "IaA9PlG7RhNk",
        "colab": {
          "base_uri": "https://localhost:8080/",
          "height": 232
        },
        "outputId": "0c0fdfa7-4b7a-4f82-88f6-b6efb1b2d9b2"
      },
      "source": [
        "# implement steps 1 to step 7\n",
        "\n",
        "from collections import Counter\n",
        "\n",
        "tokenized = []\n",
        "wordcount = {}\n",
        "\n",
        "# apply pre_process and look for common words\n",
        "for des in df.description.values:\n",
        " sentence = pre_process(des)\n",
        " tokenized.append(sentence)\n",
        " for word in sentence.split():\n",
        "   if word not in wordcount:\n",
        "    wordcount[word] = 1\n",
        "   else:\n",
        "    wordcount[word] += 1\n",
        "\n",
        "# new column tokenized\n",
        "df['tokenized'] = tokenized\n",
        "\n",
        "# list of common words\n",
        "word_counter = Counter(wordcount)\n",
        "common_word_ls= []\n",
        "for wor_d, count in word_counter.most_common(5000):\n",
        "    common_word_ls.append(wor_d)\n",
        "\n",
        "print('Common Words: ', common_word_ls)    \n",
        "\n",
        "# remove words which are not common in tokenized column\n",
        "f = lambda x: ' '.join([item for item in x.split() if item in common_word_ls])\n",
        "df[\"tokenized\"] = df[\"tokenized\"].apply(f)\n",
        "\n",
        "df.head()"
      ],
      "execution_count": 12,
      "outputs": [
        {
          "output_type": "stream",
          "text": [
            "Common Words:  ['servic', 'compani', 'provid', 'construct', 'manag', 'product', 'custom', 'solut', 'industri', 'logist', 'project', 'offer', 'includ', 'develop', 'busi', 'oper', 'design', 'build', 'technolog', 'platform', 'system', 'transport', 'engin', 'use', 'deliveri', 'also', 'softwar', 'market', 'manufactur', 'work', 'equip', 'base', 'time', 'need', 'client', 'suppli', 'process', 'qualiti', 'home', 'found', 'cost', 'help', 'user', 'year', 'new', 'onlin', 'us', 'contractor', 'deliv', 'mobil', 'group', 'integr', 'creat', 'one', 'commerci', 'special', 'lead', 'distribut', 'materi', 'profession', 'experi', 'price', 'team', 'intern', 'plan', 'make', 'data', 'support', 'world', 'global', 'allow', 'well', 'network', 'locat', 'unit', 'order', 'ship', 'best', 'track', 'model', 'tool', 'inc', 'gener', 'chain', 'enabl', 'innov', 'rang', 'area', 'connect', 'commun', 'freight', 'retail', 'sector', 'improv', 'truck', 'infrastructur', 'vehicl', 'structur', 'effici', 'applic', 'consult', 'inform', 'real', 'partner', 'car', 'offic', 'app', 'complet', 'across', 'instal', 'power', 'state', 'access', 'sale', 'control', 'valu', 'field', 'site', 'facil', 'serv', 'mainten', 'local', 'featur', 'electr', 'sinc', 'avail', 'hous', 'get', 'peopl', 'concret', 'part', 'supplier', 'energi', 'first', 'document', 'digit', 'marketplac', 'per', 'meet', 'activ', 'contract', 'brand', 'trade', 'everi', 'safeti', 'high', 'estat', 'autom', 'headquart', 'employe', 'produc', 'de', 'within', 'collabor', 'bim', 'establish', 'secur', 'list', 'mani', 'full', 'way', 'repair', 'report', 'insur', 'asset', 'perform', 'focus', 'estim', 'carrier', 'steel', 'good', 'throughout', 'sell', 'owner', 'countri', 'share', 'ecommerc', 'small', 'public', 'like', 'day', 'mission', 'residenti', 'architectur', 'ga', 'current', 'privat', 'north', 'firm', 'ensur', 'requir', 'find', 'bring', 'packag', 'ltd', 'contain', 'citi', 'remodel', 'oil', 'largest', 'commit', 'dedic', 'architect', 'nation', 'roof', 'grow', 'space', 'variou', 'around', 'addit', 'line', 'today', 'organ', 'properti', 'fleet', 'success', 'america', 'storag', 'rental', 'store', 'corpor', 'larg', 'water', 'driver', 'center', 'combin', 'europ', 'sustain', 'region', 'inspect', 'train', 'million', 'schedul', 'road', 'major', 'start', 'invest', 'wide', 'give', 'expertis', 'analysi', 'standard', 'take', 'china', 'handl', 'easi', 'enterpris', 'uniqu', 'optim', 'right', 'leader', 'month', 'warehous', 'food', 'relat', 'air', 'cargo', 'type', 'other', 'live', 'shop', 'util', 'top', 'reliabl', 'level', 'plant', 'consum', 'focu', 'civil', 'complex', 'builder', 'among', 'free', 'protect', 'chang', 'etc', 'place', 'move', 'distributor', 'demand', 'worldwid', 'fabric', 'collect', 'resourc', 'environment', 'save', 'environ', 'subcontractor', 'problem', 'purchas', 'claim', 'look', 'forward', 'robot', 'reduc', 'test', 'continu', 'specif', 'financ', 'web', 'built', 'associ', 'own', 'expand', 'job', 'consist', 'posit', 'abl', 'engag', 'life', 'wast', 'detail', 'technic', 'person', 'co', 'india', 'capabl', 'search', 'individu', 'import', 'award', 'program', 'heavi', 'receiv', 'monitor', 'inventori', 'increas', 'afford', 'rate', 'two', 'cloudbas', 'knowledg', 'implement', 'bid', 'uk', 'effect', 'made', 'fulfil', 'number', 'maintain', 'advanc', 'becom', 'paint', 'renov', 'realtim', 'strateg', 'intellig', 'fire', 'shipper', 'achiev', 'hold', 'shipment', 'togeth', 'multipl', 'comprehens', 'last', 'back', 'call', 'machin', 'size', 'want', 'courier', 'window', 'set', 'door', 'account', 'wareh', 'launch', 'capit', 'excel', 'smart', 'budget', 'end', 'financi', 'limit', 'automot', 'differ', 'marin', 'metal', 'load', 'buy', 'care', 'send', 'visual', 'task', 'mile', 'singl', 'promot', 'strong', 'expert', 'result', 'book', 'interior', 'llc', 'flexibl', 'core', 'canada', 'payment', 'devic', 'sourc', 'charg', 'websit', 'experienc', 'select', 'let', 'licens', 'highli', 'mechan', 'suit', 'hour', 'without', 'aim', 'name', 'conveni', 'skill', 'safe', 'express', 'open', 'procur', 'cover', 'progress', 'independ', 'vision', 'draw', 'scale', 'cement', 'govern', 'seller', 'east', 'light', 'execut', 'fit', 'opportun', 'content', 'highest', 'pipe', 'murcia', 'growth', 'view', 'glass', 'target', 'institut', 'startup', 'electron', 'key', 'portfolio', 'cloud', 'via', 'parcel', 'form', 'landscap', 'varieti', 'specialist', 'competit', 'better', 'trust', 'virtual', 'famili', 'buyer', 'educ', 'practic', 'revenu', 'relationship', 'research', 'clean', 'compon', 'exist', 'profit', 'tradit', 'rent', 'partnership', 'premier', 'risk', 'certifi', 'sever', 'decad', 'goal', 'see', 'android', 'ad', 'enhanc', 'aggreg', 'machineri', 'floor', 'extens', 'south', 'know', 'subsidiari', 'staff', 'interest', 'member', 'respons', 'survey', 'solv', 'acquir', 'apart', 'fulli', 'direct', 'futur', 'rout', 'entir', 'la', 'point', 'along', 'carri', 'post', 'approach', 'daili', 'less', 'parti', 'hospit', 'alway', 'land', 'item', 'three', 'option', 'trailer', 'money', 'fund', 'concept', 'drone', 'simpl', 'challeng', 'whether', 'auto', 'offshor', 'ondemand', 'involv', 'understand', 'bathroom', 'quot', 'urban', 'cad', 'wind', 'keep', 'segment', 'green', 'benefit', 'accessori', 'pick', 'io', 'worker', 'go', 'cater', 'factori', 'capac', 'box', 'airport', 'known', 'main', 'exchang', 'directli', 'port', 'homeown', 'healthcar', 'heat', 'tech', 'great', 'transpar', 'central', 'medic', 'domest', 'possibl', 'california', 'automat', 'come', 'believ', 'natur', 'author', 'foundat', 'portal', 'close', 'travel', 'transform', 'media', 'amp', 'assist', 'idea', 'specialti', 'stock', 'quickli', 'wall', 'total', 'follow', 'assur', 'agricultur', 'function', 'et', 'univers', 'game', 'pallet', 'contact', 'webbas', 'rail', 'agenc', 'guarante', 'proven', 'initi', 'request', 'social', 'reput', 'replac', 'cultur', 'except', 'mean', 'event', 'american', 'vendor', 'lift', 'emerg', 'pool', 'econom', 'measur', 'ventur', 'add', 'satisfact', 'drive', 'pioneer', 'learn', 'long', 'reach', 'chemic', 'cut', 'present', 'advantag', 'texa', 'photo', 'divers', 'term', 'specialis', 'frame', 'bridg', 'condit', 'choos', 'phone', 'mine', 'video', 'premium', 'map', 'pay', 'pump', 'record', 'squar', 'africa', 'station', 'crm', 'endtoend', 'park', 'player', 'health', 'facilit', 'restaur', 'next', 'match', 'restor', 'may', 'dealer', 'brazil', 'interact', 'auction', 'expect', 'erp', 'run', 'impact', 'pride', 'takeoff', 'rd', 'hire', 'australia', 'bank', 'easili', 'asia', 'purpos', 'convert', 'fast', 'proprietari', 'assembl', 'repres', 'thousand', 'lo', 'hand', 'calcul', 'billion', 'modern', 'respect', 'passeng', 'railway', 'method', 'big', 'edg', 'dynam', 'solar', 'minut', 'faster', 'pintor', 'london', 'stage', 'grown', 'surround', 'compar', 'done', 'modul', 'outstand', 'founder', 'turnkey', 'pipelin', 'fuel', 'acceler', 'categori', 'algorithm', 'san', 'low', 'conduct', 'physic', 'third', 'economi', 'beyond', 'hotel', 'ground', 'hardwar', 'lifecycl', 'bb', 'primarili', 'employ', 'leas', 'superior', 'visit', 'insul', 'publish', 'internet', 'invoic', 'loan', 'kingdom', 'complianc', 'critic', 'object', 'link', 'abil', 'european', 'finish', 'york', 'email', 'stakehold', 'kitchen', 'even', 'case', 'much', 'issu', 'audit', 'channel', 'branch', 'began', 'modular', 'speed', 'captur', 'comput', 'drop', 'pack', 'flow', 'origin', 'thirdparti', 'advertis', 'appli', 'simplifi', 'readi', 'patent', 'workforc', 'ohio', 'compris', 'recogn', 'exterior', 'manpow', 'streamlin', 'visibl', 'southern', 'divis', 'version', 'driven', 'board', 'workflow', 'aspect', 'wholesal', 'administr', 'mix', 'file', 'near', 'identifi', 'leverag', 'analyt', 'autonom', 'aircraft', 'thing', 'vr', 'decis', 'fair', 'acquisit', 'disrupt', 'vessel', 'put', 'remov', 'realiti', 'return', 'tag', 'merchant', 'tailor', 'punch', 'pl', 'mumbai', 'check', 'tire', 'contribut', 'interfac', 'west', 'approxim', 'compet', 'aerial', 'school', 'basi', 'student', 'gain', 'strategi', 'exclus', 'investor', 'longterm', 'choic', 'analyz', 'creation', 'deploy', 'class', 'api', 'step', 'lower', 'optimis', 'recycl', 'transact', 'strive', 'imag', 'human', 'en', 'brick', 'charter', 'print', 'address', 'instant', 'gp', 'laboratori', 'wood', 'bill', 'happi', 'profil', 'block', 'highway', 'presenc', 'pickup', 'coverag', 'elimin', 'later', 'quantiti', 'export', 'proud', 'comfort', 'fullservic', 'singapor', 'iot', 'carbon', 'expens', 'kind', 'upload', 'quick', 'dri', 'luxuri', 'le', 'five', 'destin', 'highqual', 'log', 'fastest', 'transfer', 'june', 'coast', 'turn', 'sensor', 'span', 'nationwid', 'germani', 'rapidli', 'becam', 'dream', 'incorpor', 'seamless', 'stand', 'airlin', 'short', 'love', 'upon', 'tour', 'anywher', 'director', 'certif', 'fee', 'depart', 'deal', 'surfac', 'expans', 'would', 'plumb', 'could', 'rfi', 'saa', 'true', 'detect', 'earn', 'bar', 'empow', 'transit', 'valuabl', 'ecosystem', 'master', 'soil', 'credit', 'past', 'broad', 'usa', 'panel', 'passion', 'think', 'ocean', 'maritim', 'middl', 'seek', 'smartphon', 'thu', 'extend', 'reduct', 'transmiss', 'predict', 'cabl', 'enjoy', 'held', 'resid', 'diversifi', 'robust', 'phase', 'win', 'latest', 'assess', 'crane', 'mexico', 'aviat', 'onsit', 'excav', 'reloc', 'weld', 'midstream', 'act', 'up', 'music', 'greater', 'asphalt', 'clientel', 'beauti', 'organis', 'room', 'brokerag', 'gmbh', 'due', 'traffic', 'four', 'sa', 'aerospac', 'coordin', 'counti', 'franc', 'plu', 'potenti', 'fortun', 'hub', 'recent', 'ca', 'led', 'raw', 'inhous', 'tender', 'friendli', 'prepar', 'tile', 'assign', 'insight', 'sold', 'convers', 'labor', 'dispatch', 'florida', 'creativ', 'nearli', 'extrem', 'paper', 'necessari', 'fix', 'painter', 'pintura', 'offlin', 'fedex', 'allianc', 'fresh', 'excess', 'flat', 'code', 'second', 'updat', 'competitor', 'groceri', 'everyth', 'remot', 'accur', 'plate', 'kong', 'depend', 'rank', 'sand', 'coat', 'toll', 'feder', 'pleas', 'revers', 'recoveri', 'signific', 'helicopt', 'prevent', 'that', 'submit', 'yet', 'born', 'entertain', 'play', 'toward', 'higher', 'therefor', 'gather', 'face', 'outsourc', 'sea', 'final', 'renew', 'regul', 'scalabl', 'mover', 'cross', 'costeffect', 'date', 'broker', 'temperatur', 'bc', 'mind', 'annual', 'scienc', 'format', 'mark', 'minim', 'veteran', 'vertic', 'chicago', 'hundr', 'militari', 'tishman', 'alert', 'side', 'hall', 'valley', 'sampl', 'colorado', 'deck', 'effort', 'motor', 'agreement', 'hard', 'ever', 'adapt', 'stay', 'netherland', 'graphic', 'instrument', 'pro', 'subscript', 'globe', 'metropolitan', 'stone', 'tank', 'medium', 'thank', 'depot', 'pilot', 'automobil', 'label', 'termin', 'cash', 'googl', 'statu', 'cycl', 'march', 'senior', 'rich', 'drill', 'blue', 'mainli', 'never', 'intermod', 'sure', 'particip', 'thought', 'winner', 'guid', 'flight', 'personnel', 'regist', 'instantli', 'negoti', 'refin', 'earli', 'stateoftheart', 'art', 'emiss', 'forc', 'emphasi', 'ai', 'georgia', 'monthli', 'maxim', 'seamlessli', 'commod', 'bike', 'epc', 'laser', 'attent', 'round', 'railroad', 'belgium', 'alreadi', 'accord', 'wire', 'footprint', 'truli', 'evolv', 'averag', 'preconstruct', 'hvac', 'junk', 'solid', 'bulk', 'extra', 'decor', 'spend', 'host', 'trend', 'accept', 'scaffold', 'ireland', 'touch', 'download', 'your', 'primari', 'farm', 'hong', 'ongo', 'revit', 'directori', 'section', 'altern', 'commiss', 'grid', 'stop', 'reli', 'everyon', 'italian', 'approv', 'photograph', 'notif', 'angel', 'avoid', 'prefabr', 'ride', 'sheet', 'realiz', 'fiber', 'leadership', 'cooper', 'rais', 'basic', 'databas', 'timber', 'merg', 'forklift', 'deep', 'intend', 'ltl', 'review', 'obtain', 'balanc', 'render', 'entrepreneur', 'scan', 'array', 'remain', 'tier', 'designbuild', 'telecommun', 'sport', 'explor', 'wash', 'labour', 'boom', 'februari', 'whole', 'bodi', 'plc', 'rope', 'meter', 'philosophi', 'tune', 'nuclear', 'maximum', 'gharonda', 'pintar', 'damag', 'brows', 'away', 'still', 'tower', 'essenti', 'pressur', 'brother', 'display', 'payrol', 'crew', 'awar', 'grand', 'arriv', 'phoenix', 'arizona', 'relev', 'th', 'latin', 'gap', 'parkway', 'studi', 'carolina', 'st', 'treat', 'corp', 'week', 'modifi', 'street', 'barrier', 'precis', 'campaign', 'onestop', 'japan', 'portland', 'aec', 'locker', 'premis', 'common', 'vari', 'decemb', 'union', 'berlin', 'pharmaceut', 'lot', 'whose', 'navig', 'histori', 'furnitur', 'evalu', 'mail', 'ag', 'exceed', 'coupl', 'click', 'instead', 'iphon', 'household', 'tunnel', 'franchis', 'rapid', 'particular', 'show', 'strength', 'na', 'delay', 'dashboard', 'action', 'star', 'spot', 'underground', 'bespok', 'rest', 'height', 'cultiv', 'easier', 'inspir', 'shanghai', 'craft', 'discount', 'page', 'dont', 'haul', 'coffe', 'cap', 'que', 'thermo', 'unlimit', 'insid', 'anyth', 'exhibit', 'nich', 'pacif', 'canadian', 'amount', 'mitig', 'truckload', 'metro', 'invit', 'feedback', 'northern', 'lowest', 'manual', 'upgrad', 'river', 'abroad', 'roll', 'bond', 'pizero', 'masonri', 'treatment', 'municip', 'incred', 'beverag', 'saasbas', 'equiti', 'legal', 'ownership', 'howev', 'substanti', 'perfect', 'undertak', 'ton', 'consolid', 'accommod', 'uae', 'bv', 'provis', 'hydraul', 'revolutionari', 'atlanta', 'awardwin', 'biggest', 'cleveland', 'confid', 'francisco', 'prioriti', 'convent', 'ipad', 'demolit', 'gourmet', 'specifi', 'washington', 'furthermor', 'techniqu', 'lab', 'qualifi', 'talent', 'anyon', 'resel', 'bag', 'bro', 'paul', 'mep', 'agent', 'reinforc', 'white', 'delhi', 'regard', 'head', 'permit', 'zone', 'young', 'shenzhen', 'colono', 'hill', 'peco', 'gilmor', 'un', 'anytim', 'knowhow', 'enter', 'arm', 'plugin', 'languag', 'quest', 'john', 'turbin', 'behind', 'prefer', 'gravel', 'tractor', 'iso', 'joint', 'tri', 'concern', 'hightech', 'margin', 'ceo', 'hybrid', 'manner', 'itali', 'western', 'sort', 'formerli', 'impress', 'amazon', 'simpli', 'eas', 'attract', 'given', 'defin', 'appl', 'journey', 'eastern', 'longer', 'front', 'camp', 'rather', 'six', 'season', 'anoth', 'maryland', 'parent', 'recognis', 'programm', 'ten', 'border', 'refurbish', 'previous', 'durabl', 'reward', 'promis', 'domain', 'catalog', 'layer', 'trip', 'chief', 'satellit', 'wrapup', 'gold', 'entri', 'dimens', 'lifestyl', 'messag', 'decentr', 'commerc', 'virginia', 'oversea', 'foreign', 'sanitari', 'dc', 'complement', 'unlik', 'seen', 'inject', 'cours', 'layout', 'planner', 'dock', 'fine', 'consumpt', 'tablet', 'watch', 'signal', 'verifi', 'gulf', 'desir', 'swim', 'ultim', 'taken', 'sme', 'simul', 'studio', 'spanish', 'proof', 'sameday', 'feet', 'silicon', 'autodesk', 'shipbuild', 'reflect', 'fact', 'taxi', 'hazard', 'begin', 'similar', 'mass', 'oem', 'bizslat', 'huge', 'duct', 'grc', 'coal', 'brake', 'baggag', 'tax', 'old', 'januari', 'centr', 'press', 'aluminium', 'draft', 'separ', 'librari', 'pennsylvania', 'movement', 'pc', 'novemb', 'plastic', 'man', 'note', 'lunch', 'meal', 'valuead', 'flagship', 'incom', 'agil', 'root', 'april', 'scope', 'entiti', 'either', 'weather', 'theyr', 'laundri', 'embed', 'juli', 'leav', 'typic', 'orient', 'fs', 'bu', 'jersey', 'constructor', 'advic', 'paid', 'refriger', 'configur', 'rfid', 'rig', 'packer', 'ideal', 'seed', 'pain', 'paulo', 'slab', 'factor', 'filter', 'modif', 'tube', 'tm', 'lamin', 'earth', 'highperform', 'incept', 'shift', 'nutrit', 'kansa', 'andor', 'satisfi', 'basement', 'princip', 'si', 'sens', 'petroleum', 'sleep', 'discoveri', 'recommend', 'film', 'spray', 'gear', 'disast', 'earthwork', 'safer', 'toyota', 'dollar', 'wheel', 'unwav', 'indian', 'mediums', 'overal', 'submitt', 'magazin', 'corrug', 'luggag', 'hassl', 'adopt', 'revolution', 'situat', 'fenc', 'trader', 'mud', 'stress', 'immers', 'lastmil', 'path', 'conveyor', 'tug', 'barg', 'petrochem', 'shape', 'align', 'calcium', 'zealand', 'crowdsourc', 'uber', 'expedit', 'fill', 'textur', 'haulag', 'showcas', 'weight', 'artifici', 'passiv', 'classic', 'anchor', 'advisori', 'button', 'quickbook', 'wait', 'aalborg', 'denmark', 'sprinkler', 'diagnost', 'cimc', 'rural', 'sole', 'errand', 'eye', 'sqft', 'son', 'hoist', 'linbeck', 'flirtey', 'reason', 'must', 'sharehold', 'grade', 'far', 'accomplish', 'elev', 'thermal', 'bath', 'technician', 'arrang', 'readymix', 'revolut', 'imagin', 'releas', 'significantli', 'question', 'late', 'sent', 'boat', 'immedi', 'motorcycl', 'consid', 'kit', 'headset', 'blog', 'lender', 'warranti', 'switzerland', 'moment', 'concierg', 'creator', 'valid', 'contin', 'viewer', 'news', 'stainless', 'turnaround', 'role', 'tx', 'formul', 'dealership', 'matter', 'aftersal', 'workspac', 'defens', 'unparallel', 'miner', 'ident', 'happen', 'printer', 'genuin', 'tell', 'radio', 'error', 'oy', 'distinct', 'lake', 'exact', 'blueprint', 'ventil', 'regardless', 'eyefreight', 'multimod', 'net', 'societi', 'especi', 'pinnacl', 'royal', 'suitabl', 'comparison', 'sage', 'wireless', 'composit', 'szafki', 'occupi', 'numer', 'particularli', 'analys', 'hook', 'epoxi', 'renter', 'almost', 'retain', 'edit', 'drainag', 'upcom', 'gantt', 'beam', 'rule', 'input', 'feel', 'pour', 'blockchain', 'lien', 'wastewat', 'remedi', 'friend', 'powertrain', 'tow', 'shell', 'histor', 'larger', 'cleanup', 'wet', 'retir', 'pti', 'roller', 'rack', 'spain', 'multi', 'cuttingedg', 'para', 'servicio', 'inexpens', 'liquid', 'medicin', 'geosho', 'leisur', 'todo', 'ar', 'alcohol', 'chosen', 'dredg', 'concentr', 'fall', 'batteri', 'marker', 'sign', 'goe', 'poland', 'ou', 'tekla', 'appear', 'ritchi', 'sweden', 'indepth', 'gen', 'subsea', 'gift', 'indonesia', 'loyalti', 'az', 'mw', 'card', 'bottl', 'sub', 'spare', 'paperwork', 'float', 'topcon', 'turnov', 'cedar', 'australian', 'thapar', 'annapoli', 'radar', 'par', 'une', 'sur', 'engrav', 'easyship', 'geotech', 'spoiler', 'faaapprov', 'theft', 'collis', 'cold', 'batch', 'count', 'mount', 'telescop', 'excit', 'youll', 'blast', 'cart', 'regulatori', 'patio', 'yard', 'leak', 'spent', 'northwest', 'denver', 'brisa', 'piec', 'unmatch', 'electromechan', 'highspe', 'veget', 'stream', 'corridor', 'continent', 'polici', 'no', 'rv', 'mileston', 'decid', 'van', 'constantli', 'shall', 'principl', 'utilis', 'sophist', 'aid', 'deadlin', 'spa', 'presid', 'vital', 'advisor', 'russia', 'mercitalia', 'cabinet', 'dnv', 'fragment', 'abc', 'encourag', 'extern', 'microsoft', 'cell', 'freemium', 'tap', 'synchron', 'pass', 'edward', 'utah', 'bestinclass', 'trail', 'read', 'accuraci', 'dump', 'southeast', 'behalf', 'arch', 'ethic', 'certain', 'ago', 'career', 'thrive', 'beij', 'forecast', 'sequenc', 'identif', 'worth', 'waterproof', 'period', 'peertop', 'smaller', 'chairman', 'feasibl', 'resin', 'outsid', 'craftsmanship', 'someth', 'prove', 'protocol', 'metric', 'usag', 'qoro', 'roundtheclock', 'undeni', 'midsiz', 'metr', 'shaft', 'nh', 'club', 'dairi', 'element', 'rick', 'versatil', 'geograph', 'unlock', 'everyday', 'adam', 'constant', 'villag', 'realli', 'weve', 'caus', 'indic', 'popular', 'cheaper', 'geoloc', 'argentina', 'realest', 'iron', 'scrap', 'semiconductor', 'ml', 'atm', 'wine', 'cabin', 'clad', 'mill', 'zipment', 'whatev', 'merger', 'augment', 'notifi', 'crude', 'growlif', 'worldclass', 'yield', 'leaflet', 'proposit', 'prospect', 'pdf', 'district', 'cratu', 'refineri', 'town', 'prototyp', 'maxcon', 'mortgag', 'zigtag', 'word', 'recognit', 'got', 'curb', 'tackl', 'ecolog', 'austin', 'houston', 'breakthrough', 'determin', 'preserv', 'index', 'hertel', 'often', 'prep', 'tree', 'envelop', 'sun', 'checklist', 'armor', 'midwest', 'dispos', 'abm', 'supermarket', 'lean', 'abund', 'volum', 'bottom', 'el', 'cab', 'lock', 'amongst', 'gestur', 'noth', 'nonasset', 'vietnam', 'workshop', 'provinc', 'truckish', 'sam', 'workmanship', 'multifamili', 'scientist', 'remap', 'alon', 'break', 'contractu', 'esr', 'grant', 'pad', 'ac', 'sydney', 'william', 'al', 'cargocoin', 'innex', 'fastflow', 'brilliant', 'downer', 'glori', 'brisban', 'exhaust', 'obuu', 'brimar', 'guard', 'welcom', 'turkey', 'tyre', 'hidden', 'benchmark', 'static', 'colleg', 'wuunder', 'chat', 'apparel', 'promin', 'regular', 'concess', 'color', 'ncr', 'easiest', 'qualif', 'appreci', 'aftermarket', 'fli', 'french', 'acoust', 'optic', 'littl', 'eg', 'pave', 'har', 'fun', 'inland', 'oh', 'shower', 'museum', 'compat', 'invent', 'adjust', 'katoen', 'nati', 'matternet', 'introduc', 'garag', 'minnesota', 'iowa', 'nebraska', 'normal', 'wm', 'mistak', 'intrac', 'wooden', 'alloy', 'optimum', 'adher', 'seri', 'km', 'join', 'topic', 'attach', 'actual', 'supplychain', 'guidanc', 'exampl', 'none', 'fluid', 'republ', 'settlement', 'clearanc', 'traceabl', 'chart', 'canal', 'spring', 'moscow', 'photographi', 'walk', 'nigeria', 'dozen', 'easymov', 'helper', 'ftl', 'ineffici', 'intens', 'legaci', 'postal', 'otherwis', 'ontim', 'farmer', 'bundl', 'po', 'background', 'cloth', 'abras', 'seal', 'refund', 'pm', 'took', 'easytous', 'properli', 'consign', 'ms', 'galleri', 'mro', 'dubai', 'someon', 'equal', 'tourism', 'bidcran', 'templat', 'amoy', 'rmb', 'difficult', 'bouman', 'wing', 'wave', 'te', 'regularli', 'selfservic', 'aesthet', 'mall', 'markup', 'multidisciplinari', 'autocad', 'wherev', 'alto', 'lend', 'visualis', 'mirror', 'procedur', 'onpremis', 'relax', 'diy', 'august', 'clinic', 'heart', 'distanc', 'audio', 'renown', 'unrival', 'style', 'sewer', 'landfil', 'outlet', 'customiz', 'hyderabad', 'wisconsin', 'pictur', 'electrician', 'closur', 'bam', 'beta', 'marbl', 'flood', 'defenc', 'lie', 'curv', 'alloc', 'cool', 'weungri', 'ctspace', 'omnichannel', 'stedman', 'letterbox', 'clock', 'workingdom', 'lubric', 'encompass', 'overview', 'affili', 'descript', 'quanta', 'megacorp', 'sender', 'intuit', 'retriev', 'nyc', 'youv', 'shed', 'archicad', 'cast', 'toronto', 'vast', 'stori', 'proactiv', 'temporari', 'compromis', 'edi', 'cheap', 'perman', 'midland', 'correct', 'accid', 'territori', 'registr', 'bidder', 'spectrum', 'wizard', 'imageri', 'il', 'greenhous', 'tokyo', 'miller', 'systemat', 'era', 'stabil', 'halal', 'compliant', 'neighborhood', 'refer', 'multichannel', 'homebuild', 'est', 'masslog', 'enough', 'reconstruct', 'orocon', 'finland', 'text', 'circuit', 'pvt', 'gse', 'foot', 'appropri', 'overhead', 'hole', 'dodo', 'nextgener', 'pp', 'mold', 'tradesmen', 'cofound', 'fashion', 'strengthen', 'terreal', 'dhl', 'siteawar', 'sd', 'proptech', 'camper', 'largescal', 'con', 'depotc', 'phoenicia', 'israel', 'lofa', 'tim', 'asl', 'vosta', 'lmg', 'jiangsu', 'villa', 'selerix', 'zonar', 'trabajo', 'dramat', 'propuls', 'bexcom', 'alabama', 'lack', 'aux', 'vortal', 'woobiu', 'roadrunn', 'quasa', 'stabilis', 'flyer', 'lash', 'fastbuild', 'mapl', 'ink', 'night', 'waiver', 'seat', 'pin', 'hot', 'exactli', 'swing', 'michael', 'slide', 'manipul', 'facad', 'articul', 'mac', 'ramp', 'symbol', 'checkout', 'tanker', 'verif', 'matur', 'framework', 'cubic', 'malaysia', 'capacit', 'cm', 'refuel', 'gasolin', 'gase', 'actor', 'redund', 'sponsor', 'portug', 'comment', 'nevada', 'compact', 'dex', 'hitech', 'discuss', 'rotor', 'interconnect', 'women', 'sc', 'aspir', 'neutral', 'srl', 'quotat', 'userfriendli', 'receipt', 'oct', 'collector', 'harder', 'rod', 'sight', 'toy', 'oblig', 'acryl', 'german', 'law', 'theme', 'nokia', 'blackberri', 'evolut', 'eagleview', 'patentpend', 'length', 'tailormad', 'mainland', 'enrich', 'dakota', 'southwest', 'northeast', 'termit', 'tent', 'inquiri', 'whenev', 'pinck', 'nonprofit', 'oversight', 'realworld', 'swipbox', 'livedata', 'surveil', 'zand', 'freedom', 'saw', 'chip', 'strict', 'ferrovi', 'exploit', 'chanc', 'introduct', 'doesnt', 'mediterranean', 'usp', 'bobcat', 'longest', 'octob', 'ko', 'norway', 'trace', 'mm', 'seven', 'industrylead', 'extraordinari', 'fundament', 'tnt', 'disney', 'retent', 'applianc', 'broadcast', 'simultan', 'centuri', 'daytoday', 'simplic', 'consecut', 'indiana', 'crown', 'investig', 'incid', 'anglo', 'salt', 'chennai', 'horizont', 'merchandis', 'onscreen', 'theyv', 'fasten', 'entitl', 'miami', 'forev', 'respond', 'tomorrow', 'translat', 'secondari', 'repurpos', 'salvag', 'zep', 'deriv', 'ceil', 'energyeffici', 'snclavalin', 'brazilian', 'amaz', 'mould', 'goodwil', 'paradigm', 'organiz', 'ant', 'propos', 'prequalif', 'half', 'hisher', 'efulfil', 'dismantl', 'frequenc', 'intellectu', 'dig', 'aecom', 'oraz', 'toalet', 'nasz', 'jest', 'powinni', 'nie', 'spread', 'vapor', 'motion', 'weekli', 'boost', 'extract', 'forestri', 'messeng', 'tremend', 'sirenum', 'recruit', 'ita', 'dive', 'climat', 'harm', 'arab', 'abu', 'dhabi', 'shortest', 'rock', 'arkansa', 'barcod', 'differenti', 'distinguish', 'bangalor', 'simpliship', 'nvocc', 'audienc', 'michigan', 'church', 'clear', 'methodolog', 'alli', 'prairi', 'gate', 'perish', 'irrig', 'forefront', 'felt', 'disabl', 'armi', 'pikkop', 'sound', 'fulltim', 'oculu', 'rift', 'statement', 'pet', 'lightweight', 'aluminum', 'geospati', 'beach', 'forg', 'facet', 'retrofit', 'doubl', 'avenu', 'outcom', 'ifc', 'plug', 'rebar', 'elit', 'dow', 'wearabl', 'campu', 'tourist', 'tast', 'finest', 'laptop', 'customis', 'sealant', 'forest', 'outdat', 'standalon', 'therebi', 'autonomi', 'seattl', 'enthusiast', 'bridon', 'embrac', 'fdsi', 'matchmak', 'erect', 'lp', 'heritag', 'jsi', 'multin', 'biomass', 'boiler', 'onshor', 'prefab', 'addon', 'intent', 'drink', 'lime', 'jone', 'evergreen', 'bend', 'eleg', 'friction', 'rigor', 'sendi', 'membership', 'minimis', 'maximis', 'trash', 'answer', 'isnt', 'unus', 'sweep', 'alarm', 'sketchup', 'goexpedi', 'reinvent', 'cincinnati', 'liquor', 'tookan', 'resolv', 'shuttl', 'glasswork', 'david', 'berntsen', 'pharma', 'asiapacif', 'workplac', 'portion', 'figur', 'alien', 'earthmov', 'subscriptionbas', 'textura', 'aruba', 'utmost', 'meaning', 'scott', 'ubidata', 'might', 'subscrib', 'recreat', 'gi', 'suburb', 'snow', 'paver', 'jame', 'lowcost', 'blade', 'rooftop', 'punchlist', 'letter', 'backyard', 'geotechn', 'hamm', 'salido', 'inspector', 'koldcast', 'represent', 'fusion', 'mixedus', 'oriano', 'demo', 'whilst', 'bottlemark', 'minimum', 'jewelri', 'silo', 'southeastern', 'cruis', 'rio', 'proper', 'totalbid', 'miss', 'kilomet', 'flash', 'logic', 'bin', 'carboncur', 'recur', 'airbu', 'met', 'groundbreak', 'nordic', 'polic', 'fertil', 'conceptu', 'onboard', 'thoroughli', 'debri', 'edibl', 'output', 'pt', 'fitout', 'screen', 'artist', 'musician', 'thoma', 'manchest', 'ecu', 'liverpool', 'jobsit', 'scientif', 'rolli', 'stuff', 'pod', 'steer', 'sokohali', 'lockbox', 'ontarget', 'brea', 'hawaii', 'shelter', 'ivoy', 'complic', 'cheapest', 'egist', 'mosa', 'ceram', 'rehabilit', 'lm', 'wise', 'affect', 'casahogarcom', 'loader', 'dozer', 'gafcon', 'anticip', 'bicycl', 'karam', 'kct', 'streetturn', 'court', 'shriev', 'seg', 'sr', 'septemb', 'theater', 'stolen', 'liabil', 'falcon', 'england', 'rhead', 'ingredi', 'orderhub', 'thailand', 'epa', 'envirotac', 'uav', 'explos', 'meat', 'dayton', 'mortar', 'redteam', 'announc', 'mason', 'coltd', 'discov', 'placement', 'tracker', 'alongsid', 'song', 'redefin', 'ironplanet', 'guerdon', 'healthi', 'contoura', 'cove', 'sink', 'cylind', 'underpin', 'marm', 'tipo', 'nuestro', 'temp', 'creek', 'obryan', 'ib', 'inclus', 'footer', 'scheme', 'ingecid', 'anonybox', 'depco', 'cld', 'guangzhou', 'visor', 'hengshen', 'delamod', 'velux', 'millebot', 'vianova', 'tel', 'surplu', 'smc', 'evid', 'pend', 'increasingli', 'fold', 'unman', 'pound', 'browser', 'taylor', 'foam', 'ct', 'skateboard', 'crosscultur', 'cosmo', 'sac', 'sacyr', 'concesion', 'garden', 'simplest', 'ferer', 'istanbul', 'blend', 'myseekit', 'toler', 'pull', 'commenc', 'plaza', 'menu', 'carson', 'qualit', 'prime', 'antenna', 'industrywid', 'brunswick', 'peter', 'cf', 'english', 'ilogistica', 'ralli', 'belt', 'jet', 'fireproof', 'tub', 'granit', 'countertop', 'santa', 'command', 'samsung', 'say', 'pitch', 'conflict', 'builderstorm', 'decisionmak', 'popul', 'faa', 'llp', 'dimbuy', 'crucial', 'korea', 'setup', 'mopix', 'filmmak', 'fan', 'monet', 'left', 'subject', 'african', 'cambridg', 'massachusett', 'indigo', 'amphenol', 'ostbi', 'non', 'polish', 'signatur', 'azerbaijan', 'dello', 'stato', 'characterist', 'confirm', 'gruppo', 'elect', 'influenc', 'buse', 'diamond', 'preown', 'twitter', 'louisvil', 'kentucki', 'arkitera', 'server', 'celebr', 'johnson', 'spotlight', 'lcl', 'atech', 'honesti', 'shadow', 'jack', 'consol', 'tv', 'bear', 'empti', 'spec', 'vet', 'vc', 'describ', 'age', 'singpost', 'em', 'fabcon', 'grew', 'precast', 'indianapoli', 'fourth', 'steven', 'jakarta', 'maker', 'lgi', 'peac', 'boa', 'hose', 'illinoi', 'overcharg', 'inbound', 'outbound', 'wealth', 'will', 'mon', 'inher', 'commonli', 'veloc', 'hauler', 'proest', 'dl', 'tenant', 'rilco', 'prior', 'wwii', 'hangar', 'truss', 'datacad', 'chile', 'mississippi', 'bbb', 'fiscal', 'fc', 'interdisciplinari', 'stack', 'freshli', 'wrap', 'snap', 'moistur', 'navi', 'admir', 'refac', 'charl', 'mess', 'guest', 'ticket', 'foster', 'honey', 'pursuit', 'famou', 'mcmillin', 'vlogic', 'airfreight', 'adequ', 'shipcom', 'twin', 'jumbo', 'voodoo', 'midatlant', 'coteaqui', 'idl', 'planet', 'duti', 'cd', 'mccourt', 'sq', 'ft', 'advis', 'vice', 'realti', 'privaci', 'kabi', 'zagospodarowania', 'firma', 'od', 'szatni', 'obiektach', 'odzi', 'rwnie', 'oregon', 'skanska', 'ryan', 'newest', 'hn', 'safal', 'vibrant', 'sanit', 'reservoir', 'dam', 'meant', 'conserv', 'sh', 'convinc', 'coin', 'statist', 'golf', 'demat', 'perspect', 'clash', 'fork', 'fear', 'coastal', 'vulner', 'warfar', 'exercis', 'melo', 'annot', 'grondwerken', 'heylen', 'crate', 'titl', 'yopano', 'chartbas', 'ha', 'inflat', 'emir', 'synergi', 'deepli', 'candid', 'mutual', 'hugg', 'checkin', 'chines', 'diego', 'despit', 'onto', 'smb', 'eager', 'increment', 'sit', 'whichbox', 'summit', 'titan', 'xorail', 'peripher', 'arxum', 'acr', 'veerhous', 'voda', 'resist', 'tennesse', 'ford', 'curat', 'mr', 'pa', 'conduit', 'proudli', 'arlington', 'failur', 'amr', 'clariti', 'combat', 'fintech', 'endeavour', 'lane', 'fpm', 'multidisciplin', 'occur', 'telemat', 'greatwid', 'compens', 'selidb', 'da', 'traxedo', 'aka', 'belong', 'preciou', 'maplink', 'nd', 'ep', 'tipper', 'microst', 'regal', 'mountain', 'exxonmobil', 'mandat', 'safeguard', 'slogan', 'gerdau', 'maybim', 'bechtel', 'travi', 'matt', 'neighbor', 'snack', 'academ', 'irish', 'membran', 'trim', 'council', 'brandcommerc', 'academia', 'carpet', 'uruguay', 'returnloadsnet', 'emot', 'dust', 'drain', 'favorit', 'hyper', 'shopper', 'citadon', 'ge', 'buildonlin', 'wear', 'ofrec', 'circular', 'ecofriendli', 'drastic', 'sphere', 'crop', 'pois', 'pari', 'paramet', 'eu', 'wale', 'esri', 'spatial', 'rfq', 'occup', 'sensit', 'cbd', 'napec', 'ontario', 'mat', 'vocat', 'chlorid', 'albemarl', 'outdoor', 'nativ', 'sl', 'limeston', 'adhes', 'mode', 'welltrain', 'courteou', 'supplement', 'photovolta', 'highend', 'absolut', 'an', 'signup', 'diagram', 'sketch', 'definit', 'fruit', 'newyork', 'supervis', 'timekeep', 'topqual', 'unexpect', 'kick', 'pile', 'rubbish', 'burden', 'nonhazard', 'chariti', 'banana', 'tmt', 'quantifi', 'multimedia', 'mi', 'constitut', 'giant', 'orlando', 'takealotcom', 'quarri', 'stett', 'womanown', 'bureau', 'dalla', 'kahua', 'liner', 'durat', 'eight', 'dropbox', 'tailwind', 'chicagoland', 'arcadia', 'mrc', 'valv', 'tamer', 'surpris', 'disciplin', 'voic', 'rear', 'disput', 'storm', 'stamp', 'honor', 'milk', 'flagston', 'temperaturecontrol', 'turner', 'bmw', 'nearest', 'corovan', 'northeastern', 'government', 'accredit', 'demonstr', 'bob', 'endeavor', 'uma', 'mow', 'magic', 'bay', 'unorgan', 'camfaud', 'schwing', 'essex', 'kent', 'novik', 'wellknown', 'domicil', 'yearli', 'unreserv', 'assetlight', 'wagon', 'drayag', 'transload', 'egt', 'televis', 'archinet', 'decommiss', 'paramount', 'rotterdam', 'trucker', 'sm', 'alik', 'oak', 'carpentri', 'diari', 'stair', 'casa', 'welship', 'mobitor', 'brown', 'honda', 'abat', 'shelbi', 'biopharmaceut', 'airbnb', 'least', 'ye', 'surveyor', 'ci', 'ukrain', 'devot', 'pharmaci', 'glendal', 'queue', 'push', 'neff', 'jan', 'nearshor', 'myparceldeliverycom', 'ebay', 'embark', 'sail', 'token', 'suppress', 'hail', 'resolut', 'ur', 'covai', 'citizen', 'nwdg', 'banker', 'aethon', 'patient', 'memori', 'wafer', 'secondhand', 'beat', 'lose', 'timelin', 'tronair', 'airspac', 'vozeem', 'straight', 'worldtran', 'crossdock', 'reddiform', 'icf', 'holist', 'sync', 'suzuki', 'costli', 'joo', 'pessoa', 'men', 'ebuild', 'jade', 'troubleshoot', 'shouguang', 'prosper', 'came', 'dialogu', 'alternativesoft', 'hedg', 'exposur', 'difficulti', 'pier', 'surviv', 'intermediari', 'shipyard', 'borun', 'cornbas', 'stabl', 'corn', 'conform', 'elsewher', 'eld', 'internusa', 'tcp', 'mapilari', 'datadriven', 'els', 'punctual', 'bwb', 'rivigo', 'relay', 'commut', 'roadway', 'supplyhound', 'tumanita', 'gutter', 'tie', 'preemin', 'eshang', 'stake', 'gateway', 'lawson', 'rough', 'summer', 'info', 'dominion', 'textil', 'pathov', 'jose', 'palo', 'notabl', 'runner', 'herc', 'masteri', 'russel', 'nissan', 'red', 'qrf', 'terr', 'terroir', 'abramar', 'complementari', 'minneapoli', 'aiq', 'chand', 'inder', 'mohan', 'former', 'king', 'cquenc', 'motiv', 'rx', 'terracotta', 'father', 'arzoon', 'swift', 'holder', 'sendmybag', 'condominium', 'progetto', 'familyown', 'laboratoir', 'thymox', 'entrepreneuri', 'selfdriv', 'byggnet', 'arkitektkopia', 'greg', 'caravan', 'worri', 'tampa', 'mar', 'antonio', 'degre', 'prestress', 'extrus', 'cr', 'endur', 'resurfac', 'flywheel', 'inovahous', 'conjunct', 'crypto', 'rebat', 'kusto', 'mention', 'mccue', 'gilbert', 'closer', 'hive', 'rug', 'tbm', 'sauc', 'metallurg', 'bioadhes', 'pillar', 'injuri', 'suprem', 'prm', 'iv', 'verticallyintegr', 'shiprepair', 'greenbrier', 'camso', 'offtheroad', 'lay', 'alpak', 'shopservic', 'wh', 'smartjog', 'cinema', 'telecom', 'blockfreight', 'assault', 'pcb', 'portabl', 'kito', 'gluaygluaycom', 'certainli', 'ejm', 'lognet', 'tunereach', 'cogener', 'backho', 'downtown', 'vela', 'graduat', 'sf', 'ration', 'berkeley', 'spirit', 'inventor', 'compactor', 'skid', 'benselect', 'apprenticeship', 'anim', 'permiss', 'hampoo', 'gotmyjob', 'cake', 'muebl', 'papel', 'piso', 'se', 'segn', 'highvalu', 'seegrid', 'loss', 'cinx', 'nlink', 'moto', 'basin', 'vimro', 'baltic', 'ice', 'cainiao', 'congruex', 'ab', 'atomo', 'aweri', 'palatin', 'aron', 'cni', 'wright', 'roofr', 'du', 'dan', 'lassur', 'dun', 'au', 'lassist', 'leur', 'grain', 'henri', 'soybean', 'cadmat', 'redsid', 'pvc', 'binladin', 'hpkg', 'paketid', 'nix', 'depth', 'mitsubishi', 'lynk', 'breez', 'guardednet', 'hamilton', 'cabinetri', 'builddirect', 'rpa', 'manlift', 'switch', 'perth', 'baywa', 'penta', 'partit', 'cannon', 'extinguish', 'panu', 'uv', 'clutch', 'lumina', 'arrett', 'plum', 'villum', 'kann', 'rasmussen', 'gallagh', 'drexel', 'skipthedish', 'defibril', 'delpac', 'exo', 'pandora', 'dalaman', 'vat', 'headlight', 'hadrian', 'surplusmatch', 'sunlight', 'confer', 'legisl', 'arbor', 'clearli', 'tucker', 'gripper', 'hello', 'hope', 'webshop', 'probabl', 'wheelright', 'oxford', 'ukbas', 'gilman', 'signag', 'ie', 'usd', 'tsx', 'agencia', 'martima', 'peruvian', 'seismic', 'isol', 'vibrat', 'arculu', 'adult', 'greenfield', 'walkway', 'waterfal', 'boulder', 'grupo', 'pigment', 'infra', 'prestig', 'cnc', 'windshield', 'wont', 'adept', 'gamechang', 'immens', 'ledger', 'ave', 'dia', 'autoestrada', 'motorway', 'reno', 'summari', 'aerotron', 'copi', 'groundbas', 'traction', 'duke', 'chri', 'exit', 'mba', 'dod', 'highris', 'companion', 'foxconn', 'connector', 'bpo', 'georgetown', 'stadium', 'sandwich', 'hasslefre', 'intersect', 'georg', 'proxim', 'uptod', 'soon', 'write', 'cage', 'dune', 'umbrella', 'dental', 'sulphur', 'canton', 'lincro', 'harbour', 'lucca', 'lu', 'ui', 'michel', 'cerreta', 'itun', 'appstor', 'incub', 'polo', 'chequ', 'mercedesbenz', 'redmonk', 'bric', 'mainlandhong', 'expir', 'geofenc', 'onetim', 'self', 'pest', 'kid', 'indoor', 'surgic', 'surgeri', 'periop', 'pure', 'teach', 'swedish', 'shopfront', 'alliant', 'pdm', 'bp', 'enviro', 'went', 'balfour', 'beatti', 'costain', 'broadband', 'ministri', 'pursu', 'renato', 'uic', 'occas', 'longdist', 'cream', 'suppositori', 'plainfield', 'carleton', 'wed', 'wit', 'uptotheminut', 'polbuilt', 'glasgow', 'profess', 'plaster', 'tradesman', 'firstclass', 'craftsman', 'byggvaru', 'ferguson', 'norsok', 'infin', 'omnitrol', 'taa', 'oracl', 'acclaim', 'analyst', 'gartner', 'ec', 'coars', 'teamwork', 'latinamerica', 'pizza', 'drag', 'gantri', 'caja', 'hampshir', 'mechanicnet', 'cargol', 'allinclus', 'apptit', 'soup', 'delici', 'mrm', 'accolad', 'columbu', 'allentown', 'arsitag', 'british', 'columbia', 'provinci', 'visitor', 'beer', 'wasatch', 'enclosur', 'mixer', 'essenc', 'banyan', 'fewer', 'gso', 'orchestr', 'mda', 'emobl', 'defect', 'postsal', 'mcmastercarr', 'janitori', 'clamp', 'fe', 'fri', 'ic', 'forth', 'importantli', 'ingeni', 'timesheet', 'utrecht', 'flatb', 'ballast', 'insert', 'undevelop', 'vacat', 'aeroxchang', 'aog', 'mathemat', 'magnet', 'rare', 'envis', 'elevion', 'voc', 'bake', 'joy', 'awesom', 'vico', 'clunki', 'carv', 'ordinari', 'closet', 'murphi', 'expocent', 'multifunct', 'highlight', 'scour', 'paypal', 'sap', 'floyd', 'topeka', 'reliev', 'fifteen', 'pathfind', 'turbo', 'yearround', 'alaska', 'je', 'burli', 'smarter', 'bound', 'terrain', 'paradis', 'roughli', 'debt', 'daniel', 'reserv', 'produkti', 'tworzymi', 'lat', 'dostarczami', 'inwestorom', 'sprawdzon', 'rozwizania', 'gotow', 'obiektw', 'czi', 'czyst', 'sanitarn', 'pomieszczenia', 'taki', 'wani', 'ktrym', 'mona', 'wygod', 'odpowiedni', 'wyposaeni', 'utrzymani', 'higieni', 'tego', 'rodzaju', 'sportw', 'wodnych', 'dziki', 'wykonan', 'odporn', 'dziaani', 'lan', 'riversid', 'indu', 'aibas', 'timelaps', 'widget', 'gujarat', 'impart', 'roplex', 'shepherd', 'thin', 'speaker', 'hydro', 'accisa', 'cantabria', 'subsequ', 'len', 'madrid', 'transvers', 'cowork', 'ctsiglob', 'decreas', 'odyssey', 'anyquip', 'intralogist', 'flowlin', 'chassi', 'semiautomat', 'cape', 'relief', 'irregular', 'simulationiso', 'weapon', 'affair', 'moreov', 'mike', 'roger', 'mentor', 'lier', 'artex', 'antiqu', 'buddi', 'panorama', 'vacuum', 'xframe', 'strictli', 'attitud', 'notic', 'geni', 'jlg', 'volvo', 'lifetim', 'fingerprint', 'sedan', 'substrat', 'slow', 'ecom', 'leap', 'storytel', 'selfmanag', 'facebook', 'finalist', 'cutov', 'kc', 'influenti', 'xray', 'pedal', 'finit', 'fiestah', 'refresh', 'morn', 'readili', 'fellow', 'penetr', 'lost', 'adventur', 'realis', 'shine', 'reinvest', 'etho', 'remind', 'reclam', 'lakeshor', 'dfw', 'movein', 'amen', 'grill', 'highland', 'shock', 'pradesh', 'frustrat', 'sdvosb', 'ranger', 'canyon', 'cmp', 'strain', 'uphold', 'golden', 'soniclu', 'malfunct', 'stuart', 'owneroper', 'efreight', 'organizujemo', 'smo', 'vend', 'upclin', 'garment', 'tracksuit', 'seem', 'multilingu', 'multicurr', 'rentinstead', 'xs', 'colombia', 'sigma', 'polyest', 'polypropylen', 'axtel', 'bentley', 'roth', 'drywal', 'ust', 'vancouv', 'ore', 'pv', 'chevron', 'goldman', 'walkthrough', 'camera', 'vive', 'cennox', 'robinson', 'publicli', 'jerez', 'wineri', 'monument', 'pollut', 'dementia', 'chong', 'loghous', 'damp', 'harsh', 'written', 'scandinavian', 'stewardship', 'reassur', 'glue', 'reconstitut', 'pellet', 'drug', 'prism', 'reinstat', 'asbesto', 'scene', 'mena', 'driverless', 'ksea', 'norfolk', 'luoji', 'glaze', 'reflex', 'scoper', 'compress', 'dehydr', 'license', 'nine', 'strand', 'race', 'citysprint', 'fluor', 'mclaren', 'aqua', 'circul', 'rubi', 'ee', 'uncompromis', 'timeless', 'crusher', 'unsurpass', 'remit', 'samedaydeliveri', 'solucion', 'trav', 'quotelab', 'virtuou', 'millwright', 'cryogen', 'pulp', 'stronger', 'tauc', 'nutrient', 'catapult', 'firmli', 'grower', 'processor', 'plethora', 'myshopi', 'inhom', 'cashback', 'tradeshift', 'rfa', 'assessor', 'at', 'frequent', 'theirselv', 'flourish', 'deepen', 'nanj', 'evacu', 'subsystem', 'tiger', 'chemistri', 'polym', 'catalyst', 'skylight', 'dvele', 'valencia', 'consequ', 'ecosustain', 'mindesk', 'compos', 'tariff', 'bottomlin', 'lifescap', 'softtech', 'crowley', 'sunshin', 'latu', 'negcio', 'java', 'singlesourc', 'hugh', 'zego', 'milan', 'bottleneck', 'ashworth', 'colstor', 'dna', 'smoother', 'anson', 'semant', 'bookmark', 'sidebar', 'although', 'ny', 'confus', 'feed', 'conif', 'checker', 'dallasfort', 'cosmet', 'youd', 'delight', 'overwhelm', 'timeconsum', 'unsightli', 'unwant', 'reus', 'robert', 'latvian', 'cc', 'graphisoft', 'solvent', 'oilfield', 'overcom', 'staf', 'prestigi', 'cementiti', 'unorganis', 'logistadvis', 'nacd', 'fastestgrow', 'topshelf', 'geosynthet', 'longlast', 'customerfocus', 'hazmat', 'predesign', 'azur', 'kubla', 'buzzmeeh', 'beaver', 'marketlead', 'hiab', 'embodi', 'stellar', 'ipod', 'refus', 'colour', 'selfstorag', 'cheguel', 'suggest', 'sao', 'ziplin', 'imposs', 'quit', 'winch', 'starter', 'xyz', 'mit', 'contruct', 'listen', 'cow', 'havelock', 'interven', 'steadili', 'apa', 'merced', 'porsch', 'kiimo', 'grabox', 'shopmeaway', 'authent', 'manyship', 'greener', 'retrotech', 'endus', 'peso', 'peak', 'bcf', 'smith', 'usbas', 'sword', 'ikea', 'anaheim', 'swanleap', 'ssi', 'fullyintegr', 'jar', 'atendimento', 'pagamento', 'lugar', 'ter', 'quem', 'entrega', 'stormwat', 'modelbas', 'helsinki', 'lucr', 'elixir', 'goodstoperson', 'random', 'latista', 'longev', 'stationari', 'spider', 'cambridgeshir', 'anglia', 'kinet', 'there', 'inerti', 'icc', 'solarpow', 'unriv', 'microsit', 'apprais', 'dave', 'sembcorp', 'megawatt', 'gross', 'ftse', 'roadon', 'tallgrass', 'emphas', 'caragon', 'mundan', 'privatelyown', 'offici', 'youtub', 'scenario', 'disc', 'wonder', 'dray', 'flavorcloud', 'crossbord', 'obliqu', 'jita', 'grang', 'hinsdal', 'andr', 'vs', 'dispar', 'owe', 'pinc', 'cellular', 'muesk', 'lawn', 'mulch', 'andov', 'lexington', 'salem', 'ecohai', 'offset', 'nextday', 'sadev', 'thirti', 'semicustom', 'cpg', 'brinker', 'bit', 'fort', 'fifth', 'solairedirect', 'catalogu', 'transmitt', 'ua', 'ancillari', 'mickey', 'reusabl', 'geometr', 'swiss', 'breed', 'submiss', 'salari', 'deposit', 'missouri', 'runway', 'hans', 'hau', 'manhattan', 'computeraid', 'allsaf', 'multicarri', 'om', 'hungari', 'keller', 'noku', 'barcelona', 'skip', 'farey', 'stanford', 'professor', 'attend', 'reader', 'marina', 'deer', 'rmc', 'midnight', 'massiv', 'utilityscal', 'trackag', 'ef', 'perceiv', 'culmin', 'inde', 'intra', 'inapp', 'foodservic', 'everybodi', 'landmark', 'qaqc', 'elogit', 'staci', 'clay', 'bluebeam', 'tced', 'deserv', 'children', 'ductwork', 'ware', 'thane', 'seventhre', 'churn', 'preview', 'burial', 'shore', 'elliott', 'multistag', 'bestpractic', 'wherea', 'qrcode', 'waber', 'innerc', 'akrion', 'reclaim', 'mask', 'fare', 'manila', 'spur', 'resili', 'attribut', 'aurora', 'freightpro', 'opensourc', 'spreadsheet', 'counteroff', 'arx', 'pax', 'hendo', 'hoverboard', 'electromagnet', 'marti', 'payload', 'ip', 'messer', 'employeeown', 'equival', 'undercarriag', 'asap', 'nsn', 'standbi', 'preselect', 'assort', 'flower', 'recondit', 'healthlink', 'tissu', 'tierra', 'jm', 'maidm', 'dirti', 'satur', 'tar', 'egypt', 'dababa', 'yr', 'ape', 'styledg', 'sorabito', 'nearbi', 'autopl', 'vietnames', 'multiplay', 'unimarin', 'lloyd', 'teu', 'repositori', 'everfreight', 'lui', 'santo', 'theyll', 'doortodoor', 'supervisor', 'silver', 'dell', 'shandong', 'stimul', 'gene', 'grafton', 'gb', 'plumber', 'alpha', 'lakesid', 'heavyduti', 'hurt', 'deli', 'unfair', 'posibl', 'artisan', 'xpert', 'daqe', 'highestqu', 'surya', 'suryacipta', 'ma', 'resort', 'quotiss', 'telefonica', 'wayra', 'pragu', 'lessthantruckload', 'highprofil', 'gastro', 'alex', 'nippon', 'biotech', 'molecular', 'kickup', 'spotifi', 'technisch', 'daqri', 'feb', 'preston', 'baker', 'buri', 'attento', 'priorit', 'sul', 'sp', 'hollard', 'funer', 'regener', 'nottingham', 'brasilia', 'rss', 'mirakl', 'deaf', 'maharashtra', 'fullstack', 'capitalis', 'attack', 'obsolet', 'seaport', 'ns', 'tunisia', 'cubyn', 'limo', 'freeway', 'disconnect', 'shortcut', 'oferecercombr', 'walkin', 'sunroom', 'infus', 'finreq', 'strongli', 'mehta', 'profici', 'backbon', 'constructionrel', 'speak', 'poster', 'foremost', 'heath', 'warburg', 'pincu', 'redwood', 'shen', 'premerg', 'che', 'shear', 'kiley', 'illumin', 'radiat', 'winter', 'optima', 'brickandmortar', 'truckstop', 'redesign', 'mateo', 'excelbas', 'repeat', 'outofthebox', 'dutch', 'oia', 'fmcg', 'mobilebas', 'accompani', 'arc', 'couryier', 'currenc', 'echelonvr', 'creditsuppli', 'pavescap', 'cure', 'invia', 'solidar', 'swastik', 'jali', 'powder', 'bg', 'deloitt', 'losberg', 'campus', 'cbi', 'citiservi', 'iq', 'multilay', 'intelipost', 'sugar', 'varun', 'coalmin', 'stylish', 'matchback', 'bvba', 'eyewear', 'ray', 'ahead', 'reveal', 'anhui', 'skp', 'dwg', 'woodland', 'sulfur', 'whitewood', 'technologydriven', 'obstacl', 'haulier', 'klang', 'magnu', 'ex', 'revolutionis', 'iida', 'detach', 'unload', 'infinigi', 'manifattura', 'cleantech', 'flex', 'constructweb', 'janeiro', 'rpm', 'ogun', 'catch', 'struggl', 'robbi', 'irb', 'superintend', 'bot', 'celist', 'vesselbot', 'crystal', 'palac', 'luton', 'bromley', 'surrey', 'attempt', 'timedefinit', 'greatli', 'tru', 'divid', 'tensil', 'savvi', 'faad', 'footwear', 'brandon', 'prebuilt', 'scotshield', 'cullum', 'craftsmen', 'wastag', 'chaskifi', 'calvert', 'predefin', 'deviat', 'leed', 'sune', 'suningcom', 'baltimor', 'ann', 'montgomeri', 'donat', 'cancer', 'realist', 'alibaba', 'precisionhay', 'posttens', 'anchorag', 'wedg', 'tension', 'brentford', 'shipprin', 'bengaluru', 'homeimprov', 'homeexterior', 'weber', 'widest', 'chandler', 'tu', 'mejor', 'inciner', 'ash', 'residu', 'panama', 'angl', 'relin', 'nondestruct', 'rebuild', 'construbusk', 'fcl', 'ergonom', 'tripp', 'condo', 'shipmlg', 'agnost', 'ht', 'tradiant', 'decentralis', 'infinit', 'refurbifi', 'horizon', 'bri', 'kazakhstan', 'constructiontech', 'sumitomo', 'desk', 'buildcon', 'shelv', 'laid', 'grind', 'perfectli', 'intl', 'biolog', 'diamondscom', 'legitim', 'hiveuav', 'doorstep', 'normet', 'scissor', 'grout', 'santiago', 'cctv', 'bread', 'snam', 'shree', 'sharda', 'norman', 'ane', 'practition', 'character', 'habtoor', 'diesel', 'electra', 'victim', 'lawyer', 'trial', 'abus', 'stratagem', 'plush', 'odm', 'teller', 'dimmock', 'shot', 'gagan', 'ampl', 'thorough', 'sultan', 'accentu', 'shipchart', 'batam', 'dredger', 'pneumat', 'bricklay', 'guoxin', 'inconsist', 'noregon', 'yang', 'kee', 'commercialindustri', 'consider', 'toilet', 'sharenolog', 'ofbusi', 'nbfc', 'counter', 'doorset', 'antiballist', 'benefici', 'enlight', 'detroit', 'hanger', 'jiangyin', 'hj', 'cleaner', 'cryo', 'nitrogen', 'bueno', 'del', 'hygien', 'tray', 'unifi', 'freightabl', 'manifest', 'acura', 'subaru', 'fed', 'handov', 'pie', 'btu', 'highdens', 'nj', 'kumw', 'cogoport', 'egg', 'brought', 'pasta', 'band', 'album', 'atla', 'queri', 'domek', 'nurs', 'elementia', 'cei', 'frp', 'geographi', 'elderli', 'zaagel', 'xpress', 'classictop', 'controltop', 'tabletop', 'dropin', 'mckinney', 'exce', 'lowinterest', 'what', 'movi', 'scottish', 'replat', 'wipro', 'kenoteq', 'scotland', 'northumbrian', 'biotechnolog', 'nobodi', 'groozgo', 'selfrecruit', 'enrol', 'getir', 'schneider', 'apprentic', 'josensi', 'graco', 'rajesh', 'lifespac', 'nurtur', 'echo', 'rise', 'montana', 'mcdowel', 'routemat', 'ridership', 'microelectron', 'wifi', 'gclpoli', 'isra', 'rigid', 'carton', 'ontruck', 'ambit', 'metreo', 'equipo', 'por', 'experiencia', 'decoracin', 'regin', 'quitar', 'gotel', 'pared', 'pintado', 'alta', 'calidad', 'gran', 'pued', 'aunqu', 'fachada', 'puerta', 'lacar', 'colocar', 'hasta', 'una', 'estimateon', 'recertif', 'slr', 'shiptec', 'segex', 'hull', 'tamtron', 'ajera', 'nobl', 'cargoguard', 'novel', 'timesensit', 'pattern', 'longitudin', 'arena', 'der', 'wal', 'mashaweerua', 'hitmeupp', 'trucado', 'mintek', 'geospock', 'coloc', 'datacent', 'driveai', 'ipswich', 'cryoport', 'frozen', 'mbw', 'selfperform', 'henc', 'spacecraft', 'inspac', 'orbit', 'fission', 'syncreon', 'bfpe', 'shlalubin', 'rohaco', 'birmingham', 'mg', 'transparix', 'fond', 'avec', 'conseil', 'tlphone', 'possibilit', 'souscrir', 'rel', 'compagni', 'contrat', 'ajout', 'dossier', 'deuxim', 'jour', 'peuvent', 'conducteur', 'dassur', 'offrent', 'essentiel', 'confort', 'neuf', 'sont', 'mini', 'vhicul', 'catastroph', 'vaimoto', 'ganglian', 'owensboro', 'gallon', 'finalcad', 'solicitor', 'toughest', 'eth', 'ultra', 'lowpow', 'tetra', 'wei', 'qstock', 'limco', 'galfar', 'saog', 'brock', 'nordex', 'emuls', 'deton', 'bizlab', 'barnacl', 'pronovo', 'metalshub', 'ferroalloy', 'bought', 'jr', 'naepi', 'width', 'wrong', 'bold', 'topnotch', 'plot', 'dholera', 'sendm', 'mailbox', 'transforc', 'kelron', 'ekiho', 'icon', 'carryparcelcom', 'truckweb', 'citycar', 'babysitt', 'gozop', 'alayuni', 'cruiser', 'ambiti', 'crme', 'sterl', 'blubirch', 'cavali', 'loyal', 'undertaken', 'appeal', 'vrl', 'ipaf', 'proglov', 'becon', 'buildxact', 'pvi', 'lsp', 'fight', 'amm', 'camel', 'webreforma', 'inqual', 'jifeng', 'dalian', 'jiefeng', 'interaxo', 'contamin', 'incent', 'dre', 'procsim', 'urdeliveri', 'automak', 'rerefin', 'davi', 'charleston', 'curtain', 'chambersburg', 'bwise', 'avonsid', 'britain', 'bra', 'healthier', 'slope', 'geobind', 'campoalto', 'operacion', 'whalehous', 'aaa', 'aaas', 'kamtar', 'gasag', 'gaswerk', 'dnt', 'maison', 'kg', 'cubicl', 'fred', 'vektor', 'vektordb', 'grader', 'tesla', 'stringent', 'qfine', 'trunk', 'shade', 'flap', 'rain', 'slightli', 'proship', 'tucson', 'strap', 'doublelevel', 'omniid', 'pratap', 'udhyog', 'sinter', 'disk', 'rentitfromown', 'azco', 'intergraph', 'webcargo', 'bartkowski', 'lynchburg', 'rf', 'iii', 'microb', 'razorback', 'baler', 'advocaci', 'greatest', 'crest', 'grove', 'simpro', 'deutsch', 'postecommerceparcel', 'modernis', 'rowman', 'littlefield', 'careem', 'gorilla', 'reel', 'gmf', 'tbeam', 'wow', 'pott', 'mpa', 'helic', 'nortrax', 'intelliact', 'deeptech', 'pricehub', 'evapor', 'newer', 'parcelhom', 'nasa', 'hopkin', 'domino', 'eleven', 'shiptoshor', 'smithsonian', 'getnowat', 'plain', 'novapoint', 'milag', 'fdw', 'cdw', 'twh', 'windscreen', 'childbabi', 'wellington', 'telford', 'tfrq', 'slight', 'anonym', 'gimnez', 'ganga', 'czarlit', 'costsav', 'mthatha', 'hisey', 'freightalia', 'canor', 'lisuto', 'multilanguag', 'widerang', 'irishown', 'revolv', 'survelil', 'restroom', 'versail', 'skye', 'capic', 'conferenc', 'alausa', 'ikeja', 'ergo', 'thom', 'enthusiasm', 'shini', 'handi', 'woocommerc', 'magento', 'lightspe', 'shopwar', 'spell', 'lucki', 'catl', 'sequel', 'dbx', 'puchas', 'lite', 'longtail', 'blasti', 'planstyr', 'gw', 'wholli', 'gpw', 'prc', 'websitelin', 'fluvial', 'tramp']\n"
          ],
          "name": "stdout"
        },
        {
          "output_type": "execute_result",
          "data": {
            "text/html": [
              "<div>\n",
              "<style scoped>\n",
              "    .dataframe tbody tr th:only-of-type {\n",
              "        vertical-align: middle;\n",
              "    }\n",
              "\n",
              "    .dataframe tbody tr th {\n",
              "        vertical-align: top;\n",
              "    }\n",
              "\n",
              "    .dataframe thead th {\n",
              "        text-align: right;\n",
              "    }\n",
              "</style>\n",
              "<table border=\"1\" class=\"dataframe\">\n",
              "  <thead>\n",
              "    <tr style=\"text-align: right;\">\n",
              "      <th></th>\n",
              "      <th>name</th>\n",
              "      <th>description</th>\n",
              "      <th>country</th>\n",
              "      <th>founding_date</th>\n",
              "      <th>relevancy</th>\n",
              "      <th>tokenized</th>\n",
              "    </tr>\n",
              "  </thead>\n",
              "  <tbody>\n",
              "    <tr>\n",
              "      <th>0</th>\n",
              "      <td>Pandora Car Rental</td>\n",
              "      <td>Welcome to Pandora Car Rental, Car Hire and Ai...</td>\n",
              "      <td>United Kingdom</td>\n",
              "      <td>2011-04-05</td>\n",
              "      <td>0</td>\n",
              "      <td>welcom pandora car rental car hire airport tra...</td>\n",
              "    </tr>\n",
              "    <tr>\n",
              "      <th>1</th>\n",
              "      <td>SurplusMatch</td>\n",
              "      <td>SurplusMatch is an online marketplace for cont...</td>\n",
              "      <td>United Kingdom</td>\n",
              "      <td>2008-01-01</td>\n",
              "      <td>2</td>\n",
              "      <td>surplusmatch onlin marketplac contractor merch...</td>\n",
              "    </tr>\n",
              "    <tr>\n",
              "      <th>2</th>\n",
              "      <td>Gimenez Ganga</td>\n",
              "      <td>Giménez Ganga is a company that has been provi...</td>\n",
              "      <td>Switzerland</td>\n",
              "      <td>1959-01-01</td>\n",
              "      <td>0</td>\n",
              "      <td>gimnez ganga compani provid solut window sunli...</td>\n",
              "    </tr>\n",
              "    <tr>\n",
              "      <th>3</th>\n",
              "      <td>SMC3</td>\n",
              "      <td>Freight shippers, motor carriers, logistics se...</td>\n",
              "      <td>United States</td>\n",
              "      <td>1935-01-01</td>\n",
              "      <td>0</td>\n",
              "      <td>freight shipper motor carrier logist servic pr...</td>\n",
              "    </tr>\n",
              "    <tr>\n",
              "      <th>4</th>\n",
              "      <td>Much Asphalt</td>\n",
              "      <td>Much Asphalt is southern Africa’s commercial s...</td>\n",
              "      <td>South Africa</td>\n",
              "      <td>1965-01-01</td>\n",
              "      <td>0</td>\n",
              "      <td>much asphalt southern africa commerci supplier...</td>\n",
              "    </tr>\n",
              "  </tbody>\n",
              "</table>\n",
              "</div>"
            ],
            "text/plain": [
              "                 name  ...                                          tokenized\n",
              "0  Pandora Car Rental  ...  welcom pandora car rental car hire airport tra...\n",
              "1        SurplusMatch  ...  surplusmatch onlin marketplac contractor merch...\n",
              "2       Gimenez Ganga  ...  gimnez ganga compani provid solut window sunli...\n",
              "3                SMC3  ...  freight shipper motor carrier logist servic pr...\n",
              "4        Much Asphalt  ...  much asphalt southern africa commerci supplier...\n",
              "\n",
              "[5 rows x 6 columns]"
            ]
          },
          "metadata": {
            "tags": []
          },
          "execution_count": 12
        }
      ]
    },
    {
      "cell_type": "code",
      "metadata": {
        "id": "6jdeIWGlhYTb"
      },
      "source": [
        "import gensim\n",
        "from gensim.corpora.dictionary import Dictionary\n",
        "\n",
        "# Convert document to tokens\n",
        "doc_processed = [doc.split() for doc in df['tokenized']]\n",
        "\n",
        "# Mapping from token to id in each document\n",
        "dictionary = corpora.Dictionary(doc_processed)\n",
        "\n",
        "# Prepapre a document term matrix, mapping of (word_id, word_frequency).\n",
        "# Representing the corpus as a bag of words\n",
        "doc_term_matrix = [dictionary.doc2bow(doc) for doc in doc_processed]\n",
        "\n",
        "#Lda model\n",
        "Lda = gensim.models.ldamodel.LdaModel\n",
        "#Lda model to get the num_topics, number of topic required, \n",
        "#passses is the number training do you want to perform\n",
        "#2 different topics where each topic is a combination of keywords and each keyword contributes a certain weightage to the topic.\n",
        "ldamodel = Lda(doc_term_matrix, num_topics=2, id2word = dictionary, passes=5)"
      ],
      "execution_count": 13,
      "outputs": []
    },
    {
      "cell_type": "code",
      "metadata": {
        "colab": {
          "base_uri": "https://localhost:8080/",
          "height": 195
        },
        "id": "bVWdzD3F1nlS",
        "outputId": "48177bab-2f1b-47bc-b5c0-89f3f2209c52"
      },
      "source": [
        "# Convert the LDA-results to a 2D array to use as a document-matrix.\n",
        "doc_topic_dist = [[tup[1] for tup in lst] for lst in ldamodel[doc_term_matrix]]\n",
        "\n",
        "# column names\n",
        "topicnames = ['Topic_' + str(i) for i in range(2)]\n",
        "docnames = df.name.values\n",
        "\n",
        "# create a dataframe\n",
        "df_document_topic_dist = pd.DataFrame(doc_topic_dist, columns=topicnames, index=docnames)\n",
        "df_document_topic_dist.head()"
      ],
      "execution_count": 14,
      "outputs": [
        {
          "output_type": "execute_result",
          "data": {
            "text/html": [
              "<div>\n",
              "<style scoped>\n",
              "    .dataframe tbody tr th:only-of-type {\n",
              "        vertical-align: middle;\n",
              "    }\n",
              "\n",
              "    .dataframe tbody tr th {\n",
              "        vertical-align: top;\n",
              "    }\n",
              "\n",
              "    .dataframe thead th {\n",
              "        text-align: right;\n",
              "    }\n",
              "</style>\n",
              "<table border=\"1\" class=\"dataframe\">\n",
              "  <thead>\n",
              "    <tr style=\"text-align: right;\">\n",
              "      <th></th>\n",
              "      <th>Topic_0</th>\n",
              "      <th>Topic_1</th>\n",
              "    </tr>\n",
              "  </thead>\n",
              "  <tbody>\n",
              "    <tr>\n",
              "      <th>Pandora Car Rental</th>\n",
              "      <td>0.992102</td>\n",
              "      <td>NaN</td>\n",
              "    </tr>\n",
              "    <tr>\n",
              "      <th>SurplusMatch</th>\n",
              "      <td>0.029110</td>\n",
              "      <td>0.970890</td>\n",
              "    </tr>\n",
              "    <tr>\n",
              "      <th>Gimenez Ganga</th>\n",
              "      <td>0.927762</td>\n",
              "      <td>0.072238</td>\n",
              "    </tr>\n",
              "    <tr>\n",
              "      <th>SMC3</th>\n",
              "      <td>0.614007</td>\n",
              "      <td>0.385993</td>\n",
              "    </tr>\n",
              "    <tr>\n",
              "      <th>Much Asphalt</th>\n",
              "      <td>0.080684</td>\n",
              "      <td>0.919316</td>\n",
              "    </tr>\n",
              "  </tbody>\n",
              "</table>\n",
              "</div>"
            ],
            "text/plain": [
              "                     Topic_0   Topic_1\n",
              "Pandora Car Rental  0.992102       NaN\n",
              "SurplusMatch        0.029110  0.970890\n",
              "Gimenez Ganga       0.927762  0.072238\n",
              "SMC3                0.614007  0.385993\n",
              "Much Asphalt        0.080684  0.919316"
            ]
          },
          "metadata": {
            "tags": []
          },
          "execution_count": 14
        }
      ]
    },
    {
      "cell_type": "code",
      "metadata": {
        "colab": {
          "base_uri": "https://localhost:8080/"
        },
        "id": "QCw36jHU7ftx",
        "outputId": "2a7f88ca-099a-4d98-edca-aa0d29f445e7"
      },
      "source": [
        "# Extract the LDA-results for Much Asphalt and Vahanalytics and use them as a query vector to extract the 5 most closest matches using get_top_k_similar_docs.\n",
        "asphalt = doc_processed[df.index[df['name'] == 'Much Asphalt'].tolist()[0]]\n",
        "asphalt_bow = dictionary.doc2bow(asphalt)\n",
        "asphalt_doc_distribution = np.array([tup[1] for tup in ldamodel.get_document_topics(bow=asphalt_bow)])\n",
        "\n",
        "vahanalytics = doc_processed[df.index[df['name'] == 'Vahanalytics'].tolist()[0]]\n",
        "vahanalytics_bow = dictionary.doc2bow(vahanalytics)\n",
        "vahanalytics_doc_distribution = np.array([tup[1] for tup in ldamodel.get_document_topics(bow=vahanalytics_bow)])\n",
        "\n",
        "asphalt_doc_distribution, vahanalytics_doc_distribution"
      ],
      "execution_count": 15,
      "outputs": [
        {
          "output_type": "execute_result",
          "data": {
            "text/plain": [
              "(array([0.08070377, 0.91929626], dtype=float32),\n",
              " array([0.50929666, 0.49070337], dtype=float32))"
            ]
          },
          "metadata": {
            "tags": []
          },
          "execution_count": 15
        }
      ]
    },
    {
      "cell_type": "code",
      "metadata": {
        "colab": {
          "base_uri": "https://localhost:8080/"
        },
        "id": "ffBol9zDzT5P",
        "outputId": "1b7623cd-558e-4786-b4a8-4d82ade70c93"
      },
      "source": [
        "from scipy.spatial import distance\n",
        "def jensen_shannon(query, matrix):\n",
        "  sim=[distance.jensenshannon(data,query) for data in matrix]\n",
        "  return sim\n",
        "\n",
        "def get_most_similar_documents(query,matrix,k=5):\n",
        "    \"\"\"\n",
        "    This function implements the Jensen-Shannon distance above\n",
        "    and retruns the top k indices of the smallest jensen shannon distances\n",
        "    \"\"\"\n",
        "    sims_ls = jensen_shannon(query,matrix) # list of jensen shannon distances\n",
        "    sims_ar = np.array(sims_ls)\n",
        "    return sims_ar.argsort()[:k] # the top k positional index of the smallest Jensen Shannon distances\n",
        "\n",
        "# Find top 5 similar comapnies for Much Asphalt\n",
        "asphalt_most_sim_ids = get_most_similar_documents(asphalt_doc_distribution,doc_topic_dist)\n",
        "print('Most similar Ids for Much Asphalt: ',asphalt_most_sim_ids)\n",
        "\n",
        "asphalt_most_similar_df = df[df.index.isin(asphalt_most_sim_ids)]\n",
        "asphalt_most_similar_df['name'], df_document_topic_dist[df.index.isin(asphalt_most_sim_ids)]\n",
        "\n"
      ],
      "execution_count": 16,
      "outputs": [
        {
          "output_type": "stream",
          "text": [
            "Most similar Ids for Much Asphalt:  [   4 1703 1824 1519  815]\n"
          ],
          "name": "stdout"
        },
        {
          "output_type": "stream",
          "text": [
            "/usr/local/lib/python3.6/dist-packages/scipy/spatial/distance.py:1296: RuntimeWarning: invalid value encountered in sqrt\n",
            "  return np.sqrt(js / 2.0)\n"
          ],
          "name": "stderr"
        },
        {
          "output_type": "execute_result",
          "data": {
            "text/plain": [
              "(4                              Much Asphalt\n",
              " 815                      AR Elektroprosjekt\n",
              " 1519                             Channel 40\n",
              " 1703    Sempa Bilgi İslem Sanayi ve Ticaret\n",
              " 1824               CorePoint Solutions Inc.\n",
              " Name: name, dtype: object,\n",
              "                                       Topic_0   Topic_1\n",
              " Much Asphalt                         0.080684  0.919316\n",
              " AR Elektroprosjekt                   0.079849  0.920151\n",
              " Channel 40                           0.081371  0.918629\n",
              " Sempa Bilgi İslem Sanayi ve Ticaret  0.080672  0.919328\n",
              " CorePoint Solutions Inc.             0.081012  0.918988)"
            ]
          },
          "metadata": {
            "tags": []
          },
          "execution_count": 16
        }
      ]
    },
    {
      "cell_type": "code",
      "metadata": {
        "colab": {
          "base_uri": "https://localhost:8080/"
        },
        "id": "wtrLlet4J61G",
        "outputId": "29679997-c564-4e63-ede7-cbc15cf8dd2a"
      },
      "source": [
        "# Find top 5 similar comapnies for Vahanalytics\n",
        "vahanalytics_most_sim_ids = get_most_similar_documents(vahanalytics_doc_distribution,doc_topic_dist)\n",
        "print('Most similar Ids for Vahanalytics: ',vahanalytics_most_sim_ids)\n",
        "\n",
        "vahanalytics_most_similar_df = df[df.index.isin(vahanalytics_most_sim_ids)]\n",
        "vahanalytics_most_similar_df['name'], df_document_topic_dist[df.index.isin(vahanalytics_most_sim_ids)]\n"
      ],
      "execution_count": 17,
      "outputs": [
        {
          "output_type": "stream",
          "text": [
            "Most similar Ids for Vahanalytics:  [ 695  485 1977 1047  807]\n"
          ],
          "name": "stdout"
        },
        {
          "output_type": "stream",
          "text": [
            "/usr/local/lib/python3.6/dist-packages/scipy/spatial/distance.py:1296: RuntimeWarning: invalid value encountered in sqrt\n",
            "  return np.sqrt(js / 2.0)\n"
          ],
          "name": "stderr"
        },
        {
          "output_type": "execute_result",
          "data": {
            "text/plain": [
              "(485                     Lifescape Colorado\n",
              " 695                           Vahanalytics\n",
              " 807     United Liner Shipping Services LLP\n",
              " 1047                                Kaliti\n",
              " 1977                              PriceHub\n",
              " Name: name, dtype: object,\n",
              "                                      Topic_0   Topic_1\n",
              " Lifescape Colorado                  0.509556  0.490444\n",
              " Vahanalytics                        0.509337  0.490663\n",
              " United Liner Shipping Services LLP  0.506854  0.493146\n",
              " Kaliti                              0.507145  0.492855\n",
              " PriceHub                            0.507687  0.492313)"
            ]
          },
          "metadata": {
            "tags": []
          },
          "execution_count": 17
        }
      ]
    },
    {
      "cell_type": "code",
      "metadata": {
        "colab": {
          "base_uri": "https://localhost:8080/",
          "height": 1000
        },
        "id": "FkL4nJMD83Pw",
        "outputId": "45e4ae08-d474-4074-8e8c-7acbcc7eba24"
      },
      "source": [
        "# Plot Topics\n",
        "!python -m pip install -U pyLDAvis\n",
        "import pyLDAvis\n",
        "import pyLDAvis.gensim  # don't skip this\n",
        "import matplotlib.pyplot as plt\n",
        "%matplotlib inline\n",
        "\n",
        "# Visualize  topics and the associated keywords\n",
        "pyLDAvis.enable_notebook()\n",
        "vis = pyLDAvis.gensim.prepare(ldamodel, doc_term_matrix, dictionary)\n",
        "vis"
      ],
      "execution_count": 18,
      "outputs": [
        {
          "output_type": "stream",
          "text": [
            "Requirement already up-to-date: pyLDAvis in /usr/local/lib/python3.6/dist-packages (2.1.2)\n",
            "Requirement already satisfied, skipping upgrade: pandas>=0.17.0 in /usr/local/lib/python3.6/dist-packages (from pyLDAvis) (1.1.5)\n",
            "Requirement already satisfied, skipping upgrade: wheel>=0.23.0 in /usr/local/lib/python3.6/dist-packages (from pyLDAvis) (0.36.1)\n",
            "Requirement already satisfied, skipping upgrade: numexpr in /usr/local/lib/python3.6/dist-packages (from pyLDAvis) (2.7.1)\n",
            "Requirement already satisfied, skipping upgrade: jinja2>=2.7.2 in /usr/local/lib/python3.6/dist-packages (from pyLDAvis) (2.11.2)\n",
            "Requirement already satisfied, skipping upgrade: pytest in /usr/local/lib/python3.6/dist-packages (from pyLDAvis) (3.6.4)\n",
            "Requirement already satisfied, skipping upgrade: funcy in /usr/local/lib/python3.6/dist-packages (from pyLDAvis) (1.15)\n",
            "Requirement already satisfied, skipping upgrade: scipy>=0.18.0 in /usr/local/lib/python3.6/dist-packages (from pyLDAvis) (1.4.1)\n",
            "Requirement already satisfied, skipping upgrade: joblib>=0.8.4 in /usr/local/lib/python3.6/dist-packages (from pyLDAvis) (0.17.0)\n",
            "Requirement already satisfied, skipping upgrade: numpy>=1.9.2 in /usr/local/lib/python3.6/dist-packages (from pyLDAvis) (1.18.5)\n",
            "Requirement already satisfied, skipping upgrade: future in /usr/local/lib/python3.6/dist-packages (from pyLDAvis) (0.16.0)\n",
            "Requirement already satisfied, skipping upgrade: pytz>=2017.2 in /usr/local/lib/python3.6/dist-packages (from pandas>=0.17.0->pyLDAvis) (2018.9)\n",
            "Requirement already satisfied, skipping upgrade: python-dateutil>=2.7.3 in /usr/local/lib/python3.6/dist-packages (from pandas>=0.17.0->pyLDAvis) (2.8.1)\n",
            "Requirement already satisfied, skipping upgrade: MarkupSafe>=0.23 in /usr/local/lib/python3.6/dist-packages (from jinja2>=2.7.2->pyLDAvis) (1.1.1)\n",
            "Requirement already satisfied, skipping upgrade: setuptools in /usr/local/lib/python3.6/dist-packages (from pytest->pyLDAvis) (50.3.2)\n",
            "Requirement already satisfied, skipping upgrade: atomicwrites>=1.0 in /usr/local/lib/python3.6/dist-packages (from pytest->pyLDAvis) (1.4.0)\n",
            "Requirement already satisfied, skipping upgrade: py>=1.5.0 in /usr/local/lib/python3.6/dist-packages (from pytest->pyLDAvis) (1.9.0)\n",
            "Requirement already satisfied, skipping upgrade: attrs>=17.4.0 in /usr/local/lib/python3.6/dist-packages (from pytest->pyLDAvis) (20.3.0)\n",
            "Requirement already satisfied, skipping upgrade: six>=1.10.0 in /usr/local/lib/python3.6/dist-packages (from pytest->pyLDAvis) (1.15.0)\n",
            "Requirement already satisfied, skipping upgrade: more-itertools>=4.0.0 in /usr/local/lib/python3.6/dist-packages (from pytest->pyLDAvis) (8.6.0)\n",
            "Requirement already satisfied, skipping upgrade: pluggy<0.8,>=0.5 in /usr/local/lib/python3.6/dist-packages (from pytest->pyLDAvis) (0.7.1)\n"
          ],
          "name": "stdout"
        },
        {
          "output_type": "execute_result",
          "data": {
            "text/html": [
              "\n",
              "<link rel=\"stylesheet\" type=\"text/css\" href=\"https://cdn.rawgit.com/bmabey/pyLDAvis/files/ldavis.v1.0.0.css\">\n",
              "\n",
              "\n",
              "<div id=\"ldavis_el9841403358448662326123365753\"></div>\n",
              "<script type=\"text/javascript\">\n",
              "\n",
              "var ldavis_el9841403358448662326123365753_data = {\"mdsDat\": {\"x\": [0.043539002537727356, -0.043539002537727356], \"y\": [0.0, 0.0], \"topics\": [1, 2], \"cluster\": [1, 1], \"Freq\": [55.45217502334043, 44.54782497665956]}, \"tinfo\": {\"Term\": [\"home\", \"manag\", \"compani\", \"mobil\", \"engin\", \"app\", \"product\", \"build\", \"industri\", \"project\", \"state\", \"manufactur\", \"hous\", \"remodel\", \"featur\", \"de\", \"new\", \"robot\", \"track\", \"concret\", \"document\", \"logist\", \"user\", \"group\", \"paint\", \"architectur\", \"steel\", \"technolog\", \"design\", \"consult\", \"et\", \"rfi\", \"crm\", \"takeoff\", \"murcia\", \"android\", \"de\", \"app\", \"log\", \"io\", \"erp\", \"le\", \"via\", \"statu\", \"tune\", \"broker\", \"pizero\", \"bid\", \"subcontractor\", \"up\", \"bag\", \"un\", \"tishman\", \"task\", \"submit\", \"pintor\", \"streamlin\", \"sleep\", \"databas\", \"old\", \"featur\", \"document\", \"payment\", \"mobil\", \"shipment\", \"track\", \"cloudbas\", \"report\", \"schedul\", \"game\", \"manag\", \"user\", \"project\", \"collabor\", \"chain\", \"softwar\", \"ship\", \"platform\", \"estim\", \"rental\", \"solut\", \"safeti\", \"deliveri\", \"custom\", \"construct\", \"equip\", \"help\", \"suppli\", \"freight\", \"provid\", \"servic\", \"transport\", \"offer\", \"time\", \"includ\", \"onlin\", \"client\", \"busi\", \"compani\", \"develop\", \"work\", \"oper\", \"product\", \"logist\", \"industri\", \"need\", \"system\", \"use\", \"design\", \"panel\", \"robot\", \"midstream\", \"paint\", \"coffe\", \"painter\", \"gilmor\", \"grc\", \"wall\", \"realiz\", \"bathroom\", \"brake\", \"washington\", \"laser\", \"lunch\", \"packer\", \"thermo\", \"engrav\", \"annapoli\", \"sqft\", \"gourmet\", \"solar\", \"colono\", \"marker\", \"baggag\", \"gen\", \"textur\", \"hoist\", \"mw\", \"atlanta\", \"remodel\", \"frame\", \"home\", \"master\", \"franc\", \"wind\", \"vr\", \"cabl\", \"hous\", \"architectur\", \"state\", \"pipelin\", \"steel\", \"concret\", \"metal\", \"green\", \"canada\", \"engin\", \"manufactur\", \"build\", \"new\", \"energi\", \"consult\", \"compani\", \"product\", \"industri\", \"group\", \"water\", \"logist\", \"unit\", \"servic\", \"technolog\", \"design\", \"inc\", \"provid\", \"well\", \"structur\", \"commerci\", \"market\", \"system\", \"construct\", \"base\", \"oper\", \"develop\", \"qualiti\", \"offer\", \"also\", \"custom\", \"busi\", \"use\", \"solut\", \"includ\", \"found\", \"manag\"], \"Freq\": [218.0, 795.0, 1113.0, 195.0, 310.0, 118.0, 675.0, 376.0, 570.0, 510.0, 114.0, 266.0, 101.0, 72.0, 103.0, 85.0, 204.0, 53.0, 143.0, 99.0, 94.0, 545.0, 205.0, 194.0, 47.0, 75.0, 79.0, 362.0, 394.0, 120.0, 27.645635114833983, 16.364554124694596, 23.6071671194613, 23.60660057034537, 37.18216841603621, 33.552100263049276, 82.354103681738, 113.83445825684649, 17.157748037540017, 29.693559265648, 23.389429586566077, 17.090588140470455, 35.01141429894818, 12.54851622440398, 11.648736949842204, 13.424988886152292, 9.835890308895637, 45.571082355002616, 51.79903500482407, 15.16130308092805, 9.809461719236571, 9.80763565730801, 13.367181020634222, 40.090466232458525, 13.35593740336623, 22.223934805494956, 19.547538249866093, 7.994892927823125, 11.527840928097092, 7.980120953853009, 97.20831728613923, 88.37912585102586, 38.839928193205225, 179.23021668673238, 42.55613828607112, 127.59457021106098, 43.868086013609876, 73.21123994590737, 57.758618103796366, 25.272588546824228, 632.2802502560754, 173.67622451139815, 404.1380587313713, 72.73927805808077, 115.08342902004077, 220.31824354105305, 120.19716487863423, 267.21866191608706, 67.80037290284115, 57.01366425971683, 417.4823130447908, 74.69416901972255, 208.9002138629796, 409.7098521976191, 523.0142110966119, 185.64836040425632, 155.60470555407355, 163.00512895188422, 101.27902033775281, 559.7115564304048, 693.900038251068, 212.5764504740632, 297.95468214474744, 165.32341616515623, 262.8767989268571, 144.24728074684984, 159.8073245372222, 239.19125476731597, 497.31736462700746, 238.94046941846682, 168.5243551319363, 215.96386352275712, 284.4037168267871, 239.0400973452455, 233.42768177790043, 152.90058250829924, 166.68522021489676, 161.46086431770527, 168.62523264368096, 15.286487192218543, 51.13969756164744, 15.247440816037729, 44.79190825758427, 10.732393851272148, 14.266621538419049, 9.799959837453976, 8.903863156749985, 26.667705099395285, 11.535763629992736, 30.1025909277792, 8.848039854979088, 9.711134063827764, 12.358324812137672, 7.944625301904917, 7.929519528887639, 10.560667637863602, 7.025748200956213, 7.020712943283787, 7.88720954007817, 9.637432141229482, 21.902154331279583, 9.630161590710712, 7.000505449319629, 8.747077355731884, 6.996838803394703, 7.861060761084267, 7.849411610044648, 6.9768009237069455, 9.57803311529311, 66.31639593177165, 23.424933226784383, 195.82841271904957, 15.582528440985483, 13.876286449510244, 28.19603500758225, 18.009456707526784, 14.576973127734634, 85.59745778164664, 63.41080447969442, 94.14810160047237, 20.089193589283468, 65.20682293547362, 80.17596022142996, 36.217222811417834, 26.634196974947944, 34.49556665733186, 209.26426246825108, 178.93465213636946, 240.83937542192604, 140.3648463455053, 72.77252569025231, 87.32395458893745, 615.7374851437309, 391.333071662417, 336.7497640371281, 131.40582664655372, 51.2167439162161, 306.64535892780947, 102.02853188655652, 658.6075349768086, 211.38627211938353, 226.26308819518374, 93.97439105954182, 465.7681277778035, 96.78915858610974, 82.39098017394808, 107.06051424881804, 149.50732595019016, 175.44077244217024, 319.6596209613366, 134.1279071491029, 188.38079978349109, 190.8593333265535, 121.87213889138687, 195.01317525804296, 141.99356876389777, 222.77955337672628, 174.59201622259238, 144.8593120268512, 203.70680125334258, 169.76710152114921, 116.24128520688593, 163.36609055373026], \"Total\": [218.0, 795.0, 1113.0, 195.0, 310.0, 118.0, 675.0, 376.0, 570.0, 510.0, 114.0, 266.0, 101.0, 72.0, 103.0, 85.0, 204.0, 53.0, 143.0, 99.0, 94.0, 545.0, 205.0, 194.0, 47.0, 75.0, 79.0, 362.0, 394.0, 120.0, 28.28507249602455, 16.97087930316373, 24.51346963473693, 24.513466029555598, 38.65582124808347, 34.8845228905372, 85.79694170798345, 118.79562054408993, 17.91361950485765, 31.113051972904227, 24.51331079658797, 17.913573424769663, 36.76990931801734, 13.199441317340526, 12.25662155611979, 14.142241934313303, 10.37097184189862, 48.0835701240105, 54.68326489463957, 16.027835567890637, 10.370952301416208, 10.370951121614254, 14.142200357931436, 42.42659317100383, 14.142192024893056, 23.5702950474884, 20.741851123530168, 8.485301403525161, 12.256531308842046, 8.485290756652482, 103.70887960456224, 94.28079930090499, 41.48351610033368, 195.15854344226997, 46.197038997006075, 143.30185925719678, 48.08232392015248, 82.02159778280358, 64.10922917263964, 27.341167441139486, 795.6463408098057, 205.51816464862844, 510.9469781157258, 84.84770946558089, 139.5240423094528, 282.809443014017, 147.06505736067666, 353.5057809162859, 80.13330023683932, 65.99299088169116, 621.1891142981334, 89.55993836760274, 290.3382914614033, 632.4894055743454, 842.6738320579485, 260.1721816787627, 212.1000329124255, 230.0064602975415, 130.0922854190965, 1025.4796842082083, 1352.5075732278765, 321.4322260290379, 492.9678574027904, 239.4297247202714, 432.6439004480063, 203.61222644290882, 232.83060286932417, 413.7832709899084, 1113.0548497707382, 429.7998027450203, 264.8703599990777, 404.3446633062482, 675.7367884892042, 545.685456273055, 570.1774458150285, 235.65197440987959, 342.125992657067, 306.32017634455644, 394.88832083886473, 16.01723155757317, 53.70492043576301, 16.017257462894307, 47.10961965575015, 11.306323411138454, 15.075130064786478, 10.364158204758525, 9.421964629185865, 28.265928076550797, 12.248584012795504, 32.03480519847794, 9.422005858315833, 10.364223391750768, 13.19082877841249, 8.479819878859466, 8.479830245163102, 11.30644913342616, 7.537643941910517, 7.537647811005339, 8.479861819125968, 10.364276517488769, 23.555176705487682, 10.3642824167136, 7.537662720192365, 9.422079881823922, 7.53766503409785, 8.479880775620202, 8.479889357152281, 7.53767999821357, 10.364320390682924, 72.55078381179658, 25.43975843323418, 218.59747896595076, 16.959862869448695, 15.075417436913874, 31.093357589524544, 19.78663342275303, 16.01775154299551, 101.76499709870271, 75.38148428837614, 114.958632704152, 22.613657192553788, 79.1515610684108, 99.8832679694138, 43.34452519096901, 31.094506124296146, 41.46008743008936, 310.9870972629867, 266.6952969674567, 376.02054660102476, 204.49551648407646, 98.00301222497085, 120.6207529947648, 1113.0548497707382, 675.7367884892042, 570.1774458150285, 194.1307401726617, 65.9619312323361, 545.685456273055, 149.83832513087512, 1352.5075732278765, 362.8423026379073, 394.88832083886473, 141.35861061046984, 1025.4796842082083, 150.785027499335, 123.45292194210404, 174.34876381482024, 272.37407026308165, 342.125992657067, 842.6738320579485, 243.1569699325616, 404.3446633062482, 429.7998027450203, 222.42330775556903, 492.9678574027904, 289.350928824917, 632.4894055743454, 413.7832709899084, 306.32017634455644, 621.1891142981334, 432.6439004480063, 217.71316521752283, 795.6463408098057], \"Category\": [\"Default\", \"Default\", \"Default\", \"Default\", \"Default\", \"Default\", \"Default\", \"Default\", \"Default\", \"Default\", \"Default\", \"Default\", \"Default\", \"Default\", \"Default\", \"Default\", \"Default\", \"Default\", \"Default\", \"Default\", \"Default\", \"Default\", \"Default\", \"Default\", \"Default\", \"Default\", \"Default\", \"Default\", \"Default\", \"Default\", \"Topic1\", \"Topic1\", \"Topic1\", \"Topic1\", \"Topic1\", \"Topic1\", \"Topic1\", \"Topic1\", \"Topic1\", \"Topic1\", \"Topic1\", \"Topic1\", \"Topic1\", \"Topic1\", \"Topic1\", \"Topic1\", \"Topic1\", \"Topic1\", \"Topic1\", \"Topic1\", \"Topic1\", \"Topic1\", \"Topic1\", \"Topic1\", \"Topic1\", \"Topic1\", \"Topic1\", \"Topic1\", \"Topic1\", \"Topic1\", \"Topic1\", \"Topic1\", \"Topic1\", \"Topic1\", \"Topic1\", \"Topic1\", \"Topic1\", \"Topic1\", \"Topic1\", \"Topic1\", \"Topic1\", \"Topic1\", \"Topic1\", \"Topic1\", \"Topic1\", \"Topic1\", \"Topic1\", \"Topic1\", \"Topic1\", \"Topic1\", \"Topic1\", \"Topic1\", \"Topic1\", \"Topic1\", \"Topic1\", \"Topic1\", \"Topic1\", \"Topic1\", \"Topic1\", \"Topic1\", \"Topic1\", \"Topic1\", \"Topic1\", \"Topic1\", \"Topic1\", \"Topic1\", \"Topic1\", \"Topic1\", \"Topic1\", \"Topic1\", \"Topic1\", \"Topic1\", \"Topic1\", \"Topic1\", \"Topic1\", \"Topic1\", \"Topic1\", \"Topic1\", \"Topic1\", \"Topic2\", \"Topic2\", \"Topic2\", \"Topic2\", \"Topic2\", \"Topic2\", \"Topic2\", \"Topic2\", \"Topic2\", \"Topic2\", \"Topic2\", \"Topic2\", \"Topic2\", \"Topic2\", \"Topic2\", \"Topic2\", \"Topic2\", \"Topic2\", \"Topic2\", \"Topic2\", \"Topic2\", \"Topic2\", \"Topic2\", \"Topic2\", \"Topic2\", \"Topic2\", \"Topic2\", \"Topic2\", \"Topic2\", \"Topic2\", \"Topic2\", \"Topic2\", \"Topic2\", \"Topic2\", \"Topic2\", \"Topic2\", \"Topic2\", \"Topic2\", \"Topic2\", \"Topic2\", \"Topic2\", \"Topic2\", \"Topic2\", \"Topic2\", \"Topic2\", \"Topic2\", \"Topic2\", \"Topic2\", \"Topic2\", \"Topic2\", \"Topic2\", \"Topic2\", \"Topic2\", \"Topic2\", \"Topic2\", \"Topic2\", \"Topic2\", \"Topic2\", \"Topic2\", \"Topic2\", \"Topic2\", \"Topic2\", \"Topic2\", \"Topic2\", \"Topic2\", \"Topic2\", \"Topic2\", \"Topic2\", \"Topic2\", \"Topic2\", \"Topic2\", \"Topic2\", \"Topic2\", \"Topic2\", \"Topic2\", \"Topic2\", \"Topic2\", \"Topic2\", \"Topic2\", \"Topic2\", \"Topic2\", \"Topic2\", \"Topic2\", \"Topic2\"], \"logprob\": [30.0, 29.0, 28.0, 27.0, 26.0, 25.0, 24.0, 23.0, 22.0, 21.0, 20.0, 19.0, 18.0, 17.0, 16.0, 15.0, 14.0, 13.0, 12.0, 11.0, 10.0, 9.0, 8.0, 7.0, 6.0, 5.0, 4.0, 3.0, 2.0, 1.0, -7.405600070953369, -7.929999828338623, -7.563499927520752, -7.563600063323975, -7.109300136566162, -7.211999893188477, -6.3140997886657715, -5.990300178527832, -7.882599830627441, -7.334199905395508, -7.572800159454346, -7.886600017547607, -7.169400215148926, -8.195500373840332, -8.26990032196045, -8.128000259399414, -8.439000129699707, -6.905799865722656, -6.777699947357178, -8.00629997253418, -8.441699981689453, -8.441900253295898, -8.13230037689209, -7.033899784088135, -8.133099555969238, -7.623899936676025, -7.752200126647949, -8.646300315856934, -8.28030014038086, -8.648099899291992, -6.148200035095215, -6.2434000968933105, -7.0655999183654785, -5.536399841308594, -6.974299907684326, -5.876200199127197, -6.943900108337402, -6.431700229644775, -6.668799877166748, -7.4953999519348145, -4.275700092315674, -5.56790018081665, -4.723299980163574, -6.438199996948242, -5.979400157928467, -5.329999923706055, -5.9359002113342285, -5.13700008392334, -6.508500099182129, -6.68179988861084, -4.690800189971924, -6.4116997718811035, -5.383200168609619, -4.70959997177124, -4.4654998779296875, -5.501200199127197, -5.677800178527832, -5.63129997253418, -6.1072001457214355, -4.39769983291626, -4.182799816131592, -5.365799903869629, -5.02810001373291, -5.617199897766113, -5.15339994430542, -5.753600120544434, -5.651100158691406, -5.247799873352051, -4.515900135040283, -5.248899936676025, -5.5980000495910645, -5.349999904632568, -5.074699878692627, -5.2484002113342285, -5.272200107574463, -5.695300102233887, -5.609000205993652, -5.6407999992370605, -5.597400188446045, -7.779200077056885, -6.571599960327148, -7.781700134277344, -6.704100131988525, -8.13290023803711, -7.848199844360352, -8.223699569702148, -8.319600105285645, -7.222700119018555, -8.060700416564941, -7.101500034332275, -8.325900077819824, -8.23289966583252, -7.991799831390381, -8.433600425720215, -8.435500144958496, -8.14900016784668, -8.556500434875488, -8.557299613952637, -8.440899848937988, -8.240500450134277, -7.41949987411499, -8.24120044708252, -8.560099601745605, -8.337400436401367, -8.560700416564941, -8.444199562072754, -8.445699691772461, -8.56350040435791, -8.246700286865234, -6.311699867248535, -7.35230016708374, -5.228899955749512, -7.760000228881836, -7.875899791717529, -7.166900157928467, -7.615200042724609, -7.826700210571289, -6.05649995803833, -6.356500148773193, -5.961299896240234, -7.505899906158447, -6.32859992980957, -6.1219000816345215, -6.916600227355957, -7.223899841308594, -6.9653000831604, -5.162499904632568, -5.3190999031066895, -5.021999835968018, -5.5619001388549805, -6.218800067901611, -6.036499977111816, -4.0833001136779785, -4.536600112915039, -4.686800003051758, -5.627799987792969, -6.570099830627441, -4.780399799346924, -5.880899906158447, -4.015999794006348, -5.152400016784668, -5.084400177001953, -5.963099956512451, -4.362400054931641, -5.933599948883057, -6.094600200653076, -5.832699775695801, -5.498799800872803, -5.338799953460693, -4.738900184631348, -5.6072998046875, -5.2677001953125, -5.2546000480651855, -5.703199863433838, -5.233099937438965, -5.550300121307373, -5.099899768829346, -5.343699932098389, -5.530399799346924, -5.1894001960754395, -5.371699810028076, -5.750500202178955, -5.410099983215332], \"loglift\": [30.0, 29.0, 28.0, 27.0, 26.0, 25.0, 24.0, 23.0, 22.0, 21.0, 20.0, 19.0, 18.0, 17.0, 16.0, 15.0, 14.0, 13.0, 12.0, 11.0, 10.0, 9.0, 8.0, 7.0, 6.0, 5.0, 4.0, 3.0, 2.0, 1.0, 0.5668, 0.5533, 0.552, 0.552, 0.5508, 0.5507, 0.5487, 0.547, 0.5465, 0.543, 0.5427, 0.5426, 0.5406, 0.5391, 0.5388, 0.5376, 0.5367, 0.536, 0.5355, 0.5341, 0.534, 0.5338, 0.5333, 0.533, 0.5324, 0.5308, 0.5303, 0.5301, 0.5284, 0.5283, 0.5249, 0.525, 0.5238, 0.5045, 0.5076, 0.4736, 0.4979, 0.476, 0.4853, 0.511, 0.3598, 0.4213, 0.3551, 0.4357, 0.3971, 0.3399, 0.3879, 0.3098, 0.4225, 0.4434, 0.1923, 0.4081, 0.2605, 0.1554, 0.1127, 0.2522, 0.2799, 0.2453, 0.3393, -0.0158, -0.0777, 0.1762, 0.0861, 0.2193, 0.0914, 0.245, 0.2133, 0.0416, -0.216, 0.0025, 0.1375, -0.0375, -0.2758, -0.2358, -0.3034, 0.1571, -0.1294, -0.0507, -0.2613, 0.7619, 0.7597, 0.7594, 0.7582, 0.7565, 0.7535, 0.7526, 0.752, 0.7504, 0.7486, 0.7464, 0.7458, 0.7435, 0.7434, 0.7434, 0.7415, 0.7404, 0.7383, 0.7376, 0.7362, 0.7359, 0.7358, 0.7351, 0.7347, 0.7343, 0.7342, 0.7328, 0.7313, 0.7313, 0.7297, 0.7188, 0.7261, 0.6986, 0.7239, 0.7257, 0.7108, 0.7145, 0.7144, 0.6356, 0.6357, 0.6089, 0.6902, 0.6148, 0.5888, 0.629, 0.6538, 0.6247, 0.4125, 0.4095, 0.3631, 0.4323, 0.5109, 0.4856, 0.2166, 0.2624, 0.282, 0.4184, 0.5556, 0.2323, 0.4243, 0.089, 0.2683, 0.2517, 0.4003, 0.0194, 0.3653, 0.4042, 0.3209, 0.2088, 0.1407, -0.1607, 0.2137, 0.0448, -0.0032, 0.207, -0.1188, 0.0967, -0.2349, -0.0543, 0.0597, -0.3063, -0.1269, 0.1811, -0.7746]}, \"token.table\": {\"Topic\": [1, 2, 1, 2, 1, 2, 1, 2, 1, 2, 1, 2, 1, 2, 1, 2, 1, 2, 1, 2, 1, 2, 1, 2, 1, 2, 1, 2, 1, 2, 1, 2, 1, 2, 1, 2, 1, 2, 1, 2, 1, 2, 1, 2, 1, 2, 1, 2, 1, 2, 1, 2, 1, 2, 1, 2, 1, 2, 1, 2, 1, 2, 1, 2, 1, 2, 1, 2, 1, 2, 1, 2, 1, 2, 1, 2, 1, 2, 1, 2, 1, 2, 1, 2, 1, 2, 1, 2, 1, 2, 1, 2, 1, 2, 1, 2, 1, 2, 1, 2, 1, 2, 1, 2, 1, 2, 1, 2, 1, 2, 1, 2, 1, 2, 1, 2, 1, 2, 1, 2, 1, 2, 1, 2, 1, 2, 1, 2, 1, 2, 1, 2, 1, 2, 1, 2, 1, 2, 1, 2, 1, 2, 1, 2, 1, 2, 1, 2, 1, 2, 1, 2, 1, 2, 1, 2, 1, 2, 1, 2, 1, 2, 1, 2, 1, 2, 1, 2, 1, 2, 1, 2, 1, 2, 1, 2, 1, 2, 1, 2, 1, 2, 1, 2, 1, 2, 1, 2, 1, 2, 1, 2, 1, 2, 1, 2, 1, 2, 1, 2, 1, 2, 1, 2, 1, 2, 1, 2, 1, 2, 1, 2, 1, 2, 1, 2, 1, 1, 2, 1, 2, 1, 2, 1, 2, 1, 2, 1, 2, 1, 2, 1, 2, 1, 2, 1, 2, 1, 2, 1, 2, 1, 2, 1, 2, 1, 2, 1, 2, 1, 2, 1, 2, 1, 2, 1, 2, 1, 2, 1, 2, 1, 2, 1, 2, 1, 2, 1, 2, 1, 2, 1, 2, 1, 2, 1, 2, 1, 2, 1, 2, 1, 2, 1, 2, 1, 2, 1, 2], \"Freq\": [0.5080336206176412, 0.49075356549459226, 0.9746442600544457, 0.028666007648660168, 0.13266738179780044, 0.928671672584603, 0.9596313355481815, 0.04208909366439392, 0.15919028542995148, 0.8357489985072452, 0.09648485981762556, 0.9648485981762556, 0.9642316066417977, 0.09642316066417977, 0.10613367882064914, 0.9552031093858423, 0.44827010317750965, 0.5510843470255623, 0.062432094954491105, 0.9364814243173666, 0.9566677324783321, 0.06239137385728253, 0.10613451265447932, 0.9552106138903138, 0.9192319054066044, 0.0707101465697388, 0.35902293430587784, 0.6409224234645672, 0.5775970580643143, 0.4229267161558787, 0.06243073488284288, 0.9364610232426431, 0.1688370776304683, 0.8200658056337031, 0.8242307067404161, 0.17201336488495642, 0.6871948877347527, 0.3135326675289809, 0.915097200232423, 0.08319065456658391, 0.08844608133311023, 0.9729068946642125, 0.8603650052522985, 0.14142986387709017, 0.0964852133310633, 0.964852133310633, 0.38428720992345095, 0.6137124098777501, 0.44651887559931996, 0.5534318458132417, 0.20023373690701018, 0.8009349476280407, 0.6206434567010912, 0.3797436063945491, 0.273584761997235, 0.7212689179927105, 0.9790535716735377, 0.04079389881973074, 0.6482322018148128, 0.3525750756212274, 0.9790698279653575, 0.08158915233044646, 0.9557450226966523, 0.03496628131817021, 0.7198499341854253, 0.27898490272258114, 0.4279691018488261, 0.5723137101647023, 0.5560728471106053, 0.44439294476203184, 0.9333819892546806, 0.0636396810855464, 0.25509419998858035, 0.7448750639666547, 0.3279878840559856, 0.6720536055656959, 0.132667449896358, 0.9286721492745061, 0.7149111745915101, 0.2882706349159315, 0.9382657524662638, 0.04079416315070712, 0.8485860409969571, 0.14975047782299242, 0.9899214507558849, 0.035354337526995884, 0.9353104610700363, 0.06749663121123974, 0.46391314874820866, 0.5328111411365565, 0.07861709871376865, 0.9040966352083395, 0.06633315489834372, 0.9286641685768122, 0.7763719399242256, 0.22291867581982716, 0.9143720747777289, 0.07314976598221831, 0.1326670786611421, 0.9286695506279948, 0.0964863696832481, 0.9648636968324811, 0.09648526824931691, 0.9648526824931691, 0.1061349770834799, 0.9552147937513191, 0.1286400878666647, 0.8683205930999868, 0.32452356563400114, 0.6748029698103833, 0.7355020075098774, 0.2640263616702124, 0.11792606694290883, 0.9434085355432706, 0.10521621799482204, 0.8966251620428313, 0.15722498360100642, 0.8450842868554096, 0.3324877048311828, 0.6649754096623656, 0.6078902296499762, 0.3929328480627223, 0.40864471527270413, 0.5910440731626665, 0.964225561225123, 0.032140852040837435, 0.07581024792290189, 0.9097229750748227, 0.9490010505940464, 0.055823591211414496, 0.9489986094317844, 0.05582344761363438, 0.4379812532156016, 0.562595166264392, 0.11792703315468298, 0.9434162652374638, 0.7943227632477426, 0.20486488988826274, 0.329964573806257, 0.6711779399013637, 0.13266711938717252, 0.9286698357102076, 0.4515848365492219, 0.5507132153039291, 0.058962740895823436, 0.943403854333175, 0.16149675118504875, 0.8305547203802508, 0.06243266066719644, 0.9364899100079466, 0.9172029922069497, 0.08198462500173852, 0.9571650221202954, 0.025869324922170145, 0.13266681528494179, 0.9286677069945924, 0.6492625422856867, 0.352214320324915, 0.3129652967476356, 0.6846115866354529, 0.6045018869384672, 0.39556331527852717, 0.9428079990927815, 0.11785099988659768, 0.7072266853305904, 0.2897664891285058, 0.5341977268447411, 0.46494987336486726, 0.11792688899290175, 0.943415111943214, 0.04245417421356494, 0.9552189198052111, 0.06633441938493576, 0.9286818713891006, 0.06243276164208204, 0.9364914246312305, 0.9401324590151194, 0.07231788146270149, 0.9333782184599455, 0.04242628265727025, 0.13266319438979726, 0.8844212959319817, 0.9642297898833456, 0.09642297898833457, 0.7552917502733245, 0.24327749259740042, 0.4202819867702634, 0.578627664884412, 0.7906886962907077, 0.20941507550273694, 0.5460859036250789, 0.45442148408801214, 0.4540891016286541, 0.5485036673138198, 0.08164209013510038, 0.9797050816212045, 0.08270069163642053, 0.909707608000626, 0.8637280904904988, 0.13637811955113138, 0.8900094849811007, 0.10972719677849185, 0.9427914555386215, 0.058924465971163846, 0.05586080336136667, 0.9496336571432334, 0.8374279992484941, 0.1674855998496988, 0.9047059331163051, 0.09359026894306605, 0.5131209715474708, 0.48724311275184906, 0.8159654111832991, 0.1835922175162423, 0.9307955863315555, 0.08658563593781911, 0.9428068161110286, 0.7779089610847826, 0.21922888903298418, 0.0849070259589289, 0.9339772855482179, 0.6712931543740238, 0.328402406456357, 0.11792644990329235, 0.9434115992263388, 0.1826744064888442, 0.8176854385691121, 0.9848901697772229, 0.0757607822905556, 0.17687585451283497, 0.8212093245238766, 0.9642340927474602, 0.04821170463737301, 0.3321104057725572, 0.6642208115451144, 0.9509307847691698, 0.05486139142899057, 0.9192351494815958, 0.0707103961139689, 0.7086757467122425, 0.2912961658265046, 0.4881242687906321, 0.5115074672955726, 0.9790537156623825, 0.04079390481926594, 0.942804901604443, 0.04714024508022215, 0.41615875244482736, 0.5815198461315138, 0.11792618628259686, 0.9434094902607749, 0.0884450978551365, 0.9728960764065016, 0.6891374919833846, 0.3090677236773967, 0.9192346078387406, 0.07071035444913389, 0.8932193948039909, 0.11165242435049887, 0.6626591323197251, 0.3391072555063382, 0.9790626189325674, 0.08158855157771394, 0.9642317163330227, 0.09642317163330227, 0.3203452785398847, 0.680733716897255, 0.935871842237404, 0.06239145614916027, 0.5255938473308505, 0.473360918403561, 0.8466404918391782, 0.15570399849915922, 0.9518652792230281, 0.05439230166988732, 0.10107833693932801, 0.9097050324539522, 0.07075656580542937, 0.9552136383732964, 0.09648576282096867, 0.9648576282096867, 0.22740389372721467, 0.7731732386725299, 0.3581257429570595, 0.6432999456821255, 0.0964836297065168, 0.9005138772608235, 0.6380479869494966, 0.3624414600423176], \"Term\": [\"also\", \"also\", \"android\", \"android\", \"annapoli\", \"annapoli\", \"app\", \"app\", \"architectur\", \"architectur\", \"atlanta\", \"atlanta\", \"bag\", \"bag\", \"baggag\", \"baggag\", \"base\", \"base\", \"bathroom\", \"bathroom\", \"bid\", \"bid\", \"brake\", \"brake\", \"broker\", \"broker\", \"build\", \"build\", \"busi\", \"busi\", \"cabl\", \"cabl\", \"canada\", \"canada\", \"chain\", \"chain\", \"client\", \"client\", \"cloudbas\", \"cloudbas\", \"coffe\", \"coffe\", \"collabor\", \"collabor\", \"colono\", \"colono\", \"commerci\", \"commerci\", \"compani\", \"compani\", \"concret\", \"concret\", \"construct\", \"construct\", \"consult\", \"consult\", \"crm\", \"crm\", \"custom\", \"custom\", \"databas\", \"databas\", \"de\", \"de\", \"deliveri\", \"deliveri\", \"design\", \"design\", \"develop\", \"develop\", \"document\", \"document\", \"energi\", \"energi\", \"engin\", \"engin\", \"engrav\", \"engrav\", \"equip\", \"equip\", \"erp\", \"erp\", \"estim\", \"estim\", \"et\", \"et\", \"featur\", \"featur\", \"found\", \"found\", \"frame\", \"frame\", \"franc\", \"franc\", \"freight\", \"freight\", \"game\", \"game\", \"gen\", \"gen\", \"gilmor\", \"gilmor\", \"gourmet\", \"gourmet\", \"grc\", \"grc\", \"green\", \"green\", \"group\", \"group\", \"help\", \"help\", \"hoist\", \"hoist\", \"home\", \"home\", \"hous\", \"hous\", \"inc\", \"inc\", \"includ\", \"includ\", \"industri\", \"industri\", \"io\", \"io\", \"laser\", \"laser\", \"le\", \"le\", \"log\", \"log\", \"logist\", \"logist\", \"lunch\", \"lunch\", \"manag\", \"manag\", \"manufactur\", \"manufactur\", \"marker\", \"marker\", \"market\", \"market\", \"master\", \"master\", \"metal\", \"metal\", \"midstream\", \"midstream\", \"mobil\", \"mobil\", \"murcia\", \"murcia\", \"mw\", \"mw\", \"need\", \"need\", \"new\", \"new\", \"offer\", \"offer\", \"old\", \"old\", \"onlin\", \"onlin\", \"oper\", \"oper\", \"packer\", \"packer\", \"paint\", \"paint\", \"painter\", \"painter\", \"panel\", \"panel\", \"payment\", \"payment\", \"pintor\", \"pintor\", \"pipelin\", \"pipelin\", \"pizero\", \"pizero\", \"platform\", \"platform\", \"product\", \"product\", \"project\", \"project\", \"provid\", \"provid\", \"qualiti\", \"qualiti\", \"realiz\", \"realiz\", \"remodel\", \"remodel\", \"rental\", \"rental\", \"report\", \"report\", \"rfi\", \"rfi\", \"robot\", \"robot\", \"safeti\", \"safeti\", \"schedul\", \"schedul\", \"servic\", \"servic\", \"ship\", \"ship\", \"shipment\", \"shipment\", \"sleep\", \"softwar\", \"softwar\", \"solar\", \"solar\", \"solut\", \"solut\", \"sqft\", \"sqft\", \"state\", \"state\", \"statu\", \"statu\", \"steel\", \"steel\", \"streamlin\", \"streamlin\", \"structur\", \"structur\", \"subcontractor\", \"subcontractor\", \"submit\", \"submit\", \"suppli\", \"suppli\", \"system\", \"system\", \"takeoff\", \"takeoff\", \"task\", \"task\", \"technolog\", \"technolog\", \"textur\", \"textur\", \"thermo\", \"thermo\", \"time\", \"time\", \"tishman\", \"tishman\", \"track\", \"track\", \"transport\", \"transport\", \"tune\", \"tune\", \"un\", \"un\", \"unit\", \"unit\", \"up\", \"up\", \"use\", \"use\", \"user\", \"user\", \"via\", \"via\", \"vr\", \"vr\", \"wall\", \"wall\", \"washington\", \"washington\", \"water\", \"water\", \"well\", \"well\", \"wind\", \"wind\", \"work\", \"work\"]}, \"R\": 30, \"lambda.step\": 0.01, \"plot.opts\": {\"xlab\": \"PC1\", \"ylab\": \"PC2\"}, \"topic.order\": [2, 1]};\n",
              "\n",
              "function LDAvis_load_lib(url, callback){\n",
              "  var s = document.createElement('script');\n",
              "  s.src = url;\n",
              "  s.async = true;\n",
              "  s.onreadystatechange = s.onload = callback;\n",
              "  s.onerror = function(){console.warn(\"failed to load library \" + url);};\n",
              "  document.getElementsByTagName(\"head\")[0].appendChild(s);\n",
              "}\n",
              "\n",
              "if(typeof(LDAvis) !== \"undefined\"){\n",
              "   // already loaded: just create the visualization\n",
              "   !function(LDAvis){\n",
              "       new LDAvis(\"#\" + \"ldavis_el9841403358448662326123365753\", ldavis_el9841403358448662326123365753_data);\n",
              "   }(LDAvis);\n",
              "}else if(typeof define === \"function\" && define.amd){\n",
              "   // require.js is available: use it to load d3/LDAvis\n",
              "   require.config({paths: {d3: \"https://cdnjs.cloudflare.com/ajax/libs/d3/3.5.5/d3.min\"}});\n",
              "   require([\"d3\"], function(d3){\n",
              "      window.d3 = d3;\n",
              "      LDAvis_load_lib(\"https://cdn.rawgit.com/bmabey/pyLDAvis/files/ldavis.v1.0.0.js\", function(){\n",
              "        new LDAvis(\"#\" + \"ldavis_el9841403358448662326123365753\", ldavis_el9841403358448662326123365753_data);\n",
              "      });\n",
              "    });\n",
              "}else{\n",
              "    // require.js not available: dynamically load d3 & LDAvis\n",
              "    LDAvis_load_lib(\"https://cdnjs.cloudflare.com/ajax/libs/d3/3.5.5/d3.min.js\", function(){\n",
              "         LDAvis_load_lib(\"https://cdn.rawgit.com/bmabey/pyLDAvis/files/ldavis.v1.0.0.js\", function(){\n",
              "                 new LDAvis(\"#\" + \"ldavis_el9841403358448662326123365753\", ldavis_el9841403358448662326123365753_data);\n",
              "            })\n",
              "         });\n",
              "}\n",
              "</script>"
            ],
            "text/plain": [
              "PreparedData(topic_coordinates=              x    y  topics  cluster       Freq\n",
              "topic                                           \n",
              "1      0.043539  0.0       1        1  55.452175\n",
              "0     -0.043539  0.0       2        1  44.547825, topic_info=         Term         Freq        Total Category  logprob  loglift\n",
              "1117     home   218.000000   218.000000  Default  30.0000  30.0000\n",
              "275     manag   795.000000   795.000000  Default  29.0000  29.0000\n",
              "90    compani  1113.000000  1113.000000  Default  28.0000  28.0000\n",
              "244     mobil   195.000000   195.000000  Default  27.0000  27.0000\n",
              "266     engin   310.000000   310.000000  Default  26.0000  26.0000\n",
              "...       ...          ...          ...      ...      ...      ...\n",
              "146       use   144.859312   306.320176   Topic2  -5.5304   0.0597\n",
              "97      solut   203.706801   621.189114   Topic2  -5.1894  -0.3063\n",
              "242    includ   169.767102   432.643900   Topic2  -5.3717  -0.1269\n",
              "323     found   116.241285   217.713165   Topic2  -5.7505   0.1811\n",
              "275     manag   163.366091   795.646341   Topic2  -5.4101  -0.7746\n",
              "\n",
              "[193 rows x 6 columns], token_table=      Topic      Freq      Term\n",
              "term                           \n",
              "255       1  0.508034      also\n",
              "255       2  0.490754      also\n",
              "1191      1  0.974644   android\n",
              "1191      2  0.028666   android\n",
              "4296      1  0.132667  annapoli\n",
              "...     ...       ...       ...\n",
              "148       2  0.643300      well\n",
              "541       1  0.096484      wind\n",
              "541       2  0.900514      wind\n",
              "254       1  0.638048      work\n",
              "254       2  0.362441      work\n",
              "\n",
              "[289 rows x 3 columns], R=30, lambda_step=0.01, plot_opts={'xlab': 'PC1', 'ylab': 'PC2'}, topic_order=[2, 1])"
            ]
          },
          "metadata": {
            "tags": []
          },
          "execution_count": 18
        }
      ]
    },
    {
      "cell_type": "code",
      "metadata": {
        "id": "SrTRKjVBORIb"
      },
      "source": [
        "#Questions:\n",
        "\n",
        "# Part 2. Which method produces more sensible output? Discuss. (Identify manually on the basis of the description of companies)\n",
        "# Answer:\n",
        "#  Part 1, using sklearn cosine-similarity is giving more sensible results as compared to genism LDA.\n",
        "\n",
        "#  This could be due to the fact that we need to tune LDA model parameters like passes,chunksize,random_state so as to perform better.\n",
        "#  For this we can use GridSearch.\n",
        "\n",
        "# Part 1:  “Much Asphalt” Which are the most similar companies? Do the results make sense?\n",
        "# # Answer:\n",
        "# Yes, the description of the top 5 companies present in the result and the description of the company, Much Asphalt matches.\n",
        "# The description of the top 5 companies are similar and related.\n",
        "  \n"
      ],
      "execution_count": null,
      "outputs": []
    }
  ]
}