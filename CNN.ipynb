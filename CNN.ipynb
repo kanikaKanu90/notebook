{
  "nbformat": 4,
  "nbformat_minor": 0,
  "metadata": {
    "colab": {
      "name": "CNN",
      "provenance": [],
      "collapsed_sections": [],
      "mount_file_id": "1a4n__S1wmu7W_SIsjeOCXJ3X2Fl6UlNz",
      "authorship_tag": "ABX9TyMAO3+PoHgW6Y/fxMAO+W1p",
      "include_colab_link": true
    },
    "kernelspec": {
      "name": "python3",
      "display_name": "Python 3"
    }
  },
  "cells": [
    {
      "cell_type": "markdown",
      "metadata": {
        "id": "view-in-github",
        "colab_type": "text"
      },
      "source": [
        "<a href=\"https://colab.research.google.com/github/kanikaKanu90/notebook/blob/master/CNN.ipynb\" target=\"_parent\"><img src=\"https://colab.research.google.com/assets/colab-badge.svg\" alt=\"Open In Colab\"/></a>"
      ]
    },
    {
      "cell_type": "code",
      "metadata": {
        "id": "P9cRFoCA_qma"
      },
      "source": [
        "from keras.datasets import mnist\n",
        "from keras.utils import to_categorical"
      ],
      "execution_count": 3,
      "outputs": []
    },
    {
      "cell_type": "code",
      "metadata": {
        "id": "NqbmAI0FAEMA",
        "outputId": "d8112b56-de9e-4086-f8a6-77ecba6e3285",
        "colab": {
          "base_uri": "https://localhost:8080/"
        }
      },
      "source": [
        "(train_images, train_labels) , (test_images, test_labels) = mnist.load_data()\n",
        "\n",
        "train_images.shape"
      ],
      "execution_count": 4,
      "outputs": [
        {
          "output_type": "stream",
          "text": [
            "Downloading data from https://storage.googleapis.com/tensorflow/tf-keras-datasets/mnist.npz\n",
            "11493376/11490434 [==============================] - 0s 0us/step\n"
          ],
          "name": "stdout"
        },
        {
          "output_type": "execute_result",
          "data": {
            "text/plain": [
              "(60000, 28, 28)"
            ]
          },
          "metadata": {
            "tags": []
          },
          "execution_count": 4
        }
      ]
    },
    {
      "cell_type": "code",
      "metadata": {
        "id": "anb3-rjiAx9s",
        "outputId": "b9ed2371-d00b-42b3-e406-180c704eabac",
        "colab": {
          "base_uri": "https://localhost:8080/"
        }
      },
      "source": [
        "type(train_images)"
      ],
      "execution_count": 5,
      "outputs": [
        {
          "output_type": "execute_result",
          "data": {
            "text/plain": [
              "numpy.ndarray"
            ]
          },
          "metadata": {
            "tags": []
          },
          "execution_count": 5
        }
      ]
    },
    {
      "cell_type": "code",
      "metadata": {
        "id": "30AJpYjpA-2w"
      },
      "source": [
        "train_images[0]"
      ],
      "execution_count": null,
      "outputs": []
    },
    {
      "cell_type": "code",
      "metadata": {
        "id": "vd5O2FPbBE9q"
      },
      "source": [
        "train_images = train_images.reshape(60000, 28, 28, 1)\n",
        "train_images = train_images.astype('float32') # /255\n",
        "\n",
        "\n",
        "test_images = test_images.reshape(10000, 28, 28, 1)\n",
        "test_images = test_images.astype('float32')"
      ],
      "execution_count": 7,
      "outputs": []
    },
    {
      "cell_type": "code",
      "metadata": {
        "id": "VaWtcXJ3Cp9G"
      },
      "source": [
        "train_images[0]"
      ],
      "execution_count": null,
      "outputs": []
    },
    {
      "cell_type": "code",
      "metadata": {
        "id": "znONfyAyCtUf",
        "outputId": "509a794c-b719-495a-863b-ee1c9e8a67a0",
        "colab": {
          "base_uri": "https://localhost:8080/"
        }
      },
      "source": [
        "train_labels[0], train_labels.shape, train_labels[0].shape"
      ],
      "execution_count": 9,
      "outputs": [
        {
          "output_type": "execute_result",
          "data": {
            "text/plain": [
              "(5, (60000,), ())"
            ]
          },
          "metadata": {
            "tags": []
          },
          "execution_count": 9
        }
      ]
    },
    {
      "cell_type": "code",
      "metadata": {
        "id": "4v6qWlndEenP",
        "outputId": "ba4c413d-8e32-4581-cbce-7c9eb9cc08ea",
        "colab": {
          "base_uri": "https://localhost:8080/"
        }
      },
      "source": [
        "train_labels"
      ],
      "execution_count": 10,
      "outputs": [
        {
          "output_type": "execute_result",
          "data": {
            "text/plain": [
              "array([5, 0, 4, ..., 5, 6, 8], dtype=uint8)"
            ]
          },
          "metadata": {
            "tags": []
          },
          "execution_count": 10
        }
      ]
    },
    {
      "cell_type": "code",
      "metadata": {
        "id": "nMVZtX3_DYis",
        "outputId": "2f85465a-0324-4036-8206-5229f0849abd",
        "colab": {
          "base_uri": "https://localhost:8080/"
        }
      },
      "source": [
        "import numpy as np\n",
        "\n",
        "np.argmax(train_labels) # class with highest probability"
      ],
      "execution_count": 11,
      "outputs": [
        {
          "output_type": "execute_result",
          "data": {
            "text/plain": [
              "4"
            ]
          },
          "metadata": {
            "tags": []
          },
          "execution_count": 11
        }
      ]
    },
    {
      "cell_type": "code",
      "metadata": {
        "id": "NILf5CktDfVA"
      },
      "source": [
        "train_labels = to_categorical(train_labels) #binary matrix\n",
        "test_labels = to_categorical(test_labels)"
      ],
      "execution_count": 12,
      "outputs": []
    },
    {
      "cell_type": "code",
      "metadata": {
        "id": "GiKyqRGkIBze",
        "outputId": "8af63b24-1aaa-444a-8c0e-1d4728e9e75b",
        "colab": {
          "base_uri": "https://localhost:8080/"
        }
      },
      "source": [
        "train_labels[2]"
      ],
      "execution_count": 13,
      "outputs": [
        {
          "output_type": "execute_result",
          "data": {
            "text/plain": [
              "array([0., 0., 0., 0., 1., 0., 0., 0., 0., 0.], dtype=float32)"
            ]
          },
          "metadata": {
            "tags": []
          },
          "execution_count": 13
        }
      ]
    },
    {
      "cell_type": "code",
      "metadata": {
        "id": "Ikfbo6lCIEbX",
        "outputId": "42fc0e5c-3a5e-4556-f01d-bf089cd8d5be",
        "colab": {
          "base_uri": "https://localhost:8080/"
        }
      },
      "source": [
        "from keras import layers\n",
        "from keras import models\n",
        "model = models.Sequential()\n",
        "model.add(layers.Conv2D(32, (3, 3), activation='relu', input_shape=(28, 28, 1)))\n",
        "model.add(layers.MaxPooling2D((2, 2)))\n",
        "model.add(layers.Conv2D(64, (3, 3), activation='relu'))\n",
        "model.add(layers.MaxPooling2D((2, 2)))\n",
        "model.add(layers.Conv2D(64, (3, 3), activation='relu'))\n",
        "\n",
        "model.add(layers.Flatten())\n",
        "model.add(layers.Dense(64, activation='relu'))\n",
        "model.add(layers.Dense(10, activation='softmax'))\n",
        "\n",
        "model.summary()"
      ],
      "execution_count": 60,
      "outputs": [
        {
          "output_type": "stream",
          "text": [
            "Model: \"sequential_3\"\n",
            "_________________________________________________________________\n",
            "Layer (type)                 Output Shape              Param #   \n",
            "=================================================================\n",
            "conv2d_7 (Conv2D)            (None, 26, 26, 32)        320       \n",
            "_________________________________________________________________\n",
            "max_pooling2d_6 (MaxPooling2 (None, 13, 13, 32)        0         \n",
            "_________________________________________________________________\n",
            "conv2d_8 (Conv2D)            (None, 11, 11, 64)        18496     \n",
            "_________________________________________________________________\n",
            "max_pooling2d_7 (MaxPooling2 (None, 5, 5, 64)          0         \n",
            "_________________________________________________________________\n",
            "conv2d_9 (Conv2D)            (None, 3, 3, 64)          36928     \n",
            "_________________________________________________________________\n",
            "flatten_2 (Flatten)          (None, 576)               0         \n",
            "_________________________________________________________________\n",
            "dense_4 (Dense)              (None, 64)                36928     \n",
            "_________________________________________________________________\n",
            "dense_5 (Dense)              (None, 10)                650       \n",
            "=================================================================\n",
            "Total params: 93,322\n",
            "Trainable params: 93,322\n",
            "Non-trainable params: 0\n",
            "_________________________________________________________________\n"
          ],
          "name": "stdout"
        }
      ]
    },
    {
      "cell_type": "code",
      "metadata": {
        "id": "g3c2hTLPJJBH"
      },
      "source": [
        "model.compile(optimizer='rmsprop',\n",
        "loss='categorical_crossentropy',\n",
        "metrics=['accuracy'])\n",
        "\n",
        "model.fit(train_images, train_labels, epochs=10, batch_size=64)"
      ],
      "execution_count": null,
      "outputs": []
    },
    {
      "cell_type": "code",
      "metadata": {
        "id": "5tzqD5vr9F5I",
        "outputId": "e9ea69d2-19d9-4e26-968b-28215fc1179f",
        "colab": {
          "base_uri": "https://localhost:8080/"
        }
      },
      "source": [
        "test_images.shape, train_images.shape"
      ],
      "execution_count": 19,
      "outputs": [
        {
          "output_type": "execute_result",
          "data": {
            "text/plain": [
              "((10000, 28, 28, 1), (60000, 28, 28, 1))"
            ]
          },
          "metadata": {
            "tags": []
          },
          "execution_count": 19
        }
      ]
    },
    {
      "cell_type": "code",
      "metadata": {
        "id": "qIcgOwvH-QKM",
        "outputId": "b9bc95b3-9c43-4fc9-9c33-cf6e6f5209e0",
        "colab": {
          "base_uri": "https://localhost:8080/"
        }
      },
      "source": [
        "test_images[0].shape"
      ],
      "execution_count": 25,
      "outputs": [
        {
          "output_type": "execute_result",
          "data": {
            "text/plain": [
              "(28, 28, 1)"
            ]
          },
          "metadata": {
            "tags": []
          },
          "execution_count": 25
        }
      ]
    },
    {
      "cell_type": "code",
      "metadata": {
        "id": "JFZXodJSCmXt"
      },
      "source": [
        ""
      ],
      "execution_count": null,
      "outputs": []
    },
    {
      "cell_type": "code",
      "metadata": {
        "id": "UGgarp41CmhZ"
      },
      "source": [
        "img= tf.squeeze(test_images[0])\n",
        "img.shape"
      ],
      "execution_count": null,
      "outputs": []
    },
    {
      "cell_type": "code",
      "metadata": {
        "id": "rMN8wvyu8vx7",
        "outputId": "109b70a9-fe31-48e1-a98f-4e97db6216b2",
        "colab": {
          "base_uri": "https://localhost:8080/",
          "height": 265
        }
      },
      "source": [
        "import matplotlib.pyplot as plt\n",
        "import tensorflow as tf\n",
        "\n",
        "plt.imshow((tf.squeeze(test_images[0])))\n",
        "plt.show()"
      ],
      "execution_count": 27,
      "outputs": [
        {
          "output_type": "display_data",
          "data": {
            "image/png": "[encoded data removed]",
            "text/plain": [
              "<Figure size 432x288 with 1 Axes>"
            ]
          },
          "metadata": {
            "tags": [],
            "needs_background": "light"
          }
        }
      ]
    },
    {
      "cell_type": "code",
      "metadata": {
        "id": "HBLIyKwJFdbM",
        "outputId": "43ab9d04-7f97-4409-bc9a-555758727718",
        "colab": {
          "base_uri": "https://localhost:8080/"
        }
      },
      "source": [
        "testimag = test_images[0].reshape(1, 28, 28, 1)\n",
        "testimag.shape"
      ],
      "execution_count": 28,
      "outputs": [
        {
          "output_type": "execute_result",
          "data": {
            "text/plain": [
              "(1, 28, 28, 1)"
            ]
          },
          "metadata": {
            "tags": []
          },
          "execution_count": 28
        }
      ]
    },
    {
      "cell_type": "code",
      "metadata": {
        "id": "MupewHhfF13t",
        "outputId": "df757ae1-a023-4a17-913b-f50fc1614d31",
        "colab": {
          "base_uri": "https://localhost:8080/",
          "height": 265
        }
      },
      "source": [
        "import matplotlib.pyplot as plt\n",
        "import tensorflow as tf\n",
        "\n",
        "plt.imshow(tf.squeeze(testimag))\n",
        "plt.show()"
      ],
      "execution_count": 31,
      "outputs": [
        {
          "output_type": "display_data",
          "data": {
            "image/png": "[encoded data removed]",
            "text/plain": [
              "<Figure size 432x288 with 1 Axes>"
            ]
          },
          "metadata": {
            "tags": [],
            "needs_background": "light"
          }
        }
      ]
    },
    {
      "cell_type": "code",
      "metadata": {
        "id": "SwGA7dEU0qGo",
        "outputId": "fc1bf29a-3777-4d48-cf4b-6d918eac4fc2",
        "colab": {
          "base_uri": "https://localhost:8080/",
          "height": 1000
        }
      },
      "source": [
        "# Visualizing every channel in every intermediate activation\n",
        "\n",
        "from keras import models\n",
        "\n",
        "layer_outputs = [layer.output for layer in model.layers[:8]]\n",
        "activation_model = models.Model(inputs=model.input, outputs=layer_outputs)\n",
        "activations = activation_model.predict(testimag)\n",
        "\n",
        "layer_names = []\n",
        "for layer in model.layers[:5]:\n",
        "  layer_names.append(layer.name)\n",
        "\n",
        "images_per_row =16\n",
        "\n",
        "for layer_name, layer_activation in zip(layer_names, activations):\n",
        "  n_features = layer_activation.shape[-1] #no. of featyres in feature map\n",
        "  size = layer_activation.shape[1] # FM shape (1, size, size, n_features).\n",
        "  print(\"Features in FMap:, shape: \", n_features, size,layer_name,layer_activation.shape )\n",
        "\n",
        "  n_cols = n_features // images_per_row #Tiles the activation channels in this matrix\n",
        "  print(\"ncols: \", n_cols)\n",
        "  display_grid = np.zeros((size * n_cols, images_per_row * size))\n",
        "  for col in range(n_cols):\n",
        "    for row in range(images_per_row): #Tiles each filter into a big horizontal grid\n",
        "      channel_image = layer_activation[0,:, :,col * images_per_row + row]\n",
        "      channel_image -= channel_image.mean() #Post-processes the feature to make it visually palatable\n",
        "      channel_image /= channel_image.std()\n",
        "      channel_image *= 64\n",
        "      channel_image += 128\n",
        "      channel_image = np.clip(channel_image, 0, 255).astype('uint8')\n",
        "      display_grid[col * size : (col + 1) * size, row * size : (row + 1) * size] = channel_image\n",
        "\n",
        "  scale = 1. / size\n",
        "  plt.figure(figsize=(scale * display_grid.shape[1],\n",
        "  scale * display_grid.shape[0]))\n",
        "  plt.title(layer_name)\n",
        "  plt.grid(False)\n",
        "  plt.imshow(display_grid, aspect='auto', cmap='viridis')"
      ],
      "execution_count": 44,
      "outputs": [
        {
          "output_type": "stream",
          "text": [
            "WARNING:tensorflow:11 out of the last 11 calls to <function Model.make_predict_function.<locals>.predict_function at 0x7f0dd45b12f0> triggered tf.function retracing. Tracing is expensive and the excessive number of tracings could be due to (1) creating @tf.function repeatedly in a loop, (2) passing tensors with different shapes, (3) passing Python objects instead of tensors. For (1), please define your @tf.function outside of the loop. For (2), @tf.function has experimental_relax_shapes=True option that relaxes argument shapes that can avoid unnecessary retracing. For (3), please refer to https://www.tensorflow.org/tutorials/customization/performance#python_or_tensor_args and https://www.tensorflow.org/api_docs/python/tf/function for  more details.\n",
            "Features in FMap:, shape:  32 26 conv2d_4 (1, 26, 26, 32)\n",
            "ncols:  2\n",
            "Features in FMap:, shape:  32 13 max_pooling2d_4 (1, 13, 13, 32)\n",
            "ncols:  2\n",
            "Features in FMap:, shape:  64 11 conv2d_5 (1, 11, 11, 64)\n",
            "ncols:  4\n",
            "Features in FMap:, shape:  64 5 max_pooling2d_5 (1, 5, 5, 64)\n",
            "ncols:  4\n"
          ],
          "name": "stdout"
        },
        {
          "output_type": "stream",
          "text": [
            "/usr/local/lib/python3.6/dist-packages/ipykernel_launcher.py:25: RuntimeWarning: invalid value encountered in true_divide\n"
          ],
          "name": "stderr"
        },
        {
          "output_type": "stream",
          "text": [
            "Features in FMap:, shape:  64 3 conv2d_6 (1, 3, 3, 64)\n",
            "ncols:  4\n"
          ],
          "name": "stdout"
        },
        {
          "output_type": "display_data",
          "data": {
            "image/png": "[encoded data removed]",
            "text/plain": [
              "<Figure size 1152x144 with 1 Axes>"
            ]
          },
          "metadata": {
            "tags": [],
            "needs_background": "light"
          }
        },
        {
          "output_type": "display_data",
          "data": {
            "image/png": "[encoded data removed]",
            "text/plain": [
              "<Figure size 1152x144 with 1 Axes>"
            ]
          },
          "metadata": {
            "tags": [],
            "needs_background": "light"
          }
        },
        {
          "output_type": "display_data",
          "data": {
            "image/png": "[encoded data removed]",
            "text/plain": [
              "<Figure size 1152x288 with 1 Axes>"
            ]
          },
          "metadata": {
            "tags": [],
            "needs_background": "light"
          }
        },
        {
          "output_type": "display_data",
          "data": {
            "image/png": "[encoded data removed]",
            "text/plain": [
              "<Figure size 1152x288 with 1 Axes>"
            ]
          },
          "metadata": {
            "tags": [],
            "needs_background": "light"
          }
        },
        {
          "output_type": "display_data",
          "data": {
            "image/png": "[encoded data removed]",
            "text/plain": [
              "<Figure size 1152x288 with 1 Axes>"
            ]
          },
          "metadata": {
            "tags": [],
            "needs_background": "light"
          }
        }
      ]
    },
    {
      "cell_type": "code",
      "metadata": {
        "id": "QeCFvF4ZiAFx",
        "outputId": "4ac87eae-37a6-458e-f915-0405f2ed3ebf",
        "colab": {
          "base_uri": "https://localhost:8080/"
        }
      },
      "source": [
        "w = tf.Variable([[1.0]])\n",
        "with tf.GradientTape() as tape:\n",
        "  loss = w * w\n",
        "\n",
        "grad = tape.gradient(loss, w)\n",
        "print(grad)  # => tf.Tensor([[ 2.]], shape=(1, 1), dtype=float32)"
      ],
      "execution_count": 56,
      "outputs": [
        {
          "output_type": "stream",
          "text": [
            "tf.Tensor([[2.]], shape=(1, 1), dtype=float32)\n"
          ],
          "name": "stdout"
        }
      ]
    },
    {
      "cell_type": "code",
      "metadata": {
        "id": "eXC8_Dk5ipyn",
        "outputId": "06fa9793-4e17-4cbf-b0d7-b65c78f90f1f",
        "colab": {
          "base_uri": "https://localhost:8080/"
        }
      },
      "source": [
        "model.summary()"
      ],
      "execution_count": 61,
      "outputs": [
        {
          "output_type": "stream",
          "text": [
            "Model: \"sequential_3\"\n",
            "_________________________________________________________________\n",
            "Layer (type)                 Output Shape              Param #   \n",
            "=================================================================\n",
            "conv2d_7 (Conv2D)            (None, 26, 26, 32)        320       \n",
            "_________________________________________________________________\n",
            "max_pooling2d_6 (MaxPooling2 (None, 13, 13, 32)        0         \n",
            "_________________________________________________________________\n",
            "conv2d_8 (Conv2D)            (None, 11, 11, 64)        18496     \n",
            "_________________________________________________________________\n",
            "max_pooling2d_7 (MaxPooling2 (None, 5, 5, 64)          0         \n",
            "_________________________________________________________________\n",
            "conv2d_9 (Conv2D)            (None, 3, 3, 64)          36928     \n",
            "_________________________________________________________________\n",
            "flatten_2 (Flatten)          (None, 576)               0         \n",
            "_________________________________________________________________\n",
            "dense_4 (Dense)              (None, 64)                36928     \n",
            "_________________________________________________________________\n",
            "dense_5 (Dense)              (None, 10)                650       \n",
            "=================================================================\n",
            "Total params: 93,322\n",
            "Trainable params: 93,322\n",
            "Non-trainable params: 0\n",
            "_________________________________________________________________\n"
          ],
          "name": "stdout"
        }
      ]
    },
    {
      "cell_type": "code",
      "metadata": {
        "id": "Dl6mZK_XWANU",
        "outputId": "009a52ff-d682-40ff-a729-427c9cb210df",
        "colab": {
          "base_uri": "https://localhost:8080/",
          "height": 337
        }
      },
      "source": [
        "# Visualizing convnet filters\n",
        "\n",
        "from keras import backend as K\n",
        "\n",
        "def generate_pattern(layer_name, filter_index, size=150):\n",
        "  layer_output = model.get_layer(layer_name).output\n",
        "  loss = K.mean(layer_output[:, :, :, filter_index])\n",
        "  grads = tf.GradientTape.gradient(loss, model.input)[0]\n",
        "  grads /= (K.sqrt(K.mean(K.square(grads))) + 1e-5)\n",
        "  iterate = K.function([model.input], [loss, grads])\n",
        "  input_img_data = np.random.random((1, size, size, 3)) * 20 + 128.\n",
        "  step = 1.\n",
        "  for i in range(40):\n",
        "    loss_value, grads_value = iterate([input_img_data])\n",
        "    input_img_data += grads_value * step\n",
        "  img = input_img_data[0]\n",
        "  return deprocess_image(img)\n",
        "\n",
        "plt.imshow(generate_pattern('conv2d_4', 0))"
      ],
      "execution_count": 62,
      "outputs": [
        {
          "output_type": "error",
          "ename": "ValueError",
          "evalue": "ignored",
          "traceback": [
            "\u001b[0;31m---------------------------------------------------------------------------\u001b[0m",
            "\u001b[0;31mValueError\u001b[0m                                Traceback (most recent call last)",
            "\u001b[0;32m<ipython-input-62-77855fd8924c>\u001b[0m in \u001b[0;36m<module>\u001b[0;34m()\u001b[0m\n\u001b[1;32m     17\u001b[0m   \u001b[0;32mreturn\u001b[0m \u001b[0mdeprocess_image\u001b[0m\u001b[0;34m(\u001b[0m\u001b[0mimg\u001b[0m\u001b[0;34m)\u001b[0m\u001b[0;34m\u001b[0m\u001b[0;34m\u001b[0m\u001b[0m\n\u001b[1;32m     18\u001b[0m \u001b[0;34m\u001b[0m\u001b[0m\n\u001b[0;32m---> 19\u001b[0;31m \u001b[0mplt\u001b[0m\u001b[0;34m.\u001b[0m\u001b[0mimshow\u001b[0m\u001b[0;34m(\u001b[0m\u001b[0mgenerate_pattern\u001b[0m\u001b[0;34m(\u001b[0m\u001b[0;34m'conv2d_4'\u001b[0m\u001b[0;34m,\u001b[0m \u001b[0;36m0\u001b[0m\u001b[0;34m)\u001b[0m\u001b[0;34m)\u001b[0m\u001b[0;34m\u001b[0m\u001b[0;34m\u001b[0m\u001b[0m\n\u001b[0m",
            "\u001b[0;32m<ipython-input-62-77855fd8924c>\u001b[0m in \u001b[0;36mgenerate_pattern\u001b[0;34m(layer_name, filter_index, size)\u001b[0m\n\u001b[1;32m      4\u001b[0m \u001b[0;34m\u001b[0m\u001b[0m\n\u001b[1;32m      5\u001b[0m \u001b[0;32mdef\u001b[0m \u001b[0mgenerate_pattern\u001b[0m\u001b[0;34m(\u001b[0m\u001b[0mlayer_name\u001b[0m\u001b[0;34m,\u001b[0m \u001b[0mfilter_index\u001b[0m\u001b[0;34m,\u001b[0m \u001b[0msize\u001b[0m\u001b[0;34m=\u001b[0m\u001b[0;36m150\u001b[0m\u001b[0;34m)\u001b[0m\u001b[0;34m:\u001b[0m\u001b[0;34m\u001b[0m\u001b[0;34m\u001b[0m\u001b[0m\n\u001b[0;32m----> 6\u001b[0;31m   \u001b[0mlayer_output\u001b[0m \u001b[0;34m=\u001b[0m \u001b[0mmodel\u001b[0m\u001b[0;34m.\u001b[0m\u001b[0mget_layer\u001b[0m\u001b[0;34m(\u001b[0m\u001b[0mlayer_name\u001b[0m\u001b[0;34m)\u001b[0m\u001b[0;34m.\u001b[0m\u001b[0moutput\u001b[0m\u001b[0;34m\u001b[0m\u001b[0;34m\u001b[0m\u001b[0m\n\u001b[0m\u001b[1;32m      7\u001b[0m   \u001b[0mloss\u001b[0m \u001b[0;34m=\u001b[0m \u001b[0mK\u001b[0m\u001b[0;34m.\u001b[0m\u001b[0mmean\u001b[0m\u001b[0;34m(\u001b[0m\u001b[0mlayer_output\u001b[0m\u001b[0;34m[\u001b[0m\u001b[0;34m:\u001b[0m\u001b[0;34m,\u001b[0m \u001b[0;34m:\u001b[0m\u001b[0;34m,\u001b[0m \u001b[0;34m:\u001b[0m\u001b[0;34m,\u001b[0m \u001b[0mfilter_index\u001b[0m\u001b[0;34m]\u001b[0m\u001b[0;34m)\u001b[0m\u001b[0;34m\u001b[0m\u001b[0;34m\u001b[0m\u001b[0m\n\u001b[1;32m      8\u001b[0m   \u001b[0mgrads\u001b[0m \u001b[0;34m=\u001b[0m \u001b[0mtf\u001b[0m\u001b[0;34m.\u001b[0m\u001b[0mGradientTape\u001b[0m\u001b[0;34m.\u001b[0m\u001b[0mgradient\u001b[0m\u001b[0;34m(\u001b[0m\u001b[0mloss\u001b[0m\u001b[0;34m,\u001b[0m \u001b[0mmodel\u001b[0m\u001b[0;34m.\u001b[0m\u001b[0minput\u001b[0m\u001b[0;34m)\u001b[0m\u001b[0;34m[\u001b[0m\u001b[0;36m0\u001b[0m\u001b[0;34m]\u001b[0m\u001b[0;34m\u001b[0m\u001b[0;34m\u001b[0m\u001b[0m\n",
            "\u001b[0;32m/usr/local/lib/python3.6/dist-packages/tensorflow/python/keras/engine/training.py\u001b[0m in \u001b[0;36mget_layer\u001b[0;34m(self, name, index)\u001b[0m\n\u001b[1;32m   2396\u001b[0m         \u001b[0;32mif\u001b[0m \u001b[0mlayer\u001b[0m\u001b[0;34m.\u001b[0m\u001b[0mname\u001b[0m \u001b[0;34m==\u001b[0m \u001b[0mname\u001b[0m\u001b[0;34m:\u001b[0m\u001b[0;34m\u001b[0m\u001b[0;34m\u001b[0m\u001b[0m\n\u001b[1;32m   2397\u001b[0m           \u001b[0;32mreturn\u001b[0m \u001b[0mlayer\u001b[0m\u001b[0;34m\u001b[0m\u001b[0;34m\u001b[0m\u001b[0m\n\u001b[0;32m-> 2398\u001b[0;31m       \u001b[0;32mraise\u001b[0m \u001b[0mValueError\u001b[0m\u001b[0;34m(\u001b[0m\u001b[0;34m'No such layer: '\u001b[0m \u001b[0;34m+\u001b[0m \u001b[0mname\u001b[0m \u001b[0;34m+\u001b[0m \u001b[0;34m'.'\u001b[0m\u001b[0;34m)\u001b[0m\u001b[0;34m\u001b[0m\u001b[0;34m\u001b[0m\u001b[0m\n\u001b[0m\u001b[1;32m   2399\u001b[0m     \u001b[0;32mraise\u001b[0m \u001b[0mValueError\u001b[0m\u001b[0;34m(\u001b[0m\u001b[0;34m'Provide either a layer name or layer index.'\u001b[0m\u001b[0;34m)\u001b[0m\u001b[0;34m\u001b[0m\u001b[0;34m\u001b[0m\u001b[0m\n\u001b[1;32m   2400\u001b[0m \u001b[0;34m\u001b[0m\u001b[0m\n",
            "\u001b[0;31mValueError\u001b[0m: No such layer: conv2d_4."
          ]
        }
      ]
    },
    {
      "cell_type": "code",
      "metadata": {
        "id": "DEZzBHAqLSNz"
      },
      "source": [
        "test_loss, test_acc = model.evaluate(test_images, test_labels)\n",
        "test_acc"
      ],
      "execution_count": null,
      "outputs": []
    },
    {
      "cell_type": "code",
      "metadata": {
        "id": "9_cf0pgfEfVJ",
        "outputId": "9695e065-5f65-400c-936d-b8947a0c4f5f",
        "colab": {
          "base_uri": "https://localhost:8080/"
        }
      },
      "source": [
        "img_path = '/content/sample_data/45.jpg'\n",
        "\n",
        "from keras.preprocessing import image\n",
        "import numpy as np\n",
        "\n",
        "img = image.load_img(img_path, target_size=(150, 150))\n",
        "img_tensor = image.img_to_array(img)\n",
        "img_tensor = np.expand_dims(img_tensor, axis=0)\n",
        "img_tensor /= 255.\n",
        "#  Its shape is (1, 150, 150, 3)\n",
        "print(img_tensor.shape)"
      ],
      "execution_count": 23,
      "outputs": [
        {
          "output_type": "stream",
          "text": [
            "(1, 150, 150, 3)\n"
          ],
          "name": "stdout"
        }
      ]
    },
    {
      "cell_type": "code",
      "metadata": {
        "id": "8D_AbcqnGASs",
        "outputId": "71971d4d-8a0b-43ab-b06a-d095c02e5609",
        "colab": {
          "base_uri": "https://localhost:8080/"
        }
      },
      "source": [
        "img_tensor[0].shape"
      ],
      "execution_count": 24,
      "outputs": [
        {
          "output_type": "execute_result",
          "data": {
            "text/plain": [
              "(150, 150, 3)"
            ]
          },
          "metadata": {
            "tags": []
          },
          "execution_count": 24
        }
      ]
    },
    {
      "cell_type": "code",
      "metadata": {
        "id": "nkxrbI13FZyu"
      },
      "source": [
        "\n",
        "\n",
        "import matplotlib.pyplot as plt\n",
        "\n",
        "plt.imshow(img_tensor[0])\n",
        "plt.show()"
      ],
      "execution_count": null,
      "outputs": []
    },
    {
      "cell_type": "code",
      "metadata": {
        "id": "hU9PC99fHvjT"
      },
      "source": [
        "from keras import  models\n",
        "from keras import layers\n",
        "from keras import optimizers\n",
        "\n",
        "model = models.Sequential()\n",
        "model.add(layers.Conv2D(32, (3, 3), activation='relu',input_shape=(150, 150, 3)))\n",
        "model.add(layers.MaxPooling2D((2, 2)))\n",
        "model.add(layers.Conv2D(64, (3, 3), activation='relu'))\n",
        "model.add(layers.MaxPooling2D((2, 2)))\n",
        "model.add(layers.Conv2D(128, (3, 3), activation='relu'))\n",
        "model.add(layers.MaxPooling2D((2, 2)))\n",
        "model.add(layers.Conv2D(128, (3, 3), activation='relu'))\n",
        "model.add(layers.MaxPooling2D((2, 2)))\n",
        "model.add(layers.Flatten())\n",
        "model.add(layers.Dropout(0.5))\n",
        "model.add(layers.Dense(512, activation='relu'))\n",
        "model.add(layers.Dense(1, activation='sigmoid'))\n",
        "model.compile(loss='binary_crossentropy',\n",
        "optimizer=optimizers.RMSprop(lr=1e-4),\n",
        "metrics=['acc'])\n"
      ],
      "execution_count": null,
      "outputs": []
    },
    {
      "cell_type": "code",
      "metadata": {
        "id": "3N3s3-GOKhT0"
      },
      "source": [
        "model.input \n",
        "# Model class apart is that it allows for models with multiple outputs, unlike Sequential."
      ],
      "execution_count": null,
      "outputs": []
    },
    {
      "cell_type": "code",
      "metadata": {
        "id": "SpJthhfQHwuA"
      },
      "source": [
        "from keras import models\n",
        "\n",
        "layer_outputs = [layer.output for layer in model.layers[:8]]\n",
        "activation_model = models.Model(inputs=model.input, outputs=layer_outputs)\n",
        "\n",
        "activation_model"
      ],
      "execution_count": null,
      "outputs": []
    },
    {
      "cell_type": "code",
      "metadata": {
        "id": "M2qzclMMuQoX"
      },
      "source": [
        "activations = activation_model.predict(img_tensor)\n",
        "activations[7]"
      ],
      "execution_count": null,
      "outputs": []
    },
    {
      "cell_type": "code",
      "metadata": {
        "id": "imaR_UcWzCBp"
      },
      "source": [
        "first_layer_activation = activations[0]\n",
        "first_layer_activation1 = activations[1]\n",
        "first_layer_activation2 = activations[2]\n",
        "first_layer_activation3 = activations[3]\n",
        "first_layer_activation4= activations[4]\n",
        "first_layer_activation5 = activations[5]\n",
        "first_layer_activation6 = activations[6]\n",
        "first_layer_activation7 = activations[7]\n",
        "\n",
        "print(first_layer_activation.shape, first_layer_activation1.shape,first_layer_activation2.shape,first_layer_activation3.shape,\n",
        "      first_layer_activation4.shape,first_layer_activation5.shape,first_layer_activation6.shape,first_layer_activation7.shape)\n"
      ],
      "execution_count": null,
      "outputs": []
    },
    {
      "cell_type": "code",
      "metadata": {
        "id": "3Pdzh78q0Cka"
      },
      "source": [
        "import matplotlib.pyplot as plt\n",
        "plt.matshow(first_layer_activation[0, :, :, 4], cmap='viridis')\n",
        "\n",
        "# Fourth channel of the activation of the first layer on the test cat picture\n",
        "# This channel appears to encode a diagonal edge detector.\n",
        "# note that your own channels may vary, because the specific filters learned by convolution layers aren’t deterministic."
      ],
      "execution_count": null,
      "outputs": []
    },
    {
      "cell_type": "code",
      "metadata": {
        "id": "OZZKPRU00Ip8"
      },
      "source": [
        "plt.matshow(first_layer_activation[0, :, :, 7], cmap='viridis')"
      ],
      "execution_count": null,
      "outputs": []
    },
    {
      "cell_type": "code",
      "metadata": {
        "id": "qaPB1uvnPtrs"
      },
      "source": [
        "plt.matshow(first_layer_activation[0, :, :, 30], cmap='viridis')"
      ],
      "execution_count": null,
      "outputs": []
    },
    {
      "cell_type": "code",
      "metadata": {
        "id": "2A_Eq9i81GqV"
      },
      "source": [
        "layer_names = []\n",
        "for layer in model.layers[:8]:\n",
        "  layer.name\n",
        "  layer_names.append(layer.name)\n",
        "  \n",
        "images_per_row = 16\n",
        "\n",
        "for layer_name, layer_activation in zip(layer_names, activations): #display feature maps\n",
        "  n_features = layer_activation.shape[-1] #no. of features in a feature map\n",
        "  n_features\n",
        "\n",
        "  size = layer_activation.shape[1] #The feature map has shape(1, size, size, n_features).\n",
        "  size\n",
        "\n",
        "  n_cols = n_features // images_per_row\n",
        "  display_grid = np.zeros((size * n_cols, images_per_row * size))\n",
        "\n",
        "  for col in range(n_cols): #tiles each feature\n",
        "    for row in range(images_per_row):\n",
        "      channel_image = layer_activation[0,:, :,col * images_per_row + row]\n",
        "      channel_image -= channel_image.mean() \n",
        "      channel_image /= channel_image.std()\n",
        "      channel_image *= 64\n",
        "      channel_image += 128\n",
        "      channel_image = np.clip(channel_image, 0, 255).astype('uint8')\n",
        "      display_grid[col * size : (col + 1) * size,row * size : (row + 1) * size] = channel_image\n",
        "\n",
        "scale = 1. / size\n",
        "plt.figure(figsize=(scale * display_grid.shape[1],scale * display_grid.shape[0]))\n",
        "plt.title(layer_name)\n",
        "plt.grid(False)\n",
        "plt.imshow(display_grid, aspect='auto', cmap='viridis')"
      ],
      "execution_count": null,
      "outputs": []
    },
    {
      "cell_type": "code",
      "metadata": {
        "id": "QZpyT1rZ2bzJ"
      },
      "source": [
        "# There are a few things to note here:\n",
        "#  The first layer acts as a collection of various edge detectors. At that stage, the\n",
        "# activations retain almost all of the information present in the initial picture.\n",
        "#  As you go higher, the activations become increasingly abstract and less visually\n",
        "# interpretable. They begin to encode higher-level concepts such as “cat ear” and\n",
        "# “cat eye.” Higher presentations carry increasingly less information about the\n",
        "# visual contents of the image, and increasingly more information related to the\n",
        "# class of the image.\n",
        "#  The sparsity of the activations increases with the depth of the layer: in the first\n",
        "# layer, all filters are activated by the input image; but in the following layers,\n",
        "# more and more filters are blank. This means the pattern encoded by the filter\n",
        "# isn’t found in the input image.\n",
        "\n",
        "# We have just evidenced an important universal characteristic of the representations\n",
        "# learned by deep neural networks: the features extracted by a layer become increasingly\n",
        "# abstract with the depth of the layer. The activations of higher layers carry less\n",
        "# and less information about the specific input being seen, and more and more information\n",
        "# about the target (in this case, the class of the image: cat or dog). A deep neural\n",
        "# network effectively acts as an information distillation pipeline, with raw data going in\n",
        "# (in this case, RGB pictures) and being repeatedly transformed so that irrelevant information\n",
        "# is filtered out (for example, the specific visual appearance of the image), and\n",
        "# useful information is magnified and refined (for example, the class of the image)."
      ],
      "execution_count": null,
      "outputs": []
    }
  ]
}